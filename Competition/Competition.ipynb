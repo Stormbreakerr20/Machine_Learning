{
 "cells": [
  {
   "cell_type": "code",
   "execution_count": 5,
   "metadata": {},
   "outputs": [],
   "source": [
    "import pandas as pd\n",
    "import numpy as np\n",
    "import matplotlib.pyplot as plt\n",
    "csv_files = ['064.csv','070.csv','168.csv','226.csv','230.csv','319.csv','416.csv','559.csv','645.csv','958.csv']"
   ]
  },
  {
   "cell_type": "code",
   "execution_count": 6,
   "metadata": {},
   "outputs": [],
   "source": [
    "def fix_outliers_iqr(dataframe):\n",
    "    for column in dataframe.drop(columns=['Date']).columns:\n",
    "        Q1 = dataframe[column].quantile(0.25)\n",
    "        Q3 = dataframe[column].quantile(0.75)\n",
    "        IQR = Q3 - Q1\n",
    "        lower_limit = Q1 - 1.5 * IQR\n",
    "        upper_limit = Q3 + 1.5 * IQR\n",
    "        dataframe[column] = dataframe[column].apply(lambda x: lower_limit if x < lower_limit else upper_limit if x > upper_limit else x)\n"
   ]
  },
  {
   "cell_type": "code",
   "execution_count": 7,
   "metadata": {},
   "outputs": [],
   "source": [
    "def Moving_Avg(df):\n",
    "    # MOVING AVG\n",
    "    ma_100_days = df['Close'].rolling(100).mean()\n",
    "    plt.plot(df['Close'],c='r')\n",
    "    plt.plot(ma_100_days,c='b')\n",
    "    plt.show()\n"
   ]
  },
  {
   "cell_type": "code",
   "execution_count": 8,
   "metadata": {},
   "outputs": [],
   "source": [
    "from sklearn.preprocessing import MinMaxScaler\n",
    "def MinMaxScale(x):\n",
    "    mx = MinMaxScaler(feature_range=(0,1))\n",
    "    return mx.fit_transform(x), mx.scale_"
   ]
  },
  {
   "cell_type": "code",
   "execution_count": 9,
   "metadata": {},
   "outputs": [],
   "source": [
    "def x_y_splits_for_Mov_Avg_k(x_inp,k):\n",
    "    x = []\n",
    "    y = []\n",
    "\n",
    "    for i in range(k, x_inp.shape[0]):\n",
    "        x.append(x_inp[i - k:i])\n",
    "        y.append(x_inp[i,0])\n",
    "    x,y = np.array(x),np.array(y)\n",
    "    \n",
    "    return x,y"
   ]
  },
  {
   "cell_type": "markdown",
   "metadata": {},
   "source": [
    "# Keras"
   ]
  },
  {
   "cell_type": "code",
   "execution_count": 10,
   "metadata": {},
   "outputs": [],
   "source": [
    "from keras.layers import Dense,Dropout,LSTM\n",
    "from keras.models import Sequential\n",
    "import tensorflow as tf\n",
    "\n",
    "def Keras(xtrain_scaled,ytrain,xtest,epochs,batch_size):\n",
    "    model = Sequential()\n",
    "# Layers\n",
    "    model.add(LSTM(units=50,activation='relu',return_sequences=True,input_shape = ((x.shape[1],1))))\n",
    "    model.add(Dropout(0.2))\n",
    "\n",
    "    model.add(LSTM(units=60,activation='relu',return_sequences=True))\n",
    "    model.add(Dropout(0.3))\n",
    "\n",
    "    model.add(LSTM(units=80,activation='relu',return_sequences=True))\n",
    "    model.add(Dropout(0.4))\n",
    "\n",
    "    model.add(LSTM(units=120,activation='relu'))\n",
    "    model.add(Dropout(0.5))\n",
    "\n",
    "    model.add(Dense(units=1))\n",
    "\n",
    "    # compile\n",
    "    model.compile(optimizer=\"adam\",loss=\"mean_squared_error\")\n",
    "\n",
    "    # fit\n",
    "    model.fit(xtrain_scaled,ytrain,epochs=epochs,batch_size=batch_size,verbose=1)\n",
    "    for i in range(100):\n",
    "        pred = model.predict(np.array([xtest[-100:]]))\n",
    "        print(pred)\n",
    "        xtest = np.append(xtest,pred,axis=0)\n",
    "\n",
    "    # predict : return ytest scaled\n",
    "    return xtest[-100:]\n",
    "\n",
    "    "
   ]
  },
  {
   "cell_type": "code",
   "execution_count": 11,
   "metadata": {},
   "outputs": [],
   "source": [
    "def write_to_csv(y_pred,file):\n",
    "    data = {'ID': [f\"{file[:3]}_#{i}\" for i in range(1,101)], 'Price': y_pred.reshape((1,y_pred.shape[0])).ravel()[-100:]}\n",
    "    df = pd.DataFrame(data)\n",
    "    write_to = pd.read_csv('BitbyBit.csv')\n",
    "    updated_df = pd.concat([write_to, df], ignore_index=True)\n",
    "    updated_df.to_csv('BitbyBit.csv', index=False)"
   ]
  },
  {
   "cell_type": "code",
   "execution_count": 12,
   "metadata": {},
   "outputs": [
    {
     "name": "stdout",
     "output_type": "stream",
     "text": [
      "Epoch 1/27\n"
     ]
    }
   ],
   "source": [
    "for csv in csv_files:\n",
    "    df = pd.read_csv(f'./mine-the-model-2023/Upload-Dataset/TRAIN/{csv}').drop(columns=['Dividends','Stock Splits'])\n",
    "    df['Date']=pd.to_datetime(df['Date'])\n",
    "    df = df.reset_index(drop=True)\n",
    "    df.dropna(inplace=True)\n",
    "    # Fix Outliers\n",
    "    fix_outliers_iqr(df)\n",
    "\n",
    "    # Moving Avg\n",
    "    # Moving_Avg(df)\n",
    "\n",
    "    mx = MinMaxScaler(feature_range=(0,1))\n",
    "\n",
    "    Close = mx.fit_transform(np.array(df['Close']).reshape(-1,1))\n",
    "    # Split\n",
    "    # split_ratio = 0.9\n",
    "    # split_index = int(split_ratio * len(Close))\n",
    "    xtrain = pd.DataFrame(Close)\n",
    "    xtest= pd.DataFrame(Close[-100:])\n",
    "    # scale = mx.scale_\n",
    "    # Train\n",
    "    x = []\n",
    "    y = []\n",
    "    for i in range(100, xtrain.values.shape[0]):\n",
    "        x.append(xtrain.values[i - 100:i])\n",
    "        y.append(xtrain.values[i,0])\n",
    "\n",
    "    x,y = np.array(x),np.array(y)\n",
    "    # Predict and scale up\n",
    "    ypred = Keras(x,y,xtest,epochs=27,batch_size=32)\n",
    "    # Plots Save\n",
    "    plt.figure()\n",
    "    plt.plot([i for i in range(1,3001)], mx.inverse_transform(xtrain), 'r', label = 'Original Price')\n",
    "    plt.plot([i for i in range(3001,3101)],mx.inverse_transform(ypred) , 'g', label = 'Predicted Price')\n",
    "    plt.legend()\n",
    "    plt.title(f\"Plot for {csv}\")\n",
    "    plt.savefig(f'./Plots/{csv[:3]}')\n",
    "\n",
    "    # Into Csv\n",
    "    write_to_csv(mx.inverse_transform(ypred),csv)"
   ]
  }
 ],
 "metadata": {
  "kernelspec": {
   "display_name": "Python 3",
   "language": "python",
   "name": "python3"
  },
  "language_info": {
   "codemirror_mode": {
    "name": "ipython",
    "version": 3
   },
   "file_extension": ".py",
   "mimetype": "text/x-python",
   "name": "python",
   "nbconvert_exporter": "python",
   "pygments_lexer": "ipython3",
   "version": "3.11.4"
  }
 },
 "nbformat": 4,
 "nbformat_minor": 2
}
