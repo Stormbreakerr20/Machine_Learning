{
 "cells": [
  {
   "cell_type": "code",
   "execution_count": 2,
   "metadata": {},
   "outputs": [],
   "source": [
    "import pandas as pd"
   ]
  },
  {
   "cell_type": "code",
   "execution_count": 3,
   "metadata": {},
   "outputs": [
    {
     "name": "stdout",
     "output_type": "stream",
     "text": [
      "Statistical measures for Real Data = Mean: 21.214888105820148, Medain: 24.39437, Maximum: 31.375, Minimum: 0, STD:4.353512664832554\n"
     ]
    }
   ],
   "source": [
    "real = pd.read_csv('landslide_data_original.csv')\n",
    "\n",
    "temp_real = real['temperature'].tolist()\n",
    "\n",
    "sum_real,max_real,min_real= 0,0,0\n",
    "for i in temp_real:\n",
    "    sum_real+=i\n",
    "    if(i>max_real): max_real = i\n",
    "    if(i<min_real): min_real = i\n",
    "std_real = pow((sum([(i - (sum_real)/len(temp_real))**2 for i in temp_real])/len(temp_real)),0.5)\n",
    "\n",
    "sorted(temp_real)\n",
    "median_real = temp_real[len(temp_real)//2]\n",
    "\n",
    "print(f\"Statistical measures for Real Data = Mean: {sum_real/len(temp_real)}, Medain: {median_real}, Maximum: {max_real}, Minimum: {min_real}, STD:{std_real}\")\n"
   ]
  },
  {
   "cell_type": "code",
   "execution_count": 4,
   "metadata": {},
   "outputs": [
    {
     "name": "stdout",
     "output_type": "stream",
     "text": [
      "Statistical measures for Missing Data = Mean: 21.078545369738354, Medain: 26.83051, Maximum: 31.375, Minimum: 0, STD:4.241101248885387\n"
     ]
    }
   ],
   "source": [
    "miss = pd.read_csv('landslide_data_miss.csv')\n",
    "\n",
    "temp_miss = (miss['temperature'].dropna()).tolist()\n",
    "\n",
    "sum_miss,max_miss,min_miss= 0,0,0\n",
    "for i in temp_miss:\n",
    "    sum_miss+=i\n",
    "    if(i>max_miss): max_miss = i\n",
    "    if(i<min_miss): min_miss = i\n",
    "\n",
    "std_miss = pow(sum([(i - (sum_miss)/len(temp_miss))**2 for i in temp_miss])/len(temp_real),0.5)\n",
    "\n",
    "sorted(temp_miss)\n",
    "median_miss = temp_miss[len(temp_miss)//2]\n",
    "\n",
    "print(f\"Statistical measures for Missing Data = Mean: {sum_miss/len(temp_miss)}, Medain: {median_miss}, Maximum: {max_miss}, Minimum: {min_miss}, STD:{std_miss}\")\n",
    "\n"
   ]
  },
  {
   "cell_type": "code",
   "execution_count": null,
   "metadata": {},
   "outputs": [],
   "source": []
  }
 ],
 "metadata": {
  "kernelspec": {
   "display_name": "Python 3",
   "language": "python",
   "name": "python3"
  },
  "language_info": {
   "codemirror_mode": {
    "name": "ipython",
    "version": 3
   },
   "file_extension": ".py",
   "mimetype": "text/x-python",
   "name": "python",
   "nbconvert_exporter": "python",
   "pygments_lexer": "ipython3",
   "version": "3.11.4"
  },
  "orig_nbformat": 4
 },
 "nbformat": 4,
 "nbformat_minor": 2
}
