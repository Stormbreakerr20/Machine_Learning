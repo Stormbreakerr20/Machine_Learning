{
 "cells": [
  {
   "cell_type": "code",
   "execution_count": 1,
   "metadata": {},
   "outputs": [],
   "source": [
    "import pandas as pd\n",
    "import numpy as np"
   ]
  },
  {
   "cell_type": "code",
   "execution_count": 2,
   "metadata": {},
   "outputs": [],
   "source": [
    "real = pd.read_csv('landslide_data_original.csv')\n",
    "\n",
    "temperature = real['temperature'].tolist()\n",
    "humidity = real['humidity'].tolist()\n",
    "pressure = real['pressure'].tolist()\n",
    "rain = real['rain'].tolist()\n",
    "lightavg = real['lightavg'].tolist()\n",
    "lightmax = real['lightmax'].tolist()\n",
    "moisture = real['moisture'].tolist()"
   ]
  },
  {
   "cell_type": "code",
   "execution_count": 3,
   "metadata": {},
   "outputs": [],
   "source": [
    "def correlation(a,b):\n",
    "    x = np.array([i - sum(a)/len(a) for i in a])\n",
    "    y = np.array([i - sum(b)/len(b) for i in b])\n",
    "    numerator = np.dot(x,y)\n",
    "    denominator = pow(sum([(i - sum(a)/len(a))**2 for i in a])*sum([(i - sum(b)/len(b))**2 for i in b]),0.5)\n",
    "\n",
    "    return round(numerator/denominator,2)"
   ]
  },
  {
   "cell_type": "code",
   "execution_count": 4,
   "metadata": {},
   "outputs": [
    {
     "name": "stdout",
     "output_type": "stream",
     "text": [
      "\t\ttemperature\thumidity\tpressure\train\tlightavg\tlightmax\tmoisture\t\n",
      "temperature\t1.0\t\t0.4\t\t-0.18\t\t-0.11\t\t-0.18\t\t-0.15\t\t0.08\t\t\n",
      "humidity\t0.4\t\t1.0\t\t-0.11\t\t-0.43\t\t-0.26\t\t-0.24\t\t-0.0\t\t\n",
      "pressure\t-0.18\t\t-0.11\t\t1.0\t\t0.07\t\t0.08\t\t0.1\t\t-0.04\t\t\n",
      "rain\t\t-0.11\t\t-0.43\t\t0.07\t\t1.0\t\t0.53\t\t0.31\t\t0.43\t\t\n",
      "lightavg\t-0.18\t\t-0.26\t\t0.08\t\t0.53\t\t1.0\t\t0.62\t\t0.34\t\t\n",
      "lightmax\t-0.15\t\t-0.24\t\t0.1\t\t0.31\t\t0.62\t\t1.0\t\t0.01\t\t\n",
      "moisture\t0.08\t\t-0.0\t\t-0.04\t\t0.43\t\t0.34\t\t0.01\t\t1.0\t\t\n"
     ]
    }
   ],
   "source": [
    "temp = np.zeros((7,7))\n",
    "array = [temperature,humidity,pressure,rain,lightavg,lightmax,moisture]\n",
    "array1 = [\"temperature\",\"humidity\",\"pressure\",\"rain\",\"lightavg\",\"lightmax\",\"moisture\"]\n",
    "\n",
    "for i in range(7):\n",
    "    for j in range(7):\n",
    "        temp[i][j] = correlation(array[i],array[j])\n",
    "\n",
    "print(\"\\t\\t\",end=\"\")\n",
    "for i in array1: \n",
    "    print(i, end=\"\\t\")\n",
    "print()\n",
    "\n",
    "for i in range(7):\n",
    "    print(array1[i],end = \"\\t\")\n",
    "    if(array1[i]==\"rain\"): print(end = \"\\t\")\n",
    "    for k in temp[i]:\n",
    "        print(k,end = \"\\t\\t\")\n",
    "    print()"
   ]
  },
  {
   "cell_type": "code",
   "execution_count": 5,
   "metadata": {},
   "outputs": [
    {
     "data": {
      "text/html": [
       "<div>\n",
       "<style scoped>\n",
       "    .dataframe tbody tr th:only-of-type {\n",
       "        vertical-align: middle;\n",
       "    }\n",
       "\n",
       "    .dataframe tbody tr th {\n",
       "        vertical-align: top;\n",
       "    }\n",
       "\n",
       "    .dataframe thead th {\n",
       "        text-align: right;\n",
       "    }\n",
       "</style>\n",
       "<table border=\"1\" class=\"dataframe\">\n",
       "  <thead>\n",
       "    <tr style=\"text-align: right;\">\n",
       "      <th></th>\n",
       "      <th>temperature</th>\n",
       "      <th>humidity</th>\n",
       "      <th>pressure</th>\n",
       "      <th>rain</th>\n",
       "      <th>lightavg</th>\n",
       "      <th>lightmax</th>\n",
       "      <th>moisture</th>\n",
       "    </tr>\n",
       "  </thead>\n",
       "  <tbody>\n",
       "    <tr>\n",
       "      <th>temperature</th>\n",
       "      <td>1.000000</td>\n",
       "      <td>0.401570</td>\n",
       "      <td>-0.181389</td>\n",
       "      <td>-0.108893</td>\n",
       "      <td>-0.181400</td>\n",
       "      <td>-0.145884</td>\n",
       "      <td>0.080660</td>\n",
       "    </tr>\n",
       "    <tr>\n",
       "      <th>humidity</th>\n",
       "      <td>0.401570</td>\n",
       "      <td>1.000000</td>\n",
       "      <td>-0.106563</td>\n",
       "      <td>-0.434917</td>\n",
       "      <td>-0.258079</td>\n",
       "      <td>-0.244442</td>\n",
       "      <td>-0.002296</td>\n",
       "    </tr>\n",
       "    <tr>\n",
       "      <th>pressure</th>\n",
       "      <td>-0.181389</td>\n",
       "      <td>-0.106563</td>\n",
       "      <td>1.000000</td>\n",
       "      <td>0.070785</td>\n",
       "      <td>0.080186</td>\n",
       "      <td>0.099351</td>\n",
       "      <td>-0.036067</td>\n",
       "    </tr>\n",
       "    <tr>\n",
       "      <th>rain</th>\n",
       "      <td>-0.108893</td>\n",
       "      <td>-0.434917</td>\n",
       "      <td>0.070785</td>\n",
       "      <td>1.000000</td>\n",
       "      <td>0.527490</td>\n",
       "      <td>0.312843</td>\n",
       "      <td>0.426928</td>\n",
       "    </tr>\n",
       "    <tr>\n",
       "      <th>lightavg</th>\n",
       "      <td>-0.181400</td>\n",
       "      <td>-0.258079</td>\n",
       "      <td>0.080186</td>\n",
       "      <td>0.527490</td>\n",
       "      <td>1.000000</td>\n",
       "      <td>0.624435</td>\n",
       "      <td>0.339115</td>\n",
       "    </tr>\n",
       "    <tr>\n",
       "      <th>lightmax</th>\n",
       "      <td>-0.145884</td>\n",
       "      <td>-0.244442</td>\n",
       "      <td>0.099351</td>\n",
       "      <td>0.312843</td>\n",
       "      <td>0.624435</td>\n",
       "      <td>1.000000</td>\n",
       "      <td>0.005725</td>\n",
       "    </tr>\n",
       "    <tr>\n",
       "      <th>moisture</th>\n",
       "      <td>0.080660</td>\n",
       "      <td>-0.002296</td>\n",
       "      <td>-0.036067</td>\n",
       "      <td>0.426928</td>\n",
       "      <td>0.339115</td>\n",
       "      <td>0.005725</td>\n",
       "      <td>1.000000</td>\n",
       "    </tr>\n",
       "  </tbody>\n",
       "</table>\n",
       "</div>"
      ],
      "text/plain": [
       "             temperature  humidity  pressure      rain  lightavg  lightmax  \\\n",
       "temperature     1.000000  0.401570 -0.181389 -0.108893 -0.181400 -0.145884   \n",
       "humidity        0.401570  1.000000 -0.106563 -0.434917 -0.258079 -0.244442   \n",
       "pressure       -0.181389 -0.106563  1.000000  0.070785  0.080186  0.099351   \n",
       "rain           -0.108893 -0.434917  0.070785  1.000000  0.527490  0.312843   \n",
       "lightavg       -0.181400 -0.258079  0.080186  0.527490  1.000000  0.624435   \n",
       "lightmax       -0.145884 -0.244442  0.099351  0.312843  0.624435  1.000000   \n",
       "moisture        0.080660 -0.002296 -0.036067  0.426928  0.339115  0.005725   \n",
       "\n",
       "             moisture  \n",
       "temperature  0.080660  \n",
       "humidity    -0.002296  \n",
       "pressure    -0.036067  \n",
       "rain         0.426928  \n",
       "lightavg     0.339115  \n",
       "lightmax     0.005725  \n",
       "moisture     1.000000  "
      ]
     },
     "execution_count": 5,
     "metadata": {},
     "output_type": "execute_result"
    }
   ],
   "source": [
    "real.corr(numeric_only=True)  \n",
    "# pearson correlation"
   ]
  },
  {
   "cell_type": "code",
   "execution_count": 6,
   "metadata": {},
   "outputs": [
    {
     "name": "stdout",
     "output_type": "stream",
     "text": [
      "lightavg\n",
      "lightmax\n"
     ]
    }
   ],
   "source": [
    "for i in range(len(temp[4])):\n",
    "    if(temp[4][i]>=0.6 or temp[4][i]<=-0.6): print(array1[i])"
   ]
  }
 ],
 "metadata": {
  "kernelspec": {
   "display_name": "Python 3",
   "language": "python",
   "name": "python3"
  },
  "language_info": {
   "codemirror_mode": {
    "name": "ipython",
    "version": 3
   },
   "file_extension": ".py",
   "mimetype": "text/x-python",
   "name": "python",
   "nbconvert_exporter": "python",
   "pygments_lexer": "ipython3",
   "version": "3.11.4"
  },
  "orig_nbformat": 4
 },
 "nbformat": 4,
 "nbformat_minor": 2
}
