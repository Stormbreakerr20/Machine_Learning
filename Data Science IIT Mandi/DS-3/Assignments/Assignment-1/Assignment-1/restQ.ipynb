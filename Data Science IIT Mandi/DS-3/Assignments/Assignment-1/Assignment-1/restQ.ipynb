{
 "cells": [
  {
   "cell_type": "code",
   "execution_count": 1,
   "metadata": {},
   "outputs": [
    {
     "name": "stdout",
     "output_type": "stream",
     "text": [
      "          dates stationid  temperature  humidity     pressure      rain  \\\n",
      "10   21-07-2018       NaN     23.89076  94.53782  1009.268067    735.75   \n",
      "14   25-07-2018       NaN     23.18182  98.96970   800.000000       NaN   \n",
      "170  29-08-2018       NaN     27.60563  80.99296  1012.834225     20.25   \n",
      "174  02-09-2018       NaN     25.26667  88.57143  1012.892095      9.00   \n",
      "215  03-08-2018       NaN     26.77305  90.69504  1008.012766      6.75   \n",
      "259  22-09-2018       NaN     17.58571  99.00000  1018.952143    162.00   \n",
      "266  29-09-2018       NaN     21.81690  86.06338  1018.630986      0.00   \n",
      "283  16-10-2018       NaN     18.56028  63.29787  1020.489362      0.00   \n",
      "338  22-10-2018       NaN     13.00000  61.03704  1053.282778      0.00   \n",
      "383  26-07-2018       NaN     22.95556  99.00000  1007.257185   1111.50   \n",
      "408  20-08-2018       NaN     25.06475  98.25899  1009.263885    220.50   \n",
      "414  26-08-2018       NaN          NaN       NaN          NaN       NaN   \n",
      "415  27-08-2018       NaN          NaN       NaN          NaN       NaN   \n",
      "416  28-08-2018       NaN          NaN       NaN          NaN       NaN   \n",
      "462  04-08-2018       NaN          NaN       NaN          NaN       NaN   \n",
      "731  08-09-2018       NaN     23.13043  94.02899  1015.003478    587.25   \n",
      "733  10-09-2018       NaN     23.26429  96.76429  1016.671500    317.25   \n",
      "737  14-09-2018       NaN     22.00000  86.63830  1015.291560   1158.75   \n",
      "741  18-09-2018       NaN     21.31852  78.97037  1014.939407  25697.25   \n",
      "\n",
      "       lightavg  lightmax  moisture  \n",
      "10    6359.0779   54612.0    3.7647  \n",
      "14   12035.2787   54612.0    3.0000  \n",
      "170     45.0000    4000.0    0.0000  \n",
      "174     22.6269    4000.0    0.7048  \n",
      "215   4488.9103   54612.0    7.0426  \n",
      "259   4488.9103   54612.0    5.6286  \n",
      "266   4488.9103   54612.0    5.8944  \n",
      "283   4488.9103   54612.0    4.0000  \n",
      "338      0.0000    4000.0    0.0000  \n",
      "383     10.5750    4000.0   68.6074  \n",
      "408   1057.5570    4000.0   64.5108  \n",
      "414         NaN       NaN   67.7143  \n",
      "415         NaN       NaN   65.2432  \n",
      "416         NaN       NaN   64.7368  \n",
      "462         NaN       NaN       NaN  \n",
      "731   2339.4156    7623.0   97.0000  \n",
      "733   2559.3289    8002.0   97.0000  \n",
      "737   3761.6184    9674.0   97.0780  \n",
      "741   4779.3889    8310.0   90.8519  \n"
     ]
    }
   ],
   "source": [
    "import pandas as pd\n",
    "import matplotlib.pyplot as plt\n",
    "import numpy as np\n",
    "f = pd.read_csv('landslide_data_miss.csv')\n",
    "\n",
    "print(f[f['stationid'].isna()])"
   ]
  },
  {
   "cell_type": "code",
   "execution_count": 2,
   "metadata": {},
   "outputs": [
    {
     "name": "stdout",
     "output_type": "stream",
     "text": [
      "Index([], dtype='int64')\n"
     ]
    }
   ],
   "source": [
    "# M-1\n",
    "na_stationid_row = f[f['stationid'].isna()].index\n",
    "\n",
    "f.drop(na_stationid_row,inplace=True) #inplace: Drop occur in real df if true on false return a new df\n",
    "# M-2\n",
    "f.dropna(subset='stationid',inplace=True)\n",
    "\n",
    "na_stationid_row_updated = f[f['stationid'].isna()].index\n",
    "print(na_stationid_row_updated)"
   ]
  },
  {
   "cell_type": "code",
   "execution_count": 3,
   "metadata": {},
   "outputs": [
    {
     "name": "stdout",
     "output_type": "stream",
     "text": [
      "          dates stationid  temperature  humidity     pressure     rain  \\\n",
      "34   16-08-2018       t10          NaN       NaN          NaN      NaN   \n",
      "37   19-08-2018       t10     23.34058       NaN          NaN      NaN   \n",
      "42   24-08-2018       t10     21.92199  99.00000          NaN      NaN   \n",
      "49   31-08-2018       t10     22.52143  99.00000          NaN      NaN   \n",
      "50   01-09-2018       t10          NaN       NaN          NaN      NaN   \n",
      "63   14-09-2018       t10     20.84211  98.14286  1015.972932      NaN   \n",
      "66   17-09-2018       t10          NaN  90.54545          NaN      0.0   \n",
      "81   02-10-2018       t10          NaN       NaN          NaN      NaN   \n",
      "136  11-07-2018       t11          NaN       NaN          NaN      NaN   \n",
      "244  07-09-2018       t12          NaN       NaN          NaN      NaN   \n",
      "253  16-09-2018       t12          NaN       NaN          NaN      NaN   \n",
      "367  06-07-2018       t14          NaN  67.31646   899.208797  80000.0   \n",
      "368  07-07-2018       t14          NaN       NaN          NaN  80000.0   \n",
      "369  08-07-2018       t14          NaN       NaN          NaN  80000.0   \n",
      "456  29-07-2018       t15          NaN       NaN          NaN      NaN   \n",
      "457  30-07-2018       t15          NaN       NaN          NaN      NaN   \n",
      "458  31-07-2018       t15          NaN       NaN          NaN      NaN   \n",
      "459  01-08-2018       t15          NaN       NaN          NaN      NaN   \n",
      "460  02-08-2018       t15          NaN       NaN          NaN      NaN   \n",
      "461  03-08-2018       t15          NaN       NaN          NaN      NaN   \n",
      "463  05-08-2018       t15          NaN       NaN          NaN      NaN   \n",
      "465  07-08-2018       t15     21.35000       NaN          NaN      NaN   \n",
      "471  13-08-2018       t15          NaN       NaN          NaN      NaN   \n",
      "479  21-08-2018       t15          NaN       NaN          NaN      NaN   \n",
      "480  22-08-2018       t15          NaN       NaN          NaN      NaN   \n",
      "481  23-08-2018       t15          NaN       NaN          NaN      NaN   \n",
      "482  24-08-2018       t15          NaN       NaN          NaN      NaN   \n",
      "483  25-08-2018       t15          NaN       NaN          NaN      NaN   \n",
      "771  18-10-2018        t8          NaN       NaN          NaN      NaN   \n",
      "784  31-10-2018        t8          NaN       NaN          NaN      NaN   \n",
      "\n",
      "      lightavg  lightmax  moisture  \n",
      "34   4237.6709       NaN       NaN  \n",
      "37         NaN       NaN       NaN  \n",
      "42         NaN       NaN       NaN  \n",
      "49         NaN       NaN   23.4929  \n",
      "50   2844.4684   12538.0   24.1053  \n",
      "63         NaN       NaN       NaN  \n",
      "66         NaN   11103.0       NaN  \n",
      "81   5882.7260   54612.0    0.1079  \n",
      "136  2254.2024   54612.0    5.7746  \n",
      "244        NaN   54612.0    6.1643  \n",
      "253        NaN       NaN    5.6127  \n",
      "367        NaN       NaN       NaN  \n",
      "368        NaN       NaN       NaN  \n",
      "369        NaN       NaN       NaN  \n",
      "456        NaN       NaN       NaN  \n",
      "457        NaN       NaN       NaN  \n",
      "458        NaN       NaN       NaN  \n",
      "459        NaN       NaN       NaN  \n",
      "460        NaN       NaN       NaN  \n",
      "461        NaN       NaN       NaN  \n",
      "463        NaN       NaN       NaN  \n",
      "465        NaN       NaN       NaN  \n",
      "471        NaN       NaN       NaN  \n",
      "479        NaN       NaN       NaN  \n",
      "480        NaN       NaN       NaN  \n",
      "481        NaN       NaN       NaN  \n",
      "482        NaN       NaN       NaN  \n",
      "483        NaN       NaN       NaN  \n",
      "771        NaN       NaN   87.1079  \n",
      "784        NaN       NaN       NaN  \n"
     ]
    }
   ],
   "source": [
    "Total_attributes = len(f.columns)\n",
    "nan_count = f.isna().sum(axis=1)\n",
    "f_more_than_threenan = f[nan_count>int(Total_attributes/3)]\n",
    "\n",
    "print(f_more_than_threenan)"
   ]
  },
  {
   "cell_type": "code",
   "execution_count": 4,
   "metadata": {},
   "outputs": [],
   "source": [
    "f.drop(f_more_than_threenan.index,inplace=True)"
   ]
  },
  {
   "cell_type": "code",
   "execution_count": 5,
   "metadata": {},
   "outputs": [
    {
     "name": "stdout",
     "output_type": "stream",
     "text": [
      "Empty DataFrame\n",
      "Columns: [dates, stationid, temperature, humidity, pressure, rain, lightavg, lightmax, moisture]\n",
      "Index: []\n"
     ]
    }
   ],
   "source": [
    "nan_count = f.isna().sum(axis=1)\n",
    "f_more_than_threenan = f[nan_count>3]\n",
    "print(f_more_than_threenan)"
   ]
  },
  {
   "cell_type": "markdown",
   "metadata": {},
   "source": [
    "# Interpolation"
   ]
  },
  {
   "cell_type": "code",
   "execution_count": 6,
   "metadata": {},
   "outputs": [
    {
     "data": {
      "text/html": [
       "<div>\n",
       "<style scoped>\n",
       "    .dataframe tbody tr th:only-of-type {\n",
       "        vertical-align: middle;\n",
       "    }\n",
       "\n",
       "    .dataframe tbody tr th {\n",
       "        vertical-align: top;\n",
       "    }\n",
       "\n",
       "    .dataframe thead th {\n",
       "        text-align: right;\n",
       "    }\n",
       "</style>\n",
       "<table border=\"1\" class=\"dataframe\">\n",
       "  <thead>\n",
       "    <tr style=\"text-align: right;\">\n",
       "      <th></th>\n",
       "      <th>dates</th>\n",
       "      <th>stationid</th>\n",
       "      <th>temperature</th>\n",
       "      <th>humidity</th>\n",
       "      <th>pressure</th>\n",
       "      <th>rain</th>\n",
       "      <th>lightavg</th>\n",
       "      <th>lightmax</th>\n",
       "      <th>moisture</th>\n",
       "    </tr>\n",
       "  </thead>\n",
       "  <tbody>\n",
       "    <tr>\n",
       "      <th>0</th>\n",
       "      <td>08-07-2018</td>\n",
       "      <td>t10</td>\n",
       "      <td>25.46875</td>\n",
       "      <td>82.18750</td>\n",
       "      <td>1036.346875</td>\n",
       "      <td>6.75</td>\n",
       "      <td>5.5000</td>\n",
       "      <td>4000.0</td>\n",
       "      <td>0.0000</td>\n",
       "    </tr>\n",
       "    <tr>\n",
       "      <th>1</th>\n",
       "      <td>09-07-2018</td>\n",
       "      <td>t10</td>\n",
       "      <td>26.19298</td>\n",
       "      <td>83.14912</td>\n",
       "      <td>1037.604386</td>\n",
       "      <td>1761.75</td>\n",
       "      <td>11.8448</td>\n",
       "      <td>4000.0</td>\n",
       "      <td>5.6930</td>\n",
       "    </tr>\n",
       "    <tr>\n",
       "      <th>2</th>\n",
       "      <td>10-07-2018</td>\n",
       "      <td>t10</td>\n",
       "      <td>25.17021</td>\n",
       "      <td>85.34043</td>\n",
       "      <td>1037.889362</td>\n",
       "      <td>652.50</td>\n",
       "      <td>8.7692</td>\n",
       "      <td>4000.0</td>\n",
       "      <td>NaN</td>\n",
       "    </tr>\n",
       "    <tr>\n",
       "      <th>3</th>\n",
       "      <td>11-07-2018</td>\n",
       "      <td>t10</td>\n",
       "      <td>NaN</td>\n",
       "      <td>87.68657</td>\n",
       "      <td>1036.857463</td>\n",
       "      <td>963.00</td>\n",
       "      <td>8.8358</td>\n",
       "      <td>4000.0</td>\n",
       "      <td>6.0373</td>\n",
       "    </tr>\n",
       "    <tr>\n",
       "      <th>4</th>\n",
       "      <td>12-07-2018</td>\n",
       "      <td>t10</td>\n",
       "      <td>24.06923</td>\n",
       "      <td>87.64615</td>\n",
       "      <td>1027.830769</td>\n",
       "      <td>254.25</td>\n",
       "      <td>274.6232</td>\n",
       "      <td>4333.0</td>\n",
       "      <td>31.2385</td>\n",
       "    </tr>\n",
       "    <tr>\n",
       "      <th>...</th>\n",
       "      <td>...</td>\n",
       "      <td>...</td>\n",
       "      <td>...</td>\n",
       "      <td>...</td>\n",
       "      <td>...</td>\n",
       "      <td>...</td>\n",
       "      <td>...</td>\n",
       "      <td>...</td>\n",
       "      <td>...</td>\n",
       "    </tr>\n",
       "    <tr>\n",
       "      <th>940</th>\n",
       "      <td>21-11-2018</td>\n",
       "      <td>t9</td>\n",
       "      <td>NaN</td>\n",
       "      <td>58.69630</td>\n",
       "      <td>1026.797407</td>\n",
       "      <td>73577.25</td>\n",
       "      <td>5521.1231</td>\n",
       "      <td>47460.0</td>\n",
       "      <td>54.4222</td>\n",
       "    </tr>\n",
       "    <tr>\n",
       "      <th>941</th>\n",
       "      <td>22-11-2018</td>\n",
       "      <td>t9</td>\n",
       "      <td>15.52482</td>\n",
       "      <td>63.16312</td>\n",
       "      <td>1027.495248</td>\n",
       "      <td>65301.75</td>\n",
       "      <td>5521.1231</td>\n",
       "      <td>47460.0</td>\n",
       "      <td>54.5674</td>\n",
       "    </tr>\n",
       "    <tr>\n",
       "      <th>942</th>\n",
       "      <td>23-11-2018</td>\n",
       "      <td>t9</td>\n",
       "      <td>15.81560</td>\n",
       "      <td>59.21277</td>\n",
       "      <td>1029.318511</td>\n",
       "      <td>73534.50</td>\n",
       "      <td>5521.1231</td>\n",
       "      <td>47460.0</td>\n",
       "      <td>54.8794</td>\n",
       "    </tr>\n",
       "    <tr>\n",
       "      <th>943</th>\n",
       "      <td>24-11-2018</td>\n",
       "      <td>t9</td>\n",
       "      <td>16.58571</td>\n",
       "      <td>54.63571</td>\n",
       "      <td>1026.776357</td>\n",
       "      <td>72283.50</td>\n",
       "      <td>5521.1231</td>\n",
       "      <td>47460.0</td>\n",
       "      <td>55.0286</td>\n",
       "    </tr>\n",
       "    <tr>\n",
       "      <th>944</th>\n",
       "      <td>25-11-2018</td>\n",
       "      <td>t9</td>\n",
       "      <td>17.90000</td>\n",
       "      <td>49.41000</td>\n",
       "      <td>1026.771200</td>\n",
       "      <td>71799.75</td>\n",
       "      <td>5783.7581</td>\n",
       "      <td>47460.0</td>\n",
       "      <td>55.3400</td>\n",
       "    </tr>\n",
       "  </tbody>\n",
       "</table>\n",
       "<p>945 rows × 9 columns</p>\n",
       "</div>"
      ],
      "text/plain": [
       "          dates stationid  temperature  humidity     pressure      rain  \\\n",
       "0    08-07-2018       t10     25.46875  82.18750  1036.346875      6.75   \n",
       "1    09-07-2018       t10     26.19298  83.14912  1037.604386   1761.75   \n",
       "2    10-07-2018       t10     25.17021  85.34043  1037.889362    652.50   \n",
       "3    11-07-2018       t10          NaN  87.68657  1036.857463    963.00   \n",
       "4    12-07-2018       t10     24.06923  87.64615  1027.830769    254.25   \n",
       "..          ...       ...          ...       ...          ...       ...   \n",
       "940  21-11-2018        t9          NaN  58.69630  1026.797407  73577.25   \n",
       "941  22-11-2018        t9     15.52482  63.16312  1027.495248  65301.75   \n",
       "942  23-11-2018        t9     15.81560  59.21277  1029.318511  73534.50   \n",
       "943  24-11-2018        t9     16.58571  54.63571  1026.776357  72283.50   \n",
       "944  25-11-2018        t9     17.90000  49.41000  1026.771200  71799.75   \n",
       "\n",
       "      lightavg  lightmax  moisture  \n",
       "0       5.5000    4000.0    0.0000  \n",
       "1      11.8448    4000.0    5.6930  \n",
       "2       8.7692    4000.0       NaN  \n",
       "3       8.8358    4000.0    6.0373  \n",
       "4     274.6232    4333.0   31.2385  \n",
       "..         ...       ...       ...  \n",
       "940  5521.1231   47460.0   54.4222  \n",
       "941  5521.1231   47460.0   54.5674  \n",
       "942  5521.1231   47460.0   54.8794  \n",
       "943  5521.1231   47460.0   55.0286  \n",
       "944  5783.7581   47460.0   55.3400  \n",
       "\n",
       "[945 rows x 9 columns]"
      ]
     },
     "execution_count": 6,
     "metadata": {},
     "output_type": "execute_result"
    }
   ],
   "source": [
    "import pandas as pd\n",
    "df = pd.read_csv('landslide_data_miss.csv')\n",
    "original = pd.read_csv('landslide_data_original.csv')\n",
    "\n",
    "cols = df.columns.tolist()\n",
    "\n",
    "df"
   ]
  },
  {
   "cell_type": "code",
   "execution_count": 7,
   "metadata": {},
   "outputs": [],
   "source": [
    "def interpolation(cols):\n",
    "    for index,row in df.iterrows():\n",
    "        for j in cols:\n",
    "            if(j!='stationid' and j!='dates'):\n",
    "                if(pd.isna(row[j]) and index + 1<len(df['dates']) and index - 1>=0):\n",
    "                    index_up = index - 1\n",
    "                    index_down = index + 1\n",
    "\n",
    "                    while(pd.isna(df.iloc[index_up][j]) and index_up>0): index_up-=1\n",
    "                    while(pd.isna(df.iloc[index_down][j]) and index_down<len(df['dates'])): index_down+=1\n",
    "\n",
    "                    valup = df.iloc[index_up][j]\n",
    "                    valdown = df.iloc[index_down][j]\n",
    "\n",
    "                    navalfill = ((valup - valdown)/(index_up - index_down))*(index - index_up) + valup\n",
    "\n",
    "                    df.at[index,j] = navalfill"
   ]
  },
  {
   "cell_type": "code",
   "execution_count": 8,
   "metadata": {},
   "outputs": [
    {
     "data": {
      "text/html": [
       "<div>\n",
       "<style scoped>\n",
       "    .dataframe tbody tr th:only-of-type {\n",
       "        vertical-align: middle;\n",
       "    }\n",
       "\n",
       "    .dataframe tbody tr th {\n",
       "        vertical-align: top;\n",
       "    }\n",
       "\n",
       "    .dataframe thead th {\n",
       "        text-align: right;\n",
       "    }\n",
       "</style>\n",
       "<table border=\"1\" class=\"dataframe\">\n",
       "  <thead>\n",
       "    <tr style=\"text-align: right;\">\n",
       "      <th></th>\n",
       "      <th>dates</th>\n",
       "      <th>stationid</th>\n",
       "      <th>temperature</th>\n",
       "      <th>humidity</th>\n",
       "      <th>pressure</th>\n",
       "      <th>rain</th>\n",
       "      <th>lightavg</th>\n",
       "      <th>lightmax</th>\n",
       "      <th>moisture</th>\n",
       "    </tr>\n",
       "  </thead>\n",
       "  <tbody>\n",
       "    <tr>\n",
       "      <th>0</th>\n",
       "      <td>08-07-2018</td>\n",
       "      <td>t10</td>\n",
       "      <td>25.46875</td>\n",
       "      <td>82.18750</td>\n",
       "      <td>1036.346875</td>\n",
       "      <td>6.75</td>\n",
       "      <td>5.5000</td>\n",
       "      <td>4000.0</td>\n",
       "      <td>0.00000</td>\n",
       "    </tr>\n",
       "    <tr>\n",
       "      <th>1</th>\n",
       "      <td>09-07-2018</td>\n",
       "      <td>t10</td>\n",
       "      <td>26.19298</td>\n",
       "      <td>83.14912</td>\n",
       "      <td>1037.604386</td>\n",
       "      <td>1761.75</td>\n",
       "      <td>11.8448</td>\n",
       "      <td>4000.0</td>\n",
       "      <td>5.69300</td>\n",
       "    </tr>\n",
       "    <tr>\n",
       "      <th>2</th>\n",
       "      <td>10-07-2018</td>\n",
       "      <td>t10</td>\n",
       "      <td>25.17021</td>\n",
       "      <td>85.34043</td>\n",
       "      <td>1037.889362</td>\n",
       "      <td>652.50</td>\n",
       "      <td>8.7692</td>\n",
       "      <td>4000.0</td>\n",
       "      <td>5.86515</td>\n",
       "    </tr>\n",
       "    <tr>\n",
       "      <th>3</th>\n",
       "      <td>11-07-2018</td>\n",
       "      <td>t10</td>\n",
       "      <td>24.61972</td>\n",
       "      <td>87.68657</td>\n",
       "      <td>1036.857463</td>\n",
       "      <td>963.00</td>\n",
       "      <td>8.8358</td>\n",
       "      <td>4000.0</td>\n",
       "      <td>6.03730</td>\n",
       "    </tr>\n",
       "    <tr>\n",
       "      <th>4</th>\n",
       "      <td>12-07-2018</td>\n",
       "      <td>t10</td>\n",
       "      <td>24.06923</td>\n",
       "      <td>87.64615</td>\n",
       "      <td>1027.830769</td>\n",
       "      <td>254.25</td>\n",
       "      <td>274.6232</td>\n",
       "      <td>4333.0</td>\n",
       "      <td>31.23850</td>\n",
       "    </tr>\n",
       "    <tr>\n",
       "      <th>...</th>\n",
       "      <td>...</td>\n",
       "      <td>...</td>\n",
       "      <td>...</td>\n",
       "      <td>...</td>\n",
       "      <td>...</td>\n",
       "      <td>...</td>\n",
       "      <td>...</td>\n",
       "      <td>...</td>\n",
       "      <td>...</td>\n",
       "    </tr>\n",
       "    <tr>\n",
       "      <th>940</th>\n",
       "      <td>21-11-2018</td>\n",
       "      <td>t9</td>\n",
       "      <td>13.80851</td>\n",
       "      <td>58.69630</td>\n",
       "      <td>1026.797407</td>\n",
       "      <td>73577.25</td>\n",
       "      <td>5521.1231</td>\n",
       "      <td>47460.0</td>\n",
       "      <td>54.42220</td>\n",
       "    </tr>\n",
       "    <tr>\n",
       "      <th>941</th>\n",
       "      <td>22-11-2018</td>\n",
       "      <td>t9</td>\n",
       "      <td>15.52482</td>\n",
       "      <td>63.16312</td>\n",
       "      <td>1027.495248</td>\n",
       "      <td>65301.75</td>\n",
       "      <td>5521.1231</td>\n",
       "      <td>47460.0</td>\n",
       "      <td>54.56740</td>\n",
       "    </tr>\n",
       "    <tr>\n",
       "      <th>942</th>\n",
       "      <td>23-11-2018</td>\n",
       "      <td>t9</td>\n",
       "      <td>15.81560</td>\n",
       "      <td>59.21277</td>\n",
       "      <td>1029.318511</td>\n",
       "      <td>73534.50</td>\n",
       "      <td>5521.1231</td>\n",
       "      <td>47460.0</td>\n",
       "      <td>54.87940</td>\n",
       "    </tr>\n",
       "    <tr>\n",
       "      <th>943</th>\n",
       "      <td>24-11-2018</td>\n",
       "      <td>t9</td>\n",
       "      <td>16.58571</td>\n",
       "      <td>54.63571</td>\n",
       "      <td>1026.776357</td>\n",
       "      <td>72283.50</td>\n",
       "      <td>5521.1231</td>\n",
       "      <td>47460.0</td>\n",
       "      <td>55.02860</td>\n",
       "    </tr>\n",
       "    <tr>\n",
       "      <th>944</th>\n",
       "      <td>25-11-2018</td>\n",
       "      <td>t9</td>\n",
       "      <td>17.90000</td>\n",
       "      <td>49.41000</td>\n",
       "      <td>1026.771200</td>\n",
       "      <td>71799.75</td>\n",
       "      <td>5783.7581</td>\n",
       "      <td>47460.0</td>\n",
       "      <td>55.34000</td>\n",
       "    </tr>\n",
       "  </tbody>\n",
       "</table>\n",
       "<p>945 rows × 9 columns</p>\n",
       "</div>"
      ],
      "text/plain": [
       "          dates stationid  temperature  humidity     pressure      rain  \\\n",
       "0    08-07-2018       t10     25.46875  82.18750  1036.346875      6.75   \n",
       "1    09-07-2018       t10     26.19298  83.14912  1037.604386   1761.75   \n",
       "2    10-07-2018       t10     25.17021  85.34043  1037.889362    652.50   \n",
       "3    11-07-2018       t10     24.61972  87.68657  1036.857463    963.00   \n",
       "4    12-07-2018       t10     24.06923  87.64615  1027.830769    254.25   \n",
       "..          ...       ...          ...       ...          ...       ...   \n",
       "940  21-11-2018        t9     13.80851  58.69630  1026.797407  73577.25   \n",
       "941  22-11-2018        t9     15.52482  63.16312  1027.495248  65301.75   \n",
       "942  23-11-2018        t9     15.81560  59.21277  1029.318511  73534.50   \n",
       "943  24-11-2018        t9     16.58571  54.63571  1026.776357  72283.50   \n",
       "944  25-11-2018        t9     17.90000  49.41000  1026.771200  71799.75   \n",
       "\n",
       "      lightavg  lightmax  moisture  \n",
       "0       5.5000    4000.0   0.00000  \n",
       "1      11.8448    4000.0   5.69300  \n",
       "2       8.7692    4000.0   5.86515  \n",
       "3       8.8358    4000.0   6.03730  \n",
       "4     274.6232    4333.0  31.23850  \n",
       "..         ...       ...       ...  \n",
       "940  5521.1231   47460.0  54.42220  \n",
       "941  5521.1231   47460.0  54.56740  \n",
       "942  5521.1231   47460.0  54.87940  \n",
       "943  5521.1231   47460.0  55.02860  \n",
       "944  5783.7581   47460.0  55.34000  \n",
       "\n",
       "[945 rows x 9 columns]"
      ]
     },
     "execution_count": 8,
     "metadata": {},
     "output_type": "execute_result"
    }
   ],
   "source": [
    "interpolation(cols)\n",
    "df"
   ]
  },
  {
   "cell_type": "code",
   "execution_count": 9,
   "metadata": {},
   "outputs": [
    {
     "data": {
      "text/plain": [
       "dates           0\n",
       "stationid      19\n",
       "temperature     0\n",
       "humidity        0\n",
       "pressure        0\n",
       "rain            0\n",
       "lightavg        0\n",
       "lightmax        0\n",
       "moisture        0\n",
       "dtype: int64"
      ]
     },
     "execution_count": 9,
     "metadata": {},
     "output_type": "execute_result"
    }
   ],
   "source": [
    "df.isnull().sum()"
   ]
  },
  {
   "cell_type": "code",
   "execution_count": 10,
   "metadata": {},
   "outputs": [
    {
     "data": {
      "text/html": [
       "<div>\n",
       "<style scoped>\n",
       "    .dataframe tbody tr th:only-of-type {\n",
       "        vertical-align: middle;\n",
       "    }\n",
       "\n",
       "    .dataframe tbody tr th {\n",
       "        vertical-align: top;\n",
       "    }\n",
       "\n",
       "    .dataframe thead th {\n",
       "        text-align: right;\n",
       "    }\n",
       "</style>\n",
       "<table border=\"1\" class=\"dataframe\">\n",
       "  <thead>\n",
       "    <tr style=\"text-align: right;\">\n",
       "      <th></th>\n",
       "      <th>dates</th>\n",
       "      <th>stationid</th>\n",
       "      <th>temperature</th>\n",
       "      <th>humidity</th>\n",
       "      <th>pressure</th>\n",
       "      <th>rain</th>\n",
       "      <th>lightavg</th>\n",
       "      <th>lightmax</th>\n",
       "      <th>moisture</th>\n",
       "    </tr>\n",
       "  </thead>\n",
       "  <tbody>\n",
       "    <tr>\n",
       "      <th>0</th>\n",
       "      <td>08-07-2018</td>\n",
       "      <td>t10</td>\n",
       "      <td>25.46875</td>\n",
       "      <td>82.18750</td>\n",
       "      <td>1036.346875</td>\n",
       "      <td>6.75</td>\n",
       "      <td>5.5000</td>\n",
       "      <td>4000</td>\n",
       "      <td>0.0000</td>\n",
       "    </tr>\n",
       "    <tr>\n",
       "      <th>1</th>\n",
       "      <td>09-07-2018</td>\n",
       "      <td>t10</td>\n",
       "      <td>26.19298</td>\n",
       "      <td>83.14912</td>\n",
       "      <td>1037.604386</td>\n",
       "      <td>1761.75</td>\n",
       "      <td>11.8448</td>\n",
       "      <td>4000</td>\n",
       "      <td>5.6930</td>\n",
       "    </tr>\n",
       "    <tr>\n",
       "      <th>2</th>\n",
       "      <td>10-07-2018</td>\n",
       "      <td>t10</td>\n",
       "      <td>25.17021</td>\n",
       "      <td>85.34043</td>\n",
       "      <td>1037.889362</td>\n",
       "      <td>652.50</td>\n",
       "      <td>8.7692</td>\n",
       "      <td>4000</td>\n",
       "      <td>6.8511</td>\n",
       "    </tr>\n",
       "    <tr>\n",
       "      <th>3</th>\n",
       "      <td>11-07-2018</td>\n",
       "      <td>t10</td>\n",
       "      <td>24.29851</td>\n",
       "      <td>87.68657</td>\n",
       "      <td>1036.857463</td>\n",
       "      <td>963.00</td>\n",
       "      <td>8.8358</td>\n",
       "      <td>4000</td>\n",
       "      <td>6.0373</td>\n",
       "    </tr>\n",
       "    <tr>\n",
       "      <th>4</th>\n",
       "      <td>12-07-2018</td>\n",
       "      <td>t10</td>\n",
       "      <td>24.06923</td>\n",
       "      <td>87.64615</td>\n",
       "      <td>1027.830769</td>\n",
       "      <td>254.25</td>\n",
       "      <td>274.6232</td>\n",
       "      <td>4333</td>\n",
       "      <td>31.2385</td>\n",
       "    </tr>\n",
       "    <tr>\n",
       "      <th>...</th>\n",
       "      <td>...</td>\n",
       "      <td>...</td>\n",
       "      <td>...</td>\n",
       "      <td>...</td>\n",
       "      <td>...</td>\n",
       "      <td>...</td>\n",
       "      <td>...</td>\n",
       "      <td>...</td>\n",
       "      <td>...</td>\n",
       "    </tr>\n",
       "    <tr>\n",
       "      <th>940</th>\n",
       "      <td>21-11-2018</td>\n",
       "      <td>t9</td>\n",
       "      <td>16.65926</td>\n",
       "      <td>58.69630</td>\n",
       "      <td>1026.797407</td>\n",
       "      <td>73577.25</td>\n",
       "      <td>5521.1231</td>\n",
       "      <td>47460</td>\n",
       "      <td>54.4222</td>\n",
       "    </tr>\n",
       "    <tr>\n",
       "      <th>941</th>\n",
       "      <td>22-11-2018</td>\n",
       "      <td>t9</td>\n",
       "      <td>15.52482</td>\n",
       "      <td>63.16312</td>\n",
       "      <td>1027.495248</td>\n",
       "      <td>65301.75</td>\n",
       "      <td>5521.1231</td>\n",
       "      <td>47460</td>\n",
       "      <td>54.5674</td>\n",
       "    </tr>\n",
       "    <tr>\n",
       "      <th>942</th>\n",
       "      <td>23-11-2018</td>\n",
       "      <td>t9</td>\n",
       "      <td>15.81560</td>\n",
       "      <td>59.21277</td>\n",
       "      <td>1029.318511</td>\n",
       "      <td>73534.50</td>\n",
       "      <td>5521.1231</td>\n",
       "      <td>47460</td>\n",
       "      <td>54.8794</td>\n",
       "    </tr>\n",
       "    <tr>\n",
       "      <th>943</th>\n",
       "      <td>24-11-2018</td>\n",
       "      <td>t9</td>\n",
       "      <td>16.58571</td>\n",
       "      <td>54.63571</td>\n",
       "      <td>1026.776357</td>\n",
       "      <td>72283.50</td>\n",
       "      <td>5521.1231</td>\n",
       "      <td>47460</td>\n",
       "      <td>55.0286</td>\n",
       "    </tr>\n",
       "    <tr>\n",
       "      <th>944</th>\n",
       "      <td>25-11-2018</td>\n",
       "      <td>t9</td>\n",
       "      <td>17.90000</td>\n",
       "      <td>49.41000</td>\n",
       "      <td>1026.771200</td>\n",
       "      <td>71799.75</td>\n",
       "      <td>5783.7581</td>\n",
       "      <td>47460</td>\n",
       "      <td>55.3400</td>\n",
       "    </tr>\n",
       "  </tbody>\n",
       "</table>\n",
       "<p>945 rows × 9 columns</p>\n",
       "</div>"
      ],
      "text/plain": [
       "          dates stationid  temperature  humidity     pressure      rain  \\\n",
       "0    08-07-2018       t10     25.46875  82.18750  1036.346875      6.75   \n",
       "1    09-07-2018       t10     26.19298  83.14912  1037.604386   1761.75   \n",
       "2    10-07-2018       t10     25.17021  85.34043  1037.889362    652.50   \n",
       "3    11-07-2018       t10     24.29851  87.68657  1036.857463    963.00   \n",
       "4    12-07-2018       t10     24.06923  87.64615  1027.830769    254.25   \n",
       "..          ...       ...          ...       ...          ...       ...   \n",
       "940  21-11-2018        t9     16.65926  58.69630  1026.797407  73577.25   \n",
       "941  22-11-2018        t9     15.52482  63.16312  1027.495248  65301.75   \n",
       "942  23-11-2018        t9     15.81560  59.21277  1029.318511  73534.50   \n",
       "943  24-11-2018        t9     16.58571  54.63571  1026.776357  72283.50   \n",
       "944  25-11-2018        t9     17.90000  49.41000  1026.771200  71799.75   \n",
       "\n",
       "      lightavg  lightmax  moisture  \n",
       "0       5.5000      4000    0.0000  \n",
       "1      11.8448      4000    5.6930  \n",
       "2       8.7692      4000    6.8511  \n",
       "3       8.8358      4000    6.0373  \n",
       "4     274.6232      4333   31.2385  \n",
       "..         ...       ...       ...  \n",
       "940  5521.1231     47460   54.4222  \n",
       "941  5521.1231     47460   54.5674  \n",
       "942  5521.1231     47460   54.8794  \n",
       "943  5521.1231     47460   55.0286  \n",
       "944  5783.7581     47460   55.3400  \n",
       "\n",
       "[945 rows x 9 columns]"
      ]
     },
     "execution_count": 10,
     "metadata": {},
     "output_type": "execute_result"
    }
   ],
   "source": [
    "original"
   ]
  },
  {
   "cell_type": "code",
   "execution_count": 11,
   "metadata": {},
   "outputs": [
    {
     "data": {
      "text/html": [
       "<div>\n",
       "<style scoped>\n",
       "    .dataframe tbody tr th:only-of-type {\n",
       "        vertical-align: middle;\n",
       "    }\n",
       "\n",
       "    .dataframe tbody tr th {\n",
       "        vertical-align: top;\n",
       "    }\n",
       "\n",
       "    .dataframe thead th {\n",
       "        text-align: right;\n",
       "    }\n",
       "</style>\n",
       "<table border=\"1\" class=\"dataframe\">\n",
       "  <thead>\n",
       "    <tr style=\"text-align: right;\">\n",
       "      <th></th>\n",
       "      <th>temperature</th>\n",
       "      <th>humidity</th>\n",
       "      <th>pressure</th>\n",
       "      <th>rain</th>\n",
       "      <th>lightavg</th>\n",
       "      <th>lightmax</th>\n",
       "      <th>moisture</th>\n",
       "    </tr>\n",
       "  </thead>\n",
       "  <tbody>\n",
       "    <tr>\n",
       "      <th>count</th>\n",
       "      <td>945.000000</td>\n",
       "      <td>945.000000</td>\n",
       "      <td>945.000000</td>\n",
       "      <td>945.000000</td>\n",
       "      <td>945.000000</td>\n",
       "      <td>945.000000</td>\n",
       "      <td>945.000000</td>\n",
       "    </tr>\n",
       "    <tr>\n",
       "      <th>mean</th>\n",
       "      <td>21.196222</td>\n",
       "      <td>83.538245</td>\n",
       "      <td>1009.264758</td>\n",
       "      <td>10651.638370</td>\n",
       "      <td>4486.340772</td>\n",
       "      <td>21517.191005</td>\n",
       "      <td>32.327431</td>\n",
       "    </tr>\n",
       "    <tr>\n",
       "      <th>std</th>\n",
       "      <td>4.329504</td>\n",
       "      <td>18.206727</td>\n",
       "      <td>45.998792</td>\n",
       "      <td>24779.512082</td>\n",
       "      <td>7573.795424</td>\n",
       "      <td>21935.165741</td>\n",
       "      <td>33.602566</td>\n",
       "    </tr>\n",
       "    <tr>\n",
       "      <th>min</th>\n",
       "      <td>7.672900</td>\n",
       "      <td>31.000000</td>\n",
       "      <td>452.097887</td>\n",
       "      <td>0.000000</td>\n",
       "      <td>0.000000</td>\n",
       "      <td>2259.000000</td>\n",
       "      <td>0.000000</td>\n",
       "    </tr>\n",
       "    <tr>\n",
       "      <th>25%</th>\n",
       "      <td>18.314690</td>\n",
       "      <td>73.136805</td>\n",
       "      <td>1009.620000</td>\n",
       "      <td>0.000000</td>\n",
       "      <td>417.039200</td>\n",
       "      <td>4000.000000</td>\n",
       "      <td>2.993000</td>\n",
       "    </tr>\n",
       "    <tr>\n",
       "      <th>50%</th>\n",
       "      <td>22.169210</td>\n",
       "      <td>91.380950</td>\n",
       "      <td>1014.677832</td>\n",
       "      <td>22.500000</td>\n",
       "      <td>1623.494100</td>\n",
       "      <td>6569.000000</td>\n",
       "      <td>16.306600</td>\n",
       "    </tr>\n",
       "    <tr>\n",
       "      <th>75%</th>\n",
       "      <td>24.416670</td>\n",
       "      <td>98.605635</td>\n",
       "      <td>1020.820611</td>\n",
       "      <td>987.750000</td>\n",
       "      <td>4488.910300</td>\n",
       "      <td>54612.000000</td>\n",
       "      <td>64.535700</td>\n",
       "    </tr>\n",
       "    <tr>\n",
       "      <th>max</th>\n",
       "      <td>31.375000</td>\n",
       "      <td>99.720000</td>\n",
       "      <td>1079.162000</td>\n",
       "      <td>82037.250000</td>\n",
       "      <td>54612.000000</td>\n",
       "      <td>54612.000000</td>\n",
       "      <td>100.000000</td>\n",
       "    </tr>\n",
       "  </tbody>\n",
       "</table>\n",
       "</div>"
      ],
      "text/plain": [
       "       temperature    humidity     pressure          rain      lightavg  \\\n",
       "count   945.000000  945.000000   945.000000    945.000000    945.000000   \n",
       "mean     21.196222   83.538245  1009.264758  10651.638370   4486.340772   \n",
       "std       4.329504   18.206727    45.998792  24779.512082   7573.795424   \n",
       "min       7.672900   31.000000   452.097887      0.000000      0.000000   \n",
       "25%      18.314690   73.136805  1009.620000      0.000000    417.039200   \n",
       "50%      22.169210   91.380950  1014.677832     22.500000   1623.494100   \n",
       "75%      24.416670   98.605635  1020.820611    987.750000   4488.910300   \n",
       "max      31.375000   99.720000  1079.162000  82037.250000  54612.000000   \n",
       "\n",
       "           lightmax    moisture  \n",
       "count    945.000000  945.000000  \n",
       "mean   21517.191005   32.327431  \n",
       "std    21935.165741   33.602566  \n",
       "min     2259.000000    0.000000  \n",
       "25%     4000.000000    2.993000  \n",
       "50%     6569.000000   16.306600  \n",
       "75%    54612.000000   64.535700  \n",
       "max    54612.000000  100.000000  "
      ]
     },
     "execution_count": 11,
     "metadata": {},
     "output_type": "execute_result"
    }
   ],
   "source": [
    "df.describe()"
   ]
  },
  {
   "cell_type": "code",
   "execution_count": 12,
   "metadata": {},
   "outputs": [
    {
     "data": {
      "text/html": [
       "<div>\n",
       "<style scoped>\n",
       "    .dataframe tbody tr th:only-of-type {\n",
       "        vertical-align: middle;\n",
       "    }\n",
       "\n",
       "    .dataframe tbody tr th {\n",
       "        vertical-align: top;\n",
       "    }\n",
       "\n",
       "    .dataframe thead th {\n",
       "        text-align: right;\n",
       "    }\n",
       "</style>\n",
       "<table border=\"1\" class=\"dataframe\">\n",
       "  <thead>\n",
       "    <tr style=\"text-align: right;\">\n",
       "      <th></th>\n",
       "      <th>temperature</th>\n",
       "      <th>humidity</th>\n",
       "      <th>pressure</th>\n",
       "      <th>rain</th>\n",
       "      <th>lightavg</th>\n",
       "      <th>lightmax</th>\n",
       "      <th>moisture</th>\n",
       "    </tr>\n",
       "  </thead>\n",
       "  <tbody>\n",
       "    <tr>\n",
       "      <th>count</th>\n",
       "      <td>945.000000</td>\n",
       "      <td>945.000000</td>\n",
       "      <td>945.000000</td>\n",
       "      <td>945.000000</td>\n",
       "      <td>945.000000</td>\n",
       "      <td>945.000000</td>\n",
       "      <td>945.000000</td>\n",
       "    </tr>\n",
       "    <tr>\n",
       "      <th>mean</th>\n",
       "      <td>21.214888</td>\n",
       "      <td>83.479932</td>\n",
       "      <td>1009.008774</td>\n",
       "      <td>10701.538370</td>\n",
       "      <td>4438.428453</td>\n",
       "      <td>21788.623280</td>\n",
       "      <td>32.386053</td>\n",
       "    </tr>\n",
       "    <tr>\n",
       "      <th>std</th>\n",
       "      <td>4.355818</td>\n",
       "      <td>18.210065</td>\n",
       "      <td>46.980477</td>\n",
       "      <td>24852.255288</td>\n",
       "      <td>7573.162806</td>\n",
       "      <td>22064.993089</td>\n",
       "      <td>33.653245</td>\n",
       "    </tr>\n",
       "    <tr>\n",
       "      <th>min</th>\n",
       "      <td>7.672900</td>\n",
       "      <td>31.000000</td>\n",
       "      <td>452.097887</td>\n",
       "      <td>0.000000</td>\n",
       "      <td>0.000000</td>\n",
       "      <td>2259.000000</td>\n",
       "      <td>0.000000</td>\n",
       "    </tr>\n",
       "    <tr>\n",
       "      <th>25%</th>\n",
       "      <td>18.208630</td>\n",
       "      <td>72.751770</td>\n",
       "      <td>1009.511888</td>\n",
       "      <td>0.000000</td>\n",
       "      <td>417.039200</td>\n",
       "      <td>4000.000000</td>\n",
       "      <td>2.993000</td>\n",
       "    </tr>\n",
       "    <tr>\n",
       "      <th>50%</th>\n",
       "      <td>22.272730</td>\n",
       "      <td>91.380950</td>\n",
       "      <td>1014.677832</td>\n",
       "      <td>18.000000</td>\n",
       "      <td>1656.880000</td>\n",
       "      <td>6634.000000</td>\n",
       "      <td>16.704200</td>\n",
       "    </tr>\n",
       "    <tr>\n",
       "      <th>75%</th>\n",
       "      <td>24.390240</td>\n",
       "      <td>98.625950</td>\n",
       "      <td>1020.827589</td>\n",
       "      <td>1044.000000</td>\n",
       "      <td>4488.910300</td>\n",
       "      <td>54612.000000</td>\n",
       "      <td>64.671500</td>\n",
       "    </tr>\n",
       "    <tr>\n",
       "      <th>max</th>\n",
       "      <td>31.375000</td>\n",
       "      <td>99.720000</td>\n",
       "      <td>1079.162000</td>\n",
       "      <td>82037.250000</td>\n",
       "      <td>54612.000000</td>\n",
       "      <td>54612.000000</td>\n",
       "      <td>100.000000</td>\n",
       "    </tr>\n",
       "  </tbody>\n",
       "</table>\n",
       "</div>"
      ],
      "text/plain": [
       "       temperature    humidity     pressure          rain      lightavg  \\\n",
       "count   945.000000  945.000000   945.000000    945.000000    945.000000   \n",
       "mean     21.214888   83.479932  1009.008774  10701.538370   4438.428453   \n",
       "std       4.355818   18.210065    46.980477  24852.255288   7573.162806   \n",
       "min       7.672900   31.000000   452.097887      0.000000      0.000000   \n",
       "25%      18.208630   72.751770  1009.511888      0.000000    417.039200   \n",
       "50%      22.272730   91.380950  1014.677832     18.000000   1656.880000   \n",
       "75%      24.390240   98.625950  1020.827589   1044.000000   4488.910300   \n",
       "max      31.375000   99.720000  1079.162000  82037.250000  54612.000000   \n",
       "\n",
       "           lightmax    moisture  \n",
       "count    945.000000  945.000000  \n",
       "mean   21788.623280   32.386053  \n",
       "std    22064.993089   33.653245  \n",
       "min     2259.000000    0.000000  \n",
       "25%     4000.000000    2.993000  \n",
       "50%     6634.000000   16.704200  \n",
       "75%    54612.000000   64.671500  \n",
       "max    54612.000000  100.000000  "
      ]
     },
     "execution_count": 12,
     "metadata": {},
     "output_type": "execute_result"
    }
   ],
   "source": [
    "original.describe()"
   ]
  },
  {
   "cell_type": "markdown",
   "metadata": {},
   "source": [
    "# Stat Comparing: Orginal vs Interpolated\n"
   ]
  },
  {
   "cell_type": "code",
   "execution_count": 13,
   "metadata": {},
   "outputs": [
    {
     "name": "stdout",
     "output_type": "stream",
     "text": [
      "Stats for Interpolated Data :-\n",
      "Statistical measures for temperature = Mean: 21.2, Medain: 24.39, STD:4.33\n",
      "\n",
      "Statistical measures for humidity = Mean: 83.54, Medain: 98.21, STD:18.2\n",
      "\n",
      "Statistical measures for pressure = Mean: 1009.26, Medain: 1010.2, STD:45.97\n",
      "\n",
      "Statistical measures for rain = Mean: 10651.64, Medain: 0.0, STD:24766.4\n",
      "\n",
      "Statistical measures for lightavg = Mean: 4486.34, Medain: 1895.56, STD:7569.79\n",
      "\n",
      "Statistical measures for lightmax = Mean: 21517.19, Medain: 27934.0, STD:21923.56\n",
      "\n",
      "Statistical measures for moisture = Mean: 32.33, Medain: 21.18, STD:33.58\n",
      "\n",
      "\n",
      "\n",
      "Stats for Original Data :-\n",
      "Statistical measures for temperature = Mean: 21.21, Medain: 24.39, STD:4.35\n",
      "\n",
      "Statistical measures for humidity = Mean: 83.48, Medain: 98.21, STD:18.2\n",
      "\n",
      "Statistical measures for pressure = Mean: 1009.01, Medain: 1010.2, STD:46.96\n",
      "\n",
      "Statistical measures for rain = Mean: 10701.54, Medain: 0.0, STD:24839.1\n",
      "\n",
      "Statistical measures for lightavg = Mean: 4438.43, Medain: 1895.56, STD:7569.15\n",
      "\n",
      "Statistical measures for lightmax = Mean: 21788.62, Medain: 27934, STD:22053.32\n",
      "\n",
      "Statistical measures for moisture = Mean: 32.39, Medain: 21.18, STD:33.64\n",
      "\n"
     ]
    }
   ],
   "source": [
    "def stats(lst,col):\n",
    "    std = pow(sum([(i - (sum(lst)/len(lst)))**2 for i in lst])/len(lst),0.5)\n",
    "    sorted(lst) \n",
    "    median = lst[int(len(lst)/2)]\n",
    "    print(f\"Statistical measures for {col} = Mean: {round(sum(lst)/len(lst),2)}, Medain: {round(median,2)}, STD:{round(std,2)}\")\n",
    "    print()\n",
    "\n",
    "\n",
    "def dataframe(real):\n",
    "    stats(real['temperature'].tolist(),'temperature')\n",
    "    stats(real['humidity'].tolist(),'humidity')\n",
    "    stats(real['pressure'].tolist(),'pressure')\n",
    "    stats(real['rain'].tolist(),'rain')\n",
    "    stats(real['lightavg'].tolist(),'lightavg')\n",
    "    stats(real['lightmax'].tolist(),'lightmax')\n",
    "    stats(real['moisture'].tolist(),'moisture')\n",
    "    \n",
    "print(\"Stats for Interpolated Data :-\")\n",
    "dataframe(df)\n",
    "print()\n",
    "print()\n",
    "print(\"Stats for Original Data :-\")\n",
    "dataframe(original)\n",
    "\n"
   ]
  },
  {
   "cell_type": "markdown",
   "metadata": {},
   "source": [
    "# RMSE"
   ]
  },
  {
   "cell_type": "code",
   "execution_count": 14,
   "metadata": {},
   "outputs": [
    {
     "name": "stdout",
     "output_type": "stream",
     "text": [
      "RMSE for temperature = 0.49039317926772374\n",
      "RMSE for humidity = 0.8393130045849451\n",
      "RMSE for pressure = 7.033471753292151\n",
      "RMSE for rain = 1206.1476861370707\n",
      "RMSE for lightavg = 1241.5914494441092\n",
      "RMSE for lightmax = 3830.829336093958\n",
      "RMSE for moisture = 1.27346446390451\n"
     ]
    }
   ],
   "source": [
    "def RMSE(rmse):\n",
    "    for i in cols:\n",
    "        if(i!='dates' and i!='stationid'):\n",
    "            error = np.array(df[i]) - np.array(original[i])\n",
    "            error_sq = np.square(error)\n",
    "            sum_error_sq = pow((np.sum(error_sq)/len(df)) , 0.5)\n",
    "            print(f\"RMSE for {i} = {sum_error_sq}\")\n",
    "            rmse.append(sum_error_sq)\n",
    "rmse = []\n",
    "RMSE(rmse)\n"
   ]
  },
  {
   "cell_type": "code",
   "execution_count": 15,
   "metadata": {},
   "outputs": [
    {
     "data": {
      "image/png": "[encoded data removed]",
      "text/plain": [
       "<Figure size 640x480 with 1 Axes>"
      ]
     },
     "metadata": {},
     "output_type": "display_data"
    }
   ],
   "source": [
    "import matplotlib.pyplot as plt\n",
    "\n",
    "plt.scatter(cols[2:],rmse)\n",
    "plt.show()"
   ]
  },
  {
   "cell_type": "markdown",
   "metadata": {},
   "source": [
    "# Part-3 Outliers\n"
   ]
  },
  {
   "cell_type": "code",
   "execution_count": 16,
   "metadata": {},
   "outputs": [],
   "source": [
    "interpolated = df\n",
    "col_list = interpolated.columns.tolist()[2:]"
   ]
  },
  {
   "cell_type": "code",
   "execution_count": 17,
   "metadata": {},
   "outputs": [
    {
     "name": "stdout",
     "output_type": "stream",
     "text": [
      "24.41667\n"
     ]
    },
    {
     "data": {
      "image/png": "[encoded data removed]",
      "text/plain": [
       "<Figure size 640x480 with 1 Axes>"
      ]
     },
     "metadata": {},
     "output_type": "display_data"
    },
    {
     "name": "stdout",
     "output_type": "stream",
     "text": [
      "98.605635\n"
     ]
    },
    {
     "data": {
      "image/png": "[encoded data removed]",
      "text/plain": [
       "<Figure size 640x480 with 1 Axes>"
      ]
     },
     "metadata": {},
     "output_type": "display_data"
    },
    {
     "name": "stdout",
     "output_type": "stream",
     "text": [
      "1020.820611\n"
     ]
    },
    {
     "data": {
      "image/png": "[encoded data removed]",
      "text/plain": [
       "<Figure size 640x480 with 1 Axes>"
      ]
     },
     "metadata": {},
     "output_type": "display_data"
    },
    {
     "name": "stdout",
     "output_type": "stream",
     "text": [
      "987.75\n"
     ]
    },
    {
     "data": {
      "image/png": "[encoded data removed]",
      "text/plain": [
       "<Figure size 640x480 with 1 Axes>"
      ]
     },
     "metadata": {},
     "output_type": "display_data"
    },
    {
     "name": "stdout",
     "output_type": "stream",
     "text": [
      "4488.9103\n"
     ]
    },
    {
     "data": {
      "image/png": "[encoded data removed]",
      "text/plain": [
       "<Figure size 640x480 with 1 Axes>"
      ]
     },
     "metadata": {},
     "output_type": "display_data"
    },
    {
     "name": "stdout",
     "output_type": "stream",
     "text": [
      "54612.0\n"
     ]
    },
    {
     "data": {
      "image/png": "[encoded data removed]",
      "text/plain": [
       "<Figure size 640x480 with 1 Axes>"
      ]
     },
     "metadata": {},
     "output_type": "display_data"
    },
    {
     "name": "stdout",
     "output_type": "stream",
     "text": [
      "64.5357\n"
     ]
    },
    {
     "data": {
      "image/png": "[encoded data removed]",
      "text/plain": [
       "<Figure size 640x480 with 1 Axes>"
      ]
     },
     "metadata": {},
     "output_type": "display_data"
    }
   ],
   "source": [
    "\n",
    "def outliers():\n",
    "\n",
    "    for i in range(len(col_list)):\n",
    "        data = interpolated[col_list[i]]\n",
    "        Q1 = np.percentile(data,25)\n",
    "        Q3 = np.percentile(data,75)\n",
    "        print(Q3)\n",
    "        IQR = Q3 -Q1\n",
    "        outliers = [j for j in data if j< Q1 - 1.5*IQR or j>Q3 + 1.5*IQR]\n",
    "        plt.boxplot(data)\n",
    "        plt.title(f\"Box plot for {col_list[i]}\")\n",
    "        plt.show()\n",
    "        \n",
    "outliers()\n"
   ]
  },
  {
   "cell_type": "code",
   "execution_count": 18,
   "metadata": {},
   "outputs": [
    {
     "name": "stdout",
     "output_type": "stream",
     "text": [
      "6.101980000000001\n"
     ]
    },
    {
     "data": {
      "image/png": "[encoded data removed]",
      "text/plain": [
       "<Figure size 640x480 with 1 Axes>"
      ]
     },
     "metadata": {},
     "output_type": "display_data"
    },
    {
     "name": "stdout",
     "output_type": "stream",
     "text": [
      "25.468829999999997\n"
     ]
    },
    {
     "data": {
      "image/png": "[encoded data removed]",
      "text/plain": [
       "<Figure size 640x480 with 1 Axes>"
      ]
     },
     "metadata": {},
     "output_type": "display_data"
    },
    {
     "name": "stdout",
     "output_type": "stream",
     "text": [
      "11.20061099999998\n"
     ]
    },
    {
     "data": {
      "image/png": "[encoded data removed]",
      "text/plain": [
       "<Figure size 640x480 with 1 Axes>"
      ]
     },
     "metadata": {},
     "output_type": "display_data"
    },
    {
     "name": "stdout",
     "output_type": "stream",
     "text": [
      "987.75\n"
     ]
    },
    {
     "data": {
      "image/png": "[encoded data removed]",
      "text/plain": [
       "<Figure size 640x480 with 1 Axes>"
      ]
     },
     "metadata": {},
     "output_type": "display_data"
    },
    {
     "name": "stdout",
     "output_type": "stream",
     "text": [
      "4071.8710999999994\n"
     ]
    },
    {
     "data": {
      "image/png": "[encoded data removed]",
      "text/plain": [
       "<Figure size 640x480 with 1 Axes>"
      ]
     },
     "metadata": {},
     "output_type": "display_data"
    },
    {
     "name": "stdout",
     "output_type": "stream",
     "text": [
      "50612.0\n"
     ]
    },
    {
     "data": {
      "image/png": "[encoded data removed]",
      "text/plain": [
       "<Figure size 640x480 with 1 Axes>"
      ]
     },
     "metadata": {},
     "output_type": "display_data"
    },
    {
     "name": "stdout",
     "output_type": "stream",
     "text": [
      "61.5427\n"
     ]
    },
    {
     "data": {
      "image/png": "[encoded data removed]",
      "text/plain": [
       "<Figure size 640x480 with 1 Axes>"
      ]
     },
     "metadata": {},
     "output_type": "display_data"
    }
   ],
   "source": [
    "updated_data = []\n",
    "\n",
    "def outliers_updated():\n",
    "\n",
    "    for i in range(len(col_list)):\n",
    "        data  = interpolated[col_list[i]].tolist()\n",
    "        sorted_data = sorted(data)\n",
    "\n",
    "        Q1 = np.percentile(data,25)\n",
    "        Q3 = np.percentile(data,75)\n",
    "        IQR = Q3 -Q1\n",
    "        print(IQR)\n",
    "\n",
    "        median = sorted_data[len(data)//2]\n",
    "        updated = [median if j< Q1 - 1.5*IQR or j>Q3 + 1.5*IQR else j for j in data]\n",
    "\n",
    "        updated_data.append(updated)\n",
    "        \n",
    "        plt.boxplot(updated)\n",
    "        plt.title(f\"Box plot for {col_list[i]}\")\n",
    "        plt.show()\n",
    "\n",
    "outliers_updated()"
   ]
  },
  {
   "cell_type": "markdown",
   "metadata": {},
   "source": [
    "# Standardization/Normalization"
   ]
  },
  {
   "cell_type": "markdown",
   "metadata": {},
   "source": [
    "Normalization"
   ]
  },
  {
   "cell_type": "code",
   "execution_count": 19,
   "metadata": {},
   "outputs": [
    {
     "name": "stdout",
     "output_type": "stream",
     "text": [
      "Normalized data: Max = 12.0, Min = 5.0\n",
      "Normalized data: Max = 12.0, Min = 5.0\n",
      "Normalized data: Max = 12.0, Min = 5.0\n",
      "Normalized data: Max = 12.0, Min = 5.0\n",
      "Normalized data: Max = 12.0, Min = 5.0\n",
      "Normalized data: Max = 12.0, Min = 5.0\n",
      "Normalized data: Max = 12.0, Min = 5.0\n"
     ]
    }
   ],
   "source": [
    "def min_max_normalization(upper,lower):\n",
    "    for i in range(len(col_list)):\n",
    "        data = updated_data[i]\n",
    "        normalized = [((i - min(data))/(max(data) - min(data)))*(upper - lower) + lower for i in data]\n",
    "\n",
    "        print(f\"Normalized data: Max = {max(normalized)}, Min = {min(normalized)}\")\n",
    "        \n",
    "min_max_normalization(5,12)"
   ]
  },
  {
   "cell_type": "markdown",
   "metadata": {},
   "source": [
    "Standardization"
   ]
  },
  {
   "cell_type": "code",
   "execution_count": 20,
   "metadata": {},
   "outputs": [
    {
     "name": "stdout",
     "output_type": "stream",
     "text": [
      "Before Standardization:: Mean: 21.349622566137565, Std = 4.095853517444963\n",
      "After Standardization:: Mean: 1.9549323946838736e-16, Std = 0.9999999999999998\n",
      "\n",
      "Before Standardization:: Mean: 85.49985484656085, Std = 15.631820601312581\n",
      "After Standardization:: Mean: -2.782019177050128e-16, Std = 1.0\n",
      "\n",
      "Before Standardization:: Mean: 1014.8420184663756, Std = 6.092421735932816\n",
      "After Standardization:: Mean: 3.36849889545529e-15, Std = 1.0\n",
      "\n",
      "Before Standardization:: Mean: 170.203582010582, Std = 386.1799531965627\n",
      "After Standardization:: Mean: 1.1278456123176193e-17, Std = 1.0\n",
      "\n",
      "Before Standardization:: Mean: 2244.662718306878, Std = 2220.8928272139588\n",
      "After Standardization:: Mean: 2.2556912246352387e-17, Std = 1.0\n",
      "\n",
      "Before Standardization:: Mean: 21517.191005291006, Std = 21923.556761533942\n",
      "After Standardization:: Mean: -1.3534147347811433e-16, Std = 1.0\n",
      "\n",
      "Before Standardization:: Mean: 32.32743126984127, Std = 33.584781821414396\n",
      "After Standardization:: Mean: -3.007588299513652e-17, Std = 1.0\n",
      "\n"
     ]
    }
   ],
   "source": [
    "def standardization():\n",
    "    for i in range(len(col_list)):\n",
    "        data = np.array(updated_data[i])\n",
    "        print(f\"Before Standardization:: Mean: {np.mean(data)}, Std = {np.std(data)}\")\n",
    "        standardized = (data - np.mean(data))/np.std(data)\n",
    "        print(f\"After Standardization:: Mean: {np.mean(standardized)}, Std = {np.std(standardized)}\")\n",
    "        print()\n",
    "standardization()\n"
   ]
  }
 ],
 "metadata": {
  "kernelspec": {
   "display_name": "Python 3",
   "language": "python",
   "name": "python3"
  },
  "language_info": {
   "codemirror_mode": {
    "name": "ipython",
    "version": 3
   },
   "file_extension": ".py",
   "mimetype": "text/x-python",
   "name": "python",
   "nbconvert_exporter": "python",
   "pygments_lexer": "ipython3",
   "version": "3.11.4"
  },
  "orig_nbformat": 4
 },
 "nbformat": 4,
 "nbformat_minor": 2
}
