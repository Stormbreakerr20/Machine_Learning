{
 "cells": [
  {
   "cell_type": "markdown",
   "metadata": {},
   "source": [
    "# Reducing Dimension to 1\n"
   ]
  },
  {
   "cell_type": "code",
   "execution_count": 44,
   "metadata": {},
   "outputs": [],
   "source": [
    "import numpy as np\n",
    "import pandas as pd \n",
    "def meanf(y):\n",
    "    return sum(y)/len(y)\n",
    "def stdf(y):\n",
    "    return pow(sum(y - meanf(y))/len(y),0.5)\n",
    "\n",
    "def pca(X):\n",
    "    X_original = np.array(X,copy=True)\n",
    "    for i in range(len(X)):\n",
    "        X[i] = X[i] - meanf(X[i])\n",
    "    \n",
    "    Covariance_Mat = np.dot(X,X.T)/X.shape[1]\n",
    "    eigenval,eigenvec = np.linalg.eig(Covariance_Mat)\n",
    "    bestEigen = np.array(eigenvec[:,0])\n",
    "    X = np.dot(bestEigen,X_original)\n",
    "\n",
    "    return X"
   ]
  },
  {
   "cell_type": "markdown",
   "metadata": {},
   "source": [
    "#### Test data"
   ]
  },
  {
   "cell_type": "code",
   "execution_count": 45,
   "metadata": {},
   "outputs": [],
   "source": [
    "test = pd.read_csv('iris_test.csv').iloc[:,1:]\n",
    "xtest = pca(np.array(test.iloc[:,:4]).T)\n",
    "ytest = test.iloc[:,-1]\n",
    "test = pd.DataFrame(np.array([xtest,ytest]).T,columns=['PC','class'])"
   ]
  },
  {
   "cell_type": "markdown",
   "metadata": {},
   "source": [
    "#### Train data"
   ]
  },
  {
   "cell_type": "code",
   "execution_count": 46,
   "metadata": {},
   "outputs": [],
   "source": [
    "train = pd.read_csv('iris_train.csv').iloc[:,1:]\n",
    "xtrain = pca(np.array(train.iloc[:,:4]).T)\n",
    "ytrain = train.iloc[:,-1]\n",
    "train = pd.DataFrame(np.array([xtrain,ytrain]).T,columns=['PC','class'])"
   ]
  },
  {
   "cell_type": "markdown",
   "metadata": {},
   "source": [
    "# Bayes on 1d Data"
   ]
  },
  {
   "cell_type": "code",
   "execution_count": 47,
   "metadata": {},
   "outputs": [],
   "source": [
    "classes = train.groupby(['class'])\n",
    "c1 = classes.get_group('Iris-setosa')\n",
    "c2 = classes.get_group('Iris-virginica')\n",
    "c3 = classes.get_group('Iris-versicolor')"
   ]
  },
  {
   "cell_type": "code",
   "execution_count": 48,
   "metadata": {},
   "outputs": [],
   "source": [
    "import math\n",
    "\n",
    "def prob_ci_given_xtest_1d(xt_p,ci):\n",
    "    data = ci.iloc[:,0]\n",
    "\n",
    "    mean = sum(data)/len(data)\n",
    "    std = pow((sum([(data.iloc[i] - mean)**2 for i in range(len(data))])/len(data)),0.5)\n",
    "\n",
    "    power_term = -1/2 * pow((xt_p - mean)/std,2)\n",
    "\n",
    "    gaussian_prob = (pow(math.e,power_term))/std\n",
    "\n",
    "    return gaussian_prob\n"
   ]
  },
  {
   "cell_type": "code",
   "execution_count": 49,
   "metadata": {},
   "outputs": [
    {
     "data": {
      "text/plain": [
       "class\n",
       "Iris-versicolor    0.341667\n",
       "Iris-setosa        0.333333\n",
       "Iris-virginica     0.325000\n",
       "Name: count, dtype: float64"
      ]
     },
     "execution_count": 49,
     "metadata": {},
     "output_type": "execute_result"
    }
   ],
   "source": [
    "ypred = []\n",
    "d = {'Iris-setosa':c1,'Iris-virginica':c2,'Iris-versicolor':c3}\n",
    "Class_prob = (train['class'].value_counts()/len(train['class']))\n",
    "for i in xtest:\n",
    "    max_prob = 0\n",
    "    class_choosen = 0\n",
    "    for j in d.keys():\n",
    "        prob = prob_ci_given_xtest_1d(i,d[j]) * (Class_prob[j])\n",
    "        if( prob > max_prob):\n",
    "            max_prob = prob\n",
    "            class_choosen = j\n",
    "    ypred.append(class_choosen)\n",
    "\n",
    "ypred = np.array(ypred)\n",
    "Class_prob"
   ]
  },
  {
   "cell_type": "code",
   "execution_count": 50,
   "metadata": {},
   "outputs": [
    {
     "name": "stdout",
     "output_type": "stream",
     "text": [
      "Accuracy of Bayes Classifier = 96.67%\n"
     ]
    },
    {
     "data": {
      "text/html": [
       "<div>\n",
       "<style scoped>\n",
       "    .dataframe tbody tr th:only-of-type {\n",
       "        vertical-align: middle;\n",
       "    }\n",
       "\n",
       "    .dataframe tbody tr th {\n",
       "        vertical-align: top;\n",
       "    }\n",
       "\n",
       "    .dataframe thead th {\n",
       "        text-align: right;\n",
       "    }\n",
       "</style>\n",
       "<table border=\"1\" class=\"dataframe\">\n",
       "  <thead>\n",
       "    <tr style=\"text-align: right;\">\n",
       "      <th></th>\n",
       "      <th>predicted</th>\n",
       "      <th>actual</th>\n",
       "    </tr>\n",
       "  </thead>\n",
       "  <tbody>\n",
       "    <tr>\n",
       "      <th>0</th>\n",
       "      <td>Iris-versicolor</td>\n",
       "      <td>Iris-versicolor</td>\n",
       "    </tr>\n",
       "    <tr>\n",
       "      <th>1</th>\n",
       "      <td>Iris-setosa</td>\n",
       "      <td>Iris-setosa</td>\n",
       "    </tr>\n",
       "    <tr>\n",
       "      <th>2</th>\n",
       "      <td>Iris-virginica</td>\n",
       "      <td>Iris-virginica</td>\n",
       "    </tr>\n",
       "    <tr>\n",
       "      <th>3</th>\n",
       "      <td>Iris-versicolor</td>\n",
       "      <td>Iris-versicolor</td>\n",
       "    </tr>\n",
       "    <tr>\n",
       "      <th>4</th>\n",
       "      <td>Iris-virginica</td>\n",
       "      <td>Iris-versicolor</td>\n",
       "    </tr>\n",
       "    <tr>\n",
       "      <th>5</th>\n",
       "      <td>Iris-setosa</td>\n",
       "      <td>Iris-setosa</td>\n",
       "    </tr>\n",
       "    <tr>\n",
       "      <th>6</th>\n",
       "      <td>Iris-versicolor</td>\n",
       "      <td>Iris-versicolor</td>\n",
       "    </tr>\n",
       "    <tr>\n",
       "      <th>7</th>\n",
       "      <td>Iris-virginica</td>\n",
       "      <td>Iris-virginica</td>\n",
       "    </tr>\n",
       "    <tr>\n",
       "      <th>8</th>\n",
       "      <td>Iris-versicolor</td>\n",
       "      <td>Iris-versicolor</td>\n",
       "    </tr>\n",
       "    <tr>\n",
       "      <th>9</th>\n",
       "      <td>Iris-versicolor</td>\n",
       "      <td>Iris-versicolor</td>\n",
       "    </tr>\n",
       "    <tr>\n",
       "      <th>10</th>\n",
       "      <td>Iris-virginica</td>\n",
       "      <td>Iris-virginica</td>\n",
       "    </tr>\n",
       "    <tr>\n",
       "      <th>11</th>\n",
       "      <td>Iris-setosa</td>\n",
       "      <td>Iris-setosa</td>\n",
       "    </tr>\n",
       "    <tr>\n",
       "      <th>12</th>\n",
       "      <td>Iris-setosa</td>\n",
       "      <td>Iris-setosa</td>\n",
       "    </tr>\n",
       "    <tr>\n",
       "      <th>13</th>\n",
       "      <td>Iris-setosa</td>\n",
       "      <td>Iris-setosa</td>\n",
       "    </tr>\n",
       "    <tr>\n",
       "      <th>14</th>\n",
       "      <td>Iris-setosa</td>\n",
       "      <td>Iris-setosa</td>\n",
       "    </tr>\n",
       "    <tr>\n",
       "      <th>15</th>\n",
       "      <td>Iris-versicolor</td>\n",
       "      <td>Iris-versicolor</td>\n",
       "    </tr>\n",
       "    <tr>\n",
       "      <th>16</th>\n",
       "      <td>Iris-virginica</td>\n",
       "      <td>Iris-virginica</td>\n",
       "    </tr>\n",
       "    <tr>\n",
       "      <th>17</th>\n",
       "      <td>Iris-versicolor</td>\n",
       "      <td>Iris-versicolor</td>\n",
       "    </tr>\n",
       "    <tr>\n",
       "      <th>18</th>\n",
       "      <td>Iris-versicolor</td>\n",
       "      <td>Iris-versicolor</td>\n",
       "    </tr>\n",
       "    <tr>\n",
       "      <th>19</th>\n",
       "      <td>Iris-virginica</td>\n",
       "      <td>Iris-virginica</td>\n",
       "    </tr>\n",
       "    <tr>\n",
       "      <th>20</th>\n",
       "      <td>Iris-setosa</td>\n",
       "      <td>Iris-setosa</td>\n",
       "    </tr>\n",
       "    <tr>\n",
       "      <th>21</th>\n",
       "      <td>Iris-virginica</td>\n",
       "      <td>Iris-virginica</td>\n",
       "    </tr>\n",
       "    <tr>\n",
       "      <th>22</th>\n",
       "      <td>Iris-setosa</td>\n",
       "      <td>Iris-setosa</td>\n",
       "    </tr>\n",
       "    <tr>\n",
       "      <th>23</th>\n",
       "      <td>Iris-virginica</td>\n",
       "      <td>Iris-virginica</td>\n",
       "    </tr>\n",
       "    <tr>\n",
       "      <th>24</th>\n",
       "      <td>Iris-virginica</td>\n",
       "      <td>Iris-virginica</td>\n",
       "    </tr>\n",
       "    <tr>\n",
       "      <th>25</th>\n",
       "      <td>Iris-virginica</td>\n",
       "      <td>Iris-virginica</td>\n",
       "    </tr>\n",
       "    <tr>\n",
       "      <th>26</th>\n",
       "      <td>Iris-virginica</td>\n",
       "      <td>Iris-virginica</td>\n",
       "    </tr>\n",
       "    <tr>\n",
       "      <th>27</th>\n",
       "      <td>Iris-virginica</td>\n",
       "      <td>Iris-virginica</td>\n",
       "    </tr>\n",
       "    <tr>\n",
       "      <th>28</th>\n",
       "      <td>Iris-setosa</td>\n",
       "      <td>Iris-setosa</td>\n",
       "    </tr>\n",
       "    <tr>\n",
       "      <th>29</th>\n",
       "      <td>Iris-setosa</td>\n",
       "      <td>Iris-setosa</td>\n",
       "    </tr>\n",
       "  </tbody>\n",
       "</table>\n",
       "</div>"
      ],
      "text/plain": [
       "          predicted           actual\n",
       "0   Iris-versicolor  Iris-versicolor\n",
       "1       Iris-setosa      Iris-setosa\n",
       "2    Iris-virginica   Iris-virginica\n",
       "3   Iris-versicolor  Iris-versicolor\n",
       "4    Iris-virginica  Iris-versicolor\n",
       "5       Iris-setosa      Iris-setosa\n",
       "6   Iris-versicolor  Iris-versicolor\n",
       "7    Iris-virginica   Iris-virginica\n",
       "8   Iris-versicolor  Iris-versicolor\n",
       "9   Iris-versicolor  Iris-versicolor\n",
       "10   Iris-virginica   Iris-virginica\n",
       "11      Iris-setosa      Iris-setosa\n",
       "12      Iris-setosa      Iris-setosa\n",
       "13      Iris-setosa      Iris-setosa\n",
       "14      Iris-setosa      Iris-setosa\n",
       "15  Iris-versicolor  Iris-versicolor\n",
       "16   Iris-virginica   Iris-virginica\n",
       "17  Iris-versicolor  Iris-versicolor\n",
       "18  Iris-versicolor  Iris-versicolor\n",
       "19   Iris-virginica   Iris-virginica\n",
       "20      Iris-setosa      Iris-setosa\n",
       "21   Iris-virginica   Iris-virginica\n",
       "22      Iris-setosa      Iris-setosa\n",
       "23   Iris-virginica   Iris-virginica\n",
       "24   Iris-virginica   Iris-virginica\n",
       "25   Iris-virginica   Iris-virginica\n",
       "26   Iris-virginica   Iris-virginica\n",
       "27   Iris-virginica   Iris-virginica\n",
       "28      Iris-setosa      Iris-setosa\n",
       "29      Iris-setosa      Iris-setosa"
      ]
     },
     "execution_count": 50,
     "metadata": {},
     "output_type": "execute_result"
    }
   ],
   "source": [
    "accuracy_table = pd.DataFrame(np.array([ypred,ytest]).T, columns=['predicted','actual'])\n",
    "wrong_count = 0\n",
    "\n",
    "for i in range(len(ytest)): wrong_count += (ypred[i] != ytest[i])\n",
    "\n",
    "acc2 = round((len(ypred) - wrong_count)/len(ypred) * 100,2)\n",
    "\n",
    "print(f\"Accuracy of Bayes Classifier = {acc2}%\")\n",
    "accuracy_table"
   ]
  },
  {
   "cell_type": "code",
   "execution_count": 65,
   "metadata": {},
   "outputs": [
    {
     "data": {
      "text/plain": [
       "<sklearn.metrics._plot.confusion_matrix.ConfusionMatrixDisplay at 0x22ee1dfcf50>"
      ]
     },
     "execution_count": 65,
     "metadata": {},
     "output_type": "execute_result"
    },
    {
     "data": {
      "image/png": "[encoded data removed]",
      "text/plain": [
       "<Figure size 640x480 with 2 Axes>"
      ]
     },
     "metadata": {},
     "output_type": "display_data"
    }
   ],
   "source": [
    "from sklearn.metrics import confusion_matrix,ConfusionMatrixDisplay\n",
    "import matplotlib.pyplot as plt\n",
    "CM = confusion_matrix(ytest,ypred)\n",
    "ConfusionMatrixDisplay(CM,display_labels=['Iris-setosa','Iris-versicolor','Iris-virginica']).plot()"
   ]
  },
  {
   "cell_type": "markdown",
   "metadata": {},
   "source": [
    "# Bayes On 4d Data"
   ]
  },
  {
   "cell_type": "code",
   "execution_count": 52,
   "metadata": {},
   "outputs": [],
   "source": [
    "test_data = pd.read_csv('iris_test.csv').iloc[:,1:]\n",
    "x_test = test_data.iloc[:,:4]\n",
    "y_test = test_data.iloc[:,-1]"
   ]
  },
  {
   "cell_type": "code",
   "execution_count": 53,
   "metadata": {},
   "outputs": [],
   "source": [
    "train_data = pd.read_csv('iris_train.csv').iloc[:,1:]\n",
    "x_train = train_data.iloc[:,:4]\n",
    "y_train = train_data.iloc[:,-1]"
   ]
  },
  {
   "cell_type": "code",
   "execution_count": 54,
   "metadata": {},
   "outputs": [],
   "source": [
    "classes = train_data.groupby(['Species'])\n",
    "c1_4d = classes.get_group('Iris-setosa')\n",
    "c2_4d = classes.get_group('Iris-virginica')\n",
    "c3_4d = classes.get_group('Iris-versicolor')"
   ]
  },
  {
   "cell_type": "code",
   "execution_count": 55,
   "metadata": {},
   "outputs": [],
   "source": [
    "import math\n",
    "\n",
    "def prob_ci_given_xtest_4d(xt_p,ci):\n",
    "    data = ci.iloc[:,:4]\n",
    "    mean = np.array([sum(data.iloc[:,i])/data.shape[0] for i in range(4)])\n",
    "    xt_p = (xt_p - mean).reshape(1,4)\n",
    "\n",
    "    data = ci.iloc[:,:4] - ci.iloc[:,:4].mean()\n",
    "\n",
    "\n",
    "    Covariance_Mat = np.dot(data.T,data)/data.shape[0]\n",
    "    # Covariance_Mat = np.cov([data.iloc[:,0],data.iloc[:,1],data.iloc[:,2],data.iloc[:,3]])\n",
    "    \n",
    "    Covariance_Mat_inv = np.linalg.inv(Covariance_Mat)\n",
    "\n",
    "    power_term = -1/2 * ((np.dot( np.dot(xt_p,Covariance_Mat_inv), xt_p.T))[0][0])\n",
    "    gaussian_prob = (pow(math.e,power_term))/pow(np.linalg.det(Covariance_Mat),0.5)\n",
    "\n",
    "    return gaussian_prob"
   ]
  },
  {
   "cell_type": "code",
   "execution_count": 56,
   "metadata": {},
   "outputs": [],
   "source": [
    "ypred_4d = []\n",
    "d = {'Iris-setosa':c1_4d,'Iris-virginica':c2_4d,'Iris-versicolor':c3_4d}\n",
    "Class_prob = (train_data['Species'].value_counts()/len(train_data['Species']))\n",
    "\n",
    "for i in range(x_test.shape[0]):\n",
    "    max_prob = 0\n",
    "    class_choosen = 0\n",
    "    for j in d.keys():\n",
    "        prob = prob_ci_given_xtest_4d(np.array(x_test.iloc[i]),d[j]) * (Class_prob[j])\n",
    "        if( prob > max_prob):\n",
    "            max_prob = prob\n",
    "            class_choosen = j\n",
    "    ypred_4d.append(class_choosen)\n",
    "\n",
    "ypred_4d = np.array(ypred_4d)"
   ]
  },
  {
   "cell_type": "code",
   "execution_count": 57,
   "metadata": {},
   "outputs": [
    {
     "name": "stdout",
     "output_type": "stream",
     "text": [
      "Accuracy of Bayes Classifier = 96.67%\n"
     ]
    },
    {
     "data": {
      "text/html": [
       "<div>\n",
       "<style scoped>\n",
       "    .dataframe tbody tr th:only-of-type {\n",
       "        vertical-align: middle;\n",
       "    }\n",
       "\n",
       "    .dataframe tbody tr th {\n",
       "        vertical-align: top;\n",
       "    }\n",
       "\n",
       "    .dataframe thead th {\n",
       "        text-align: right;\n",
       "    }\n",
       "</style>\n",
       "<table border=\"1\" class=\"dataframe\">\n",
       "  <thead>\n",
       "    <tr style=\"text-align: right;\">\n",
       "      <th></th>\n",
       "      <th>predicted</th>\n",
       "      <th>actual</th>\n",
       "    </tr>\n",
       "  </thead>\n",
       "  <tbody>\n",
       "    <tr>\n",
       "      <th>0</th>\n",
       "      <td>Iris-versicolor</td>\n",
       "      <td>Iris-versicolor</td>\n",
       "    </tr>\n",
       "    <tr>\n",
       "      <th>1</th>\n",
       "      <td>Iris-setosa</td>\n",
       "      <td>Iris-setosa</td>\n",
       "    </tr>\n",
       "    <tr>\n",
       "      <th>2</th>\n",
       "      <td>Iris-virginica</td>\n",
       "      <td>Iris-virginica</td>\n",
       "    </tr>\n",
       "    <tr>\n",
       "      <th>3</th>\n",
       "      <td>Iris-versicolor</td>\n",
       "      <td>Iris-versicolor</td>\n",
       "    </tr>\n",
       "    <tr>\n",
       "      <th>4</th>\n",
       "      <td>Iris-versicolor</td>\n",
       "      <td>Iris-versicolor</td>\n",
       "    </tr>\n",
       "    <tr>\n",
       "      <th>5</th>\n",
       "      <td>Iris-setosa</td>\n",
       "      <td>Iris-setosa</td>\n",
       "    </tr>\n",
       "    <tr>\n",
       "      <th>6</th>\n",
       "      <td>Iris-versicolor</td>\n",
       "      <td>Iris-versicolor</td>\n",
       "    </tr>\n",
       "    <tr>\n",
       "      <th>7</th>\n",
       "      <td>Iris-virginica</td>\n",
       "      <td>Iris-virginica</td>\n",
       "    </tr>\n",
       "    <tr>\n",
       "      <th>8</th>\n",
       "      <td>Iris-virginica</td>\n",
       "      <td>Iris-versicolor</td>\n",
       "    </tr>\n",
       "    <tr>\n",
       "      <th>9</th>\n",
       "      <td>Iris-versicolor</td>\n",
       "      <td>Iris-versicolor</td>\n",
       "    </tr>\n",
       "    <tr>\n",
       "      <th>10</th>\n",
       "      <td>Iris-virginica</td>\n",
       "      <td>Iris-virginica</td>\n",
       "    </tr>\n",
       "    <tr>\n",
       "      <th>11</th>\n",
       "      <td>Iris-setosa</td>\n",
       "      <td>Iris-setosa</td>\n",
       "    </tr>\n",
       "    <tr>\n",
       "      <th>12</th>\n",
       "      <td>Iris-setosa</td>\n",
       "      <td>Iris-setosa</td>\n",
       "    </tr>\n",
       "    <tr>\n",
       "      <th>13</th>\n",
       "      <td>Iris-setosa</td>\n",
       "      <td>Iris-setosa</td>\n",
       "    </tr>\n",
       "    <tr>\n",
       "      <th>14</th>\n",
       "      <td>Iris-setosa</td>\n",
       "      <td>Iris-setosa</td>\n",
       "    </tr>\n",
       "    <tr>\n",
       "      <th>15</th>\n",
       "      <td>Iris-versicolor</td>\n",
       "      <td>Iris-versicolor</td>\n",
       "    </tr>\n",
       "    <tr>\n",
       "      <th>16</th>\n",
       "      <td>Iris-virginica</td>\n",
       "      <td>Iris-virginica</td>\n",
       "    </tr>\n",
       "    <tr>\n",
       "      <th>17</th>\n",
       "      <td>Iris-versicolor</td>\n",
       "      <td>Iris-versicolor</td>\n",
       "    </tr>\n",
       "    <tr>\n",
       "      <th>18</th>\n",
       "      <td>Iris-versicolor</td>\n",
       "      <td>Iris-versicolor</td>\n",
       "    </tr>\n",
       "    <tr>\n",
       "      <th>19</th>\n",
       "      <td>Iris-virginica</td>\n",
       "      <td>Iris-virginica</td>\n",
       "    </tr>\n",
       "    <tr>\n",
       "      <th>20</th>\n",
       "      <td>Iris-setosa</td>\n",
       "      <td>Iris-setosa</td>\n",
       "    </tr>\n",
       "    <tr>\n",
       "      <th>21</th>\n",
       "      <td>Iris-virginica</td>\n",
       "      <td>Iris-virginica</td>\n",
       "    </tr>\n",
       "    <tr>\n",
       "      <th>22</th>\n",
       "      <td>Iris-setosa</td>\n",
       "      <td>Iris-setosa</td>\n",
       "    </tr>\n",
       "    <tr>\n",
       "      <th>23</th>\n",
       "      <td>Iris-virginica</td>\n",
       "      <td>Iris-virginica</td>\n",
       "    </tr>\n",
       "    <tr>\n",
       "      <th>24</th>\n",
       "      <td>Iris-virginica</td>\n",
       "      <td>Iris-virginica</td>\n",
       "    </tr>\n",
       "    <tr>\n",
       "      <th>25</th>\n",
       "      <td>Iris-virginica</td>\n",
       "      <td>Iris-virginica</td>\n",
       "    </tr>\n",
       "    <tr>\n",
       "      <th>26</th>\n",
       "      <td>Iris-virginica</td>\n",
       "      <td>Iris-virginica</td>\n",
       "    </tr>\n",
       "    <tr>\n",
       "      <th>27</th>\n",
       "      <td>Iris-virginica</td>\n",
       "      <td>Iris-virginica</td>\n",
       "    </tr>\n",
       "    <tr>\n",
       "      <th>28</th>\n",
       "      <td>Iris-setosa</td>\n",
       "      <td>Iris-setosa</td>\n",
       "    </tr>\n",
       "    <tr>\n",
       "      <th>29</th>\n",
       "      <td>Iris-setosa</td>\n",
       "      <td>Iris-setosa</td>\n",
       "    </tr>\n",
       "  </tbody>\n",
       "</table>\n",
       "</div>"
      ],
      "text/plain": [
       "          predicted           actual\n",
       "0   Iris-versicolor  Iris-versicolor\n",
       "1       Iris-setosa      Iris-setosa\n",
       "2    Iris-virginica   Iris-virginica\n",
       "3   Iris-versicolor  Iris-versicolor\n",
       "4   Iris-versicolor  Iris-versicolor\n",
       "5       Iris-setosa      Iris-setosa\n",
       "6   Iris-versicolor  Iris-versicolor\n",
       "7    Iris-virginica   Iris-virginica\n",
       "8    Iris-virginica  Iris-versicolor\n",
       "9   Iris-versicolor  Iris-versicolor\n",
       "10   Iris-virginica   Iris-virginica\n",
       "11      Iris-setosa      Iris-setosa\n",
       "12      Iris-setosa      Iris-setosa\n",
       "13      Iris-setosa      Iris-setosa\n",
       "14      Iris-setosa      Iris-setosa\n",
       "15  Iris-versicolor  Iris-versicolor\n",
       "16   Iris-virginica   Iris-virginica\n",
       "17  Iris-versicolor  Iris-versicolor\n",
       "18  Iris-versicolor  Iris-versicolor\n",
       "19   Iris-virginica   Iris-virginica\n",
       "20      Iris-setosa      Iris-setosa\n",
       "21   Iris-virginica   Iris-virginica\n",
       "22      Iris-setosa      Iris-setosa\n",
       "23   Iris-virginica   Iris-virginica\n",
       "24   Iris-virginica   Iris-virginica\n",
       "25   Iris-virginica   Iris-virginica\n",
       "26   Iris-virginica   Iris-virginica\n",
       "27   Iris-virginica   Iris-virginica\n",
       "28      Iris-setosa      Iris-setosa\n",
       "29      Iris-setosa      Iris-setosa"
      ]
     },
     "execution_count": 57,
     "metadata": {},
     "output_type": "execute_result"
    }
   ],
   "source": [
    "accuracy_table_4d = pd.DataFrame(np.array([ypred_4d,y_test]).T, columns=['predicted','actual'])\n",
    "wrong_count = 0\n",
    "for i in range(len(y_test)): wrong_count += (ypred_4d[i] != y_test[i])\n",
    "\n",
    "acc1 = round((len(ypred_4d) - wrong_count)/len(ypred_4d) * 100,2)\n",
    "\n",
    "print(f\"Accuracy of Bayes Classifier = {acc1}%\")\n",
    "accuracy_table_4d"
   ]
  },
  {
   "cell_type": "code",
   "execution_count": 63,
   "metadata": {},
   "outputs": [
    {
     "data": {
      "text/plain": [
       "<sklearn.metrics._plot.confusion_matrix.ConfusionMatrixDisplay at 0x22ee249b750>"
      ]
     },
     "execution_count": 63,
     "metadata": {},
     "output_type": "execute_result"
    },
    {
     "data": {
      "image/png": "[encoded data removed]",
      "text/plain": [
       "<Figure size 640x480 with 2 Axes>"
      ]
     },
     "metadata": {},
     "output_type": "display_data"
    }
   ],
   "source": [
    "from sklearn.metrics import confusion_matrix,ConfusionMatrixDisplay\n",
    "import matplotlib.pyplot as plt\n",
    "CM = confusion_matrix(y_test,ypred_4d)\n",
    "ConfusionMatrixDisplay(CM,display_labels=['Iris-setosa','Iris-versicolor','Iris-virginica']).plot()"
   ]
  },
  {
   "cell_type": "code",
   "execution_count": null,
   "metadata": {},
   "outputs": [
    {
     "name": "stdout",
     "output_type": "stream",
     "text": [
      "Accuracy difference => Original data model = 96.67%, Reduced Data = 96.67%\n",
      "Difference = 0.0%\n"
     ]
    }
   ],
   "source": [
    "print(f\"Accuracy difference => Original data model = {acc1}%, Reduced Data = {acc2}%\\nDifference = {abs(round(acc1 - acc2,2))}%\")"
   ]
  }
 ],
 "metadata": {
  "kernelspec": {
   "display_name": "Python 3",
   "language": "python",
   "name": "python3"
  },
  "language_info": {
   "codemirror_mode": {
    "name": "ipython",
    "version": 3
   },
   "file_extension": ".py",
   "mimetype": "text/x-python",
   "name": "python",
   "nbconvert_exporter": "python",
   "pygments_lexer": "ipython3",
   "version": "3.11.4"
  }
 },
 "nbformat": 4,
 "nbformat_minor": 2
}
