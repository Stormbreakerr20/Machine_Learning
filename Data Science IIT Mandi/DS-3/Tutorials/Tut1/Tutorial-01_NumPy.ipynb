{
 "cells": [
  {
   "cell_type": "markdown",
   "metadata": {
    "id": "DejZorYtBtIM"
   },
   "source": [
    "## NumPy Essentials\n",
    "\n",
    "\n",
    "---\n",
    "\n",
    "\n",
    "\n",
    "![](https://cdn-images-1.medium.com/fit/t/1600/480/1*cyXCE-JcBelTyrK-58w6_Q.png)\n",
    "\n",
    "\n",
    "NumPy is a powerful library for numerical computations in Python.\n",
    "\n",
    "#### Why use NumPy?\n",
    "NumPy is optimized for numerical computations, making it significantly faster than using standard Python lists for such operations. Its efficient array operations and broadcasting capabilities are crucial for scientific computing, data analysis, and machine learning.\n",
    "\n",
    "\n",
    "\n",
    "---\n",
    "\n",
    "\n",
    "\n",
    "#### Advantages Over Python Lists\n",
    "\n",
    "- **Speed**: NumPy performs operations much faster than Python lists, especially on large arrays, due to memory efficiency and optimized algorithms.\n",
    "\n",
    "- **Multidimensional Arrays**: NumPy offers multidimensional array data structures for representing vectors and matrices.\n",
    "\n",
    "- **Optimized Built-in Functions**: NumPy provides optimized mathematical functions that enable fast and concise computations without complex loops.\n",
    "\n",
    "## The ndarray\n",
    "\n",
    "At the core of NumPy is the **ndarray** (n-dimensional array).\n",
    "\n",
    "- An ndarray is a multidimensional array with elements of the same type.\n",
    "\n",
    "- Unlike Python lists, an ndarray enforces consistent element types.\n",
    "\n",
    "- If mixed types are provided, NumPy upcasts elements to maintain type consistency.\n",
    "\n",
    "- 1D arrays are rank 1 arrays, while N-dimensional arrays are rank N.\n",
    "\n",
    "NumPy's efficiency, multidimensional arrays, and optimized functions make it a vital tool for numerical computations in Python.\n",
    "\n",
    "\n",
    "\n",
    "\n",
    "\n"
   ]
  },
  {
   "cell_type": "markdown",
   "metadata": {
    "id": "sTk9D_fq5t9l"
   },
   "source": [
    "# Installing NumPy\n",
    "\n",
    "The only prerequisite for installing NumPy is Python itself. If you don’t have Python yet and want the simplest way to get started, we recommend you use the Anaconda Distribution - it includes Python, NumPy, and many other commonly used packages for scientific computing and data science.\n",
    "\n",
    "NumPy can be installed using various methods: with conda, with pip, with a package manager on macOS and Linux, or from source. For more detailed instructions, consult our Python and NumPy installation guide below.\n",
    "\n",
    "## Conda\n",
    "\n",
    "If you use conda, you can install NumPy from the defaults or conda-forge channels:\n",
    "\n",
    "```\n",
    "# Best practice, use an environment rather than installing in the base env\n",
    "conda create -n my-env\n",
    "conda activate my-env\n",
    "\n",
    "# If you want to install from conda-forge\n",
    "conda config --env --add channels conda-forge\n",
    "\n",
    "# The actual installation command\n",
    "conda install numpy\n",
    "```\n",
    "\n",
    "## Pip\n",
    "\n",
    "```\n",
    "# Create a virtual environment named \"my-env\"\n",
    "python -m venv my-env\n",
    "\n",
    "# Activate the virtual environment\n",
    "# On Windows:\n",
    "my-env\\Scripts\\activate\n",
    "# On macOS and Linux:\n",
    "source my-env/bin/activate\n",
    "\n",
    "# Now your terminal prompt should change to indicate that you're in the virtual environment\n",
    "\n",
    "# Install NumPy using pip\n",
    "pip install numpy\n",
    "\n",
    "# Deactivate the virtual environment when you're done\n",
    "deactivate\n",
    "```\n",
    "\n"
   ]
  },
  {
   "cell_type": "code",
   "execution_count": null,
   "metadata": {
    "colab": {
     "base_uri": "https://localhost:8080/"
    },
    "id": "NvFBJPtuBefn",
    "outputId": "dba68c43-96ae-48a8-ceca-7e624662a91a"
   },
   "outputs": [
    {
     "name": "stdout",
     "output_type": "stream",
     "text": [
      "Requirement already satisfied: numpy in c:\\users\\hp\\appdata\\local\\programs\\python\\python310\\lib\\site-packages (1.23.2)\n"
     ]
    }
   ],
   "source": [
    "!pip install numpy"
   ]
  },
  {
   "cell_type": "code",
   "execution_count": null,
   "metadata": {
    "colab": {
     "base_uri": "https://localhost:8080/"
    },
    "executionInfo": {
     "elapsed": 12,
     "status": "ok",
     "timestamp": 1693026183023,
     "user": {
      "displayName": "Soma Chakraborty",
      "userId": "04724583845638184703"
     },
     "user_tz": -330
    },
    "id": "_s7qPD3K7XAh",
    "outputId": "6f2c450b-797c-4901-c554-4a895361976c"
   },
   "outputs": [
    {
     "name": "stdout",
     "output_type": "stream",
     "text": [
      "1.23.5\n"
     ]
    }
   ],
   "source": [
    "import numpy as np\n",
    "print(np.__version__)"
   ]
  },
  {
   "cell_type": "markdown",
   "metadata": {
    "id": "ggDa0SBS66a5"
   },
   "source": [
    "# Arrays in NumPy"
   ]
  },
  {
   "cell_type": "code",
   "execution_count": null,
   "metadata": {
    "colab": {
     "base_uri": "https://localhost:8080/"
    },
    "executionInfo": {
     "elapsed": 9,
     "status": "ok",
     "timestamp": 1693026580536,
     "user": {
      "displayName": "Soma Chakraborty",
      "userId": "04724583845638184703"
     },
     "user_tz": -330
    },
    "id": "R9ZIYrId67sr",
    "outputId": "40a26d79-f4a2-4609-958b-f3fca739d0cd"
   },
   "outputs": [
    {
     "name": "stdout",
     "output_type": "stream",
     "text": [
      "['1' '2' '3' '4' '5']\n"
     ]
    }
   ],
   "source": [
    "# Creating an array from a list\n",
    "my_list = [1, 2, 3, '4', 5]\n",
    "my_array = np.array(my_list)\n",
    "print(my_array)"
   ]
  },
  {
   "cell_type": "code",
   "execution_count": null,
   "metadata": {
    "colab": {
     "base_uri": "https://localhost:8080/"
    },
    "id": "KvqvYeBX67oh",
    "outputId": "2d0199a9-04fd-43ba-bdbe-065729bb8c33"
   },
   "outputs": [
    {
     "name": "stdout",
     "output_type": "stream",
     "text": [
      "x =  [1 2 3 4 5]\n",
      "x has dimensions: (5,)\n",
      "The elements in x are of type: int64\n"
     ]
    }
   ],
   "source": [
    "# Create a 1D ndarray that contains only integers\n",
    "# Specify the dtype when creating the ndarray\n",
    "x = np.array([1.5, 2.2, 3.7, 4.0, 5.9], dtype = np.int64)\n",
    "print('x = ', x)\n",
    "print('x has dimensions:', x.shape) # x has dimensions: (5,)\n",
    "print('The elements in x are of type:', x.dtype) # The elements in x are of type: int64"
   ]
  },
  {
   "cell_type": "code",
   "execution_count": null,
   "metadata": {
    "colab": {
     "base_uri": "https://localhost:8080/"
    },
    "id": "J87XuKKzFnSt",
    "outputId": "7c0d0639-b3cf-4a41-bc01-ed2edac436f1"
   },
   "outputs": [
    {
     "data": {
      "text/plain": [
       "array([1, 2, 3, 4, 5, 6], dtype=int64)"
      ]
     },
     "execution_count": 5,
     "metadata": {},
     "output_type": "execute_result"
    }
   ],
   "source": [
    "## inserttion\n",
    "# Append\n",
    "# np.append(ndarray, elements, axis)\n",
    "## default axis is axis 0: along the rows\n",
    "# append the integer 6 to x\n",
    "x = np.append(x, 6)\n",
    "x"
   ]
  },
  {
   "cell_type": "code",
   "execution_count": null,
   "metadata": {
    "colab": {
     "base_uri": "https://localhost:8080/"
    },
    "id": "6jT4EuQPF-Wc",
    "outputId": "9abb81a1-aa5e-4ce6-f571-935ea99e81a4"
   },
   "outputs": [
    {
     "data": {
      "text/plain": [
       "array([ 1,  2,  3,  4,  5,  6,  6,  9, 69], dtype=int64)"
      ]
     },
     "execution_count": 6,
     "metadata": {},
     "output_type": "execute_result"
    }
   ],
   "source": [
    "# append to axis 1\n",
    "x = np.append(x, [6,9,69])\n",
    "x"
   ]
  },
  {
   "cell_type": "markdown",
   "metadata": {
    "id": "vj2ls0_CHq4u"
   },
   "source": [
    "H/W: Explore method: insert"
   ]
  },
  {
   "cell_type": "markdown",
   "metadata": {
    "id": "ggRSAWZ48bd_"
   },
   "source": [
    "To represent the numpy array Y mathematically:\n",
    "\n",
    "\\begin{bmatrix}\n",
    "1 & 2 & 3 \\\\\n",
    "4 & 5 & 6 \\\\\n",
    "7 & 8 & 9 \\\\\n",
    "10 & 11 & 12 \\\\\n",
    "\\end{bmatrix} \\\n"
   ]
  },
  {
   "cell_type": "code",
   "execution_count": null,
   "metadata": {
    "colab": {
     "base_uri": "https://localhost:8080/"
    },
    "id": "RsXhJrrU67mA",
    "outputId": "d23b9bf4-9329-4622-c3be-4f2f4385c0b5"
   },
   "outputs": [
    {
     "name": "stdout",
     "output_type": "stream",
     "text": [
      "Y has dimensions: (4, 3)\n",
      "Y has a total of 12 elements\n",
      "Y is an object of type: <class 'numpy.ndarray'>\n",
      "The elements in Y are of type: int32\n"
     ]
    }
   ],
   "source": [
    "# Create a rank 2 ndarray that only contains integers\n",
    "Y = np.array([[1,2,3],[4,5,6],[7,8,9], [10,11,12]])\n",
    "print('Y has dimensions:', Y.shape) # Y has dimensions: (4, 3)\n",
    "print('Y has a total of', Y.size, 'elements') # Y has a total of 12 elements\n",
    "print('Y is an object of type:', type(Y)) # Y is an object of type: class 'numpy.ndarray'\n",
    "print('The elements in Y are of type:', Y.dtype) # The elements in Y are of type: int64"
   ]
  },
  {
   "cell_type": "markdown",
   "metadata": {
    "id": "HScmknIK-UMW"
   },
   "source": [
    "```\n",
    "numpy.zeros(shape, dtype=float, order='C', *, like=None)\n",
    "```"
   ]
  },
  {
   "cell_type": "code",
   "execution_count": null,
   "metadata": {
    "colab": {
     "base_uri": "https://localhost:8080/"
    },
    "id": "g7e5Qq6G67jY",
    "outputId": "3a8b300b-5234-4d39-d6a2-f1e6aa9f9918"
   },
   "outputs": [
    {
     "data": {
      "text/plain": [
       "array([[0., 0., 0., 0.],\n",
       "       [0., 0., 0., 0.],\n",
       "       [0., 0., 0., 0.]])"
      ]
     },
     "execution_count": 8,
     "metadata": {},
     "output_type": "execute_result"
    }
   ],
   "source": [
    "# array of zero\n",
    "s\n",
    "X = np.zeros((3,4))\n",
    "X"
   ]
  },
  {
   "cell_type": "code",
   "execution_count": null,
   "metadata": {
    "colab": {
     "base_uri": "https://localhost:8080/"
    },
    "id": "06gPxaX_67g4",
    "outputId": "eb821945-649c-46df-fa76-f3c26c4d436d"
   },
   "outputs": [
    {
     "data": {
      "text/plain": [
       "array([[1., 1., 1., 1., 1., 1., 1., 1., 1.],\n",
       "       [1., 1., 1., 1., 1., 1., 1., 1., 1.],\n",
       "       [1., 1., 1., 1., 1., 1., 1., 1., 1.],\n",
       "       [1., 1., 1., 1., 1., 1., 1., 1., 1.],\n",
       "       [1., 1., 1., 1., 1., 1., 1., 1., 1.],\n",
       "       [1., 1., 1., 1., 1., 1., 1., 1., 1.]])"
      ]
     },
     "execution_count": 9,
     "metadata": {},
     "output_type": "execute_result"
    }
   ],
   "source": [
    "# array of ones\n",
    "X = np.ones((6,9))\n",
    "X"
   ]
  },
  {
   "cell_type": "code",
   "execution_count": null,
   "metadata": {
    "colab": {
     "base_uri": "https://localhost:8080/"
    },
    "id": "sYZSuOyr-YO7",
    "outputId": "e0c1bae6-8596-4a32-f65d-8695fa523fbb"
   },
   "outputs": [
    {
     "data": {
      "text/plain": [
       "array([[5, 5, 5],\n",
       "       [5, 5, 5]])"
      ]
     },
     "execution_count": 10,
     "metadata": {},
     "output_type": "execute_result"
    }
   ],
   "source": [
    "X = np.full((2,3), 5)\n",
    "X"
   ]
  },
  {
   "cell_type": "code",
   "execution_count": null,
   "metadata": {
    "colab": {
     "base_uri": "https://localhost:8080/"
    },
    "id": "jb6diNNS-YMD",
    "outputId": "b51372f2-51be-424e-a6b3-59018aed43f4"
   },
   "outputs": [
    {
     "data": {
      "text/plain": [
       "array([[1., 0., 0., 0., 0.],\n",
       "       [0., 1., 0., 0., 0.],\n",
       "       [0., 0., 1., 0., 0.],\n",
       "       [0., 0., 0., 1., 0.],\n",
       "       [0., 0., 0., 0., 1.]])"
      ]
     },
     "execution_count": 11,
     "metadata": {},
     "output_type": "execute_result"
    }
   ],
   "source": [
    "# Identity Matrix\n",
    "# Since all Identity Matrices are square, the np.eye() function only takes a single integer as an argument\n",
    "# 5 x 5 Identity matrix\n",
    "X = np.eye(5)\n",
    "X"
   ]
  },
  {
   "cell_type": "code",
   "execution_count": null,
   "metadata": {
    "id": "jMZlDtD6-YJL"
   },
   "outputs": [],
   "source": [
    "# Diagonal Matrix\n",
    "# 4 x 4 diagonal matrix that contains the numbers 10,20,30, and 50 on its main diagonal\n",
    "X = np.diag([10,20,30,50])"
   ]
  },
  {
   "cell_type": "markdown",
   "metadata": {
    "id": "TPW4zDx3_72n"
   },
   "source": [
    "#### Arange"
   ]
  },
  {
   "cell_type": "code",
   "execution_count": null,
   "metadata": {
    "colab": {
     "base_uri": "https://localhost:8080/"
    },
    "id": "v4raefCu__b3",
    "outputId": "93afff6e-861b-4b30-8693-6a8d8bc6c778"
   },
   "outputs": [
    {
     "data": {
      "text/plain": [
       "array([0, 1, 2, 3, 4, 5, 6, 7, 8, 9])"
      ]
     },
     "execution_count": 13,
     "metadata": {},
     "output_type": "execute_result"
    }
   ],
   "source": [
    "# Arange\n",
    "# rank 1 ndarray that has sequential integers from 0 to 9\n",
    "x = np.arange(10)\n",
    "x"
   ]
  },
  {
   "cell_type": "markdown",
   "metadata": {
    "id": "geBSP5NAA09t"
   },
   "source": []
  },
  {
   "cell_type": "markdown",
   "metadata": {
    "id": "LQQ2KjriA--E"
   },
   "source": [
    "##### [The magical link](https://numpy.org/doc/stable/reference/generated/numpy.arange.html)"
   ]
  },
  {
   "cell_type": "code",
   "execution_count": null,
   "metadata": {
    "colab": {
     "base_uri": "https://localhost:8080/"
    },
    "id": "iybsakMLACvg",
    "outputId": "11ce68a3-a82f-44e4-fdd6-bf103772254c"
   },
   "outputs": [
    {
     "data": {
      "text/plain": [
       "array([4, 5, 6, 7, 8, 9])"
      ]
     },
     "execution_count": 14,
     "metadata": {},
     "output_type": "execute_result"
    }
   ],
   "source": [
    "# rank 1 ndarray that has sequential integers from 4 to 9\n",
    "# [start, stop)\n",
    "x = np.arange(4,10)\n",
    "x"
   ]
  },
  {
   "cell_type": "code",
   "execution_count": null,
   "metadata": {
    "colab": {
     "base_uri": "https://localhost:8080/"
    },
    "id": "LsaRbnE0AEZn",
    "outputId": "9624c7bc-b1eb-4328-d664-2e4fd0c6a122"
   },
   "outputs": [
    {
     "data": {
      "text/plain": [
       "array([ 1,  4,  7, 10, 13])"
      ]
     },
     "execution_count": 15,
     "metadata": {},
     "output_type": "execute_result"
    }
   ],
   "source": [
    "# rank 1 ndarray that has evenly spaced integers from 1 to 13 in steps of 3.\n",
    "x = np.arange(1,14,3)\n",
    "x"
   ]
  },
  {
   "cell_type": "markdown",
   "metadata": {
    "id": "MjF5AMnXBRCF"
   },
   "source": [
    "H/W <br>\n",
    "Explore some similar functions: np.linspace,"
   ]
  },
  {
   "cell_type": "markdown",
   "metadata": {
    "id": "Nb_lWVVSBkLE"
   },
   "source": [
    "#### Reshape"
   ]
  },
  {
   "cell_type": "code",
   "execution_count": null,
   "metadata": {
    "colab": {
     "base_uri": "https://localhost:8080/"
    },
    "id": "V6aLGYKJ-YGk",
    "outputId": "84ba3094-982b-44c7-8edf-59c8c7f1fd4a"
   },
   "outputs": [
    {
     "data": {
      "text/plain": [
       "array([ 0,  1,  2,  3,  4,  5,  6,  7,  8,  9, 10, 11, 12, 13, 14, 15, 16,\n",
       "       17, 18, 19])"
      ]
     },
     "execution_count": 16,
     "metadata": {},
     "output_type": "execute_result"
    }
   ],
   "source": [
    "# Reshape\n",
    "# np.reshape(ndarray, new_shape)\n",
    "# converts the given ndarray into the specified new_shape\n",
    "x = np.arange(20)\n",
    "x"
   ]
  },
  {
   "cell_type": "code",
   "execution_count": null,
   "metadata": {
    "colab": {
     "base_uri": "https://localhost:8080/"
    },
    "id": "NbkXZODlB0y1",
    "outputId": "8eebae66-515a-4e20-db79-cb3402eb9c8b"
   },
   "outputs": [
    {
     "data": {
      "text/plain": [
       "array([[ 0,  1,  2,  3,  4],\n",
       "       [ 5,  6,  7,  8,  9],\n",
       "       [10, 11, 12, 13, 14],\n",
       "       [15, 16, 17, 18, 19]])"
      ]
     },
     "execution_count": 17,
     "metadata": {},
     "output_type": "execute_result"
    }
   ],
   "source": [
    "x = np.reshape(x, (4,5))\n",
    "x"
   ]
  },
  {
   "cell_type": "code",
   "execution_count": null,
   "metadata": {
    "colab": {
     "base_uri": "https://localhost:8080/"
    },
    "id": "kjPJB1_OB3W2",
    "outputId": "11b5cb18-5d3f-47b7-f4c6-d4f20dedb79c"
   },
   "outputs": [
    {
     "data": {
      "text/plain": [
       "array([[ 0,  1,  2,  3,  4],\n",
       "       [ 5,  6,  7,  8,  9],\n",
       "       [10, 11, 12, 13, 14],\n",
       "       [15, 16, 17, 18, 19]])"
      ]
     },
     "execution_count": 18,
     "metadata": {},
     "output_type": "execute_result"
    }
   ],
   "source": [
    "## Or\n",
    "## specify any one of the dimension as -1 that means\n",
    "## np will auto calculate it basd on other dimensions\n",
    "x = np.reshape(x, (-1,5))\n",
    "x"
   ]
  },
  {
   "cell_type": "code",
   "execution_count": null,
   "metadata": {
    "colab": {
     "base_uri": "https://localhost:8080/"
    },
    "id": "UWyx4Dpu-YB4",
    "outputId": "1599c167-ce2b-4690-8dbe-0bc00ea72a86"
   },
   "outputs": [
    {
     "data": {
      "text/plain": [
       "array([[ 0,  1,  2,  3,  4],\n",
       "       [ 5,  6,  7,  8,  9],\n",
       "       [10, 11, 12, 13, 14],\n",
       "       [15, 16, 17, 18, 19]])"
      ]
     },
     "execution_count": 19,
     "metadata": {},
     "output_type": "execute_result"
    }
   ],
   "source": [
    "# or\n",
    "x = np.arange(20).reshape(4, 5) # does the same thing as above\n",
    "# One great feature about NumPy, is that some functions can also be\n",
    "# applied as methods. This allows us to apply different functions in\n",
    "# sequence in just one line of code\n",
    "x"
   ]
  },
  {
   "cell_type": "markdown",
   "metadata": {
    "id": "GiWMq0yqCLsk"
   },
   "source": [
    "#### Indexing and Slicing Arrays\n",
    "Accessing elements and slicing arrays is similar to Python lists:"
   ]
  },
  {
   "cell_type": "code",
   "execution_count": null,
   "metadata": {
    "colab": {
     "base_uri": "https://localhost:8080/"
    },
    "id": "rArk87fH-X-0",
    "outputId": "8a33738c-0144-4616-be3f-4fa571bdaf74"
   },
   "outputs": [
    {
     "data": {
      "text/plain": [
       "array([[ 0,  1,  2,  3,  4],\n",
       "       [ 5,  6,  7,  8,  9],\n",
       "       [10, 11, 12, 13, 14],\n",
       "       [15, 16, 17, 18, 19]])"
      ]
     },
     "execution_count": 20,
     "metadata": {},
     "output_type": "execute_result"
    }
   ],
   "source": [
    "# Slicing\n",
    "# ndarray[start:end]\n",
    "# ndarray[start:]\n",
    "# ndarray[:end]\n",
    "# ndarray[<start>:<stop>:<step>]\n",
    "\n",
    "# In methods one and three, the end index is excluded [,)\n",
    "## Now guess the output\n",
    "X = np.arange(20).reshape(4, 5)\n",
    "X"
   ]
  },
  {
   "cell_type": "code",
   "execution_count": null,
   "metadata": {
    "colab": {
     "base_uri": "https://localhost:8080/"
    },
    "id": "G-wd1N8zCpkx",
    "outputId": "346ca63e-a154-4d41-ed82-028fa36884af"
   },
   "outputs": [
    {
     "data": {
      "text/plain": [
       "array([[ 7,  8,  9],\n",
       "       [12, 13, 14],\n",
       "       [17, 18, 19]])"
      ]
     },
     "execution_count": 21,
     "metadata": {},
     "output_type": "execute_result"
    }
   ],
   "source": [
    "# select all the elements that are in the 2nd through 4th rows and in the 3rd to 5th columns\n",
    "Z = X[1:4,2:5]\n",
    "Z"
   ]
  },
  {
   "cell_type": "code",
   "execution_count": null,
   "metadata": {
    "colab": {
     "base_uri": "https://localhost:8080/"
    },
    "id": "li_4g3ilCsrq",
    "outputId": "d15d5400-aaa6-4670-c3b5-8e72b98ffb7a"
   },
   "outputs": [
    {
     "data": {
      "text/plain": [
       "array([[ 7,  8,  9],\n",
       "       [12, 13, 14],\n",
       "       [17, 18, 19]])"
      ]
     },
     "execution_count": 22,
     "metadata": {},
     "output_type": "execute_result"
    }
   ],
   "source": [
    "# or\n",
    "Z = X[1:,2:5]\n",
    "Z"
   ]
  },
  {
   "cell_type": "code",
   "execution_count": null,
   "metadata": {
    "colab": {
     "base_uri": "https://localhost:8080/"
    },
    "id": "LmUxGlrZC4ef",
    "outputId": "e30ec365-67c1-449d-d6f7-9574caef80e0"
   },
   "outputs": [
    {
     "name": "stdout",
     "output_type": "stream",
     "text": [
      "v = [10 11 12 13 14]\n"
     ]
    }
   ],
   "source": [
    "# elements = a_list[<start>:<stop>:<step>]\n",
    "# select all the elements in the 3rd row\n",
    "v = X[2,:]\n",
    "print(\"v =\",v)"
   ]
  },
  {
   "cell_type": "code",
   "execution_count": null,
   "metadata": {
    "colab": {
     "base_uri": "https://localhost:8080/"
    },
    "id": "VysHMGIEC4by",
    "outputId": "fd3cf194-cae2-40bb-b8f0-66e968da1f17"
   },
   "outputs": [
    {
     "name": "stdout",
     "output_type": "stream",
     "text": [
      "q = [ 2  7 12 17]\n"
     ]
    }
   ],
   "source": [
    "# select all the elements in the 3rd column\n",
    "q = X[:,2]\n",
    "print(\"q =\",q)"
   ]
  },
  {
   "cell_type": "code",
   "execution_count": null,
   "metadata": {
    "colab": {
     "base_uri": "https://localhost:8080/"
    },
    "id": "CleyuaX8C4ZO",
    "outputId": "feb13bb6-ccf0-4635-b54d-944a73439d20"
   },
   "outputs": [
    {
     "name": "stdout",
     "output_type": "stream",
     "text": [
      "R= [[ 2]\n",
      " [ 7]\n",
      " [12]\n",
      " [17]]\n"
     ]
    }
   ],
   "source": [
    "# select all the elements in the 3rd column but return a rank 2 ndarray\n",
    "R = X[:,2:3]\n",
    "print(\"R=\",R)"
   ]
  },
  {
   "cell_type": "markdown",
   "metadata": {
    "id": "SpbTIoAWDFR8"
   },
   "source": [
    "Let's Test"
   ]
  },
  {
   "cell_type": "code",
   "execution_count": null,
   "metadata": {
    "id": "pDuDJxrdC4Wo"
   },
   "outputs": [],
   "source": [
    "## give a code for selecting all the elements from second row to second last and first column to third colum\n",
    "# R = X[?:?,?:?]\n",
    "# print(\"R=\",R)"
   ]
  },
  {
   "cell_type": "code",
   "execution_count": null,
   "metadata": {
    "id": "6klWcfoBEXRe"
   },
   "outputs": [],
   "source": []
  },
  {
   "cell_type": "code",
   "execution_count": null,
   "metadata": {
    "id": "w1l1AsLh-X7n"
   },
   "outputs": [],
   "source": [
    "# Note: Slicing creates a view, not a copy\n",
    "# when we make assignments, such as: Z = X[1:4,2:5]\n",
    "# the slice of the original array X is not copied in the variable Z.\n",
    "# Rather, X and Z are now just two different names for the same ndarray.\n",
    "# We say that slicing only creates a view of the original array.\n",
    "# This means if we make changes to Z, X changes as well."
   ]
  },
  {
   "cell_type": "markdown",
   "metadata": {
    "id": "RjaJwhdpIJ-L"
   },
   "source": [
    "#### Stacking"
   ]
  },
  {
   "cell_type": "code",
   "execution_count": null,
   "metadata": {
    "id": "9OjMT6lSIIb8"
   },
   "outputs": [],
   "source": [
    "# NumPy also allows us to stack ndarrays on top of each other,\n",
    "# or to stack them side by side. The stacking is done using either\n",
    "# the np.vstack() function for vertical stacking, or the np.hstack()\n",
    "# function for horizontal stacking. It is important to note that in\n",
    "# order to stack ndarrays, the shape of the ndarrays must match.\n",
    "x = np.array([1,2])\n",
    "Y = np.array([[3,4],[5,6]])\n"
   ]
  },
  {
   "cell_type": "code",
   "execution_count": null,
   "metadata": {
    "colab": {
     "base_uri": "https://localhost:8080/"
    },
    "id": "aA3XO_aXIRvs",
    "outputId": "baaf2cc3-62b7-42e8-f69b-20d27f325c87"
   },
   "outputs": [
    {
     "data": {
      "text/plain": [
       "array([[1, 2],\n",
       "       [3, 4],\n",
       "       [5, 6]])"
      ]
     },
     "execution_count": 29,
     "metadata": {},
     "output_type": "execute_result"
    }
   ],
   "source": [
    "z = np.vstack((x,Y)) # [[1,2], [3,4], [5,6]]\n",
    "z"
   ]
  },
  {
   "cell_type": "code",
   "execution_count": null,
   "metadata": {
    "colab": {
     "base_uri": "https://localhost:8080/"
    },
    "id": "Nty0fhk0IVSG",
    "outputId": "c705127e-e754-47c0-b289-e01c1941aedb"
   },
   "outputs": [
    {
     "data": {
      "text/plain": [
       "array([[3, 4, 1],\n",
       "       [5, 6, 2]])"
      ]
     },
     "execution_count": 30,
     "metadata": {},
     "output_type": "execute_result"
    }
   ],
   "source": [
    "w = np.hstack((Y,x.reshape(2,1))) # [[3,4,1], [5,6,2]]\n",
    "w"
   ]
  },
  {
   "cell_type": "markdown",
   "metadata": {
    "id": "Cso-safNEafT"
   },
   "source": [
    "#### Math Functions"
   ]
  },
  {
   "cell_type": "markdown",
   "metadata": {
    "id": "eWvWTFBZE_fo"
   },
   "source": [
    "Some of the basic methods numpy provides\n",
    "```\n",
    "np.add(X,Y)\n",
    "np.subtract(X,Y)\n",
    "np.multiply(X,Y)\n",
    "np.divide(X,Y)\n",
    "\n",
    "# apply mathematical functions to all elements of an ndarray at once\n",
    "np.exp(x)\n",
    "np.sqrt(x)\n",
    "np.power(x,2)\n",
    "```"
   ]
  },
  {
   "cell_type": "code",
   "execution_count": null,
   "metadata": {
    "colab": {
     "base_uri": "https://localhost:8080/"
    },
    "id": "TxHRhogF-X4D",
    "outputId": "da344816-f6c5-45ed-b13f-1b79a5b79c2a"
   },
   "outputs": [
    {
     "data": {
      "text/plain": [
       "array([[1, 2],\n",
       "       [3, 4]])"
      ]
     },
     "execution_count": 31,
     "metadata": {},
     "output_type": "execute_result"
    }
   ],
   "source": [
    "# in order to do these operations the shapes of the ndarrays\n",
    "# being operated on, must have the same shape or be broadcastable\n",
    "X = np.array([1,2,3,4]).reshape(2,2)\n",
    "X"
   ]
  },
  {
   "cell_type": "code",
   "execution_count": null,
   "metadata": {
    "colab": {
     "base_uri": "https://localhost:8080/"
    },
    "id": "tIEFQxy2-X02",
    "outputId": "a982f18a-890c-4983-8c8a-570cef2ff32b"
   },
   "outputs": [
    {
     "name": "stdout",
     "output_type": "stream",
     "text": [
      "Average of all elements in X: 2.5\n",
      "Average of all elements in the columns of X: [2. 3.]\n",
      "Average of all elements in the rows of X: [1.5 3.5]\n",
      "\n",
      "Sum of all elements in X: 10\n",
      "Standard Deviation of all elements in X: 1.118033988749895\n",
      "Median of all elements in X: 2.5\n",
      "Maximum value of all elements in X: 4\n",
      "Minimum value of all elements in X: 1\n"
     ]
    }
   ],
   "source": [
    "## Statistical Functions\n",
    "# Statistical Functions\n",
    "print('Average of all elements in X:', X.mean())\n",
    "print('Average of all elements in the columns of X:', X.mean(axis=0))\n",
    "print('Average of all elements in the rows of X:', X.mean(axis=1))\n",
    "print()\n",
    "print('Sum of all elements in X:', X.sum())\n",
    "print('Standard Deviation of all elements in X:', X.std())\n",
    "print('Median of all elements in X:', np.median(X))\n",
    "print('Maximum value of all elements in X:', X.max())\n",
    "print('Minimum value of all elements in X:', X.min())"
   ]
  },
  {
   "cell_type": "markdown",
   "metadata": {
    "id": "Xwe2wBZCInb7"
   },
   "source": [
    "#### Understanding axis Parameter"
   ]
  },
  {
   "cell_type": "markdown",
   "metadata": {
    "id": "G22SR14rKBoY"
   },
   "source": [
    "![](https://www.sharpsightlabs.com/wp-content/uploads/2018/12/numpy-arrays-have-axes_updated_v2.png)"
   ]
  },
  {
   "cell_type": "code",
   "execution_count": null,
   "metadata": {
    "colab": {
     "base_uri": "https://localhost:8080/"
    },
    "id": "jgPX7A3r-Xx-",
    "outputId": "abcced16-427a-4525-9136-b20aff85d4ed"
   },
   "outputs": [
    {
     "data": {
      "text/plain": [
       "array([[1, 2, 3],\n",
       "       [4, 5, 6]])"
      ]
     },
     "execution_count": 33,
     "metadata": {},
     "output_type": "execute_result"
    }
   ],
   "source": [
    "matrix = np.array([[1, 2, 3], [4, 5, 6]])\n",
    "matrix"
   ]
  },
  {
   "cell_type": "code",
   "execution_count": null,
   "metadata": {
    "colab": {
     "base_uri": "https://localhost:8080/"
    },
    "id": "8g4aeNCgIyWx",
    "outputId": "da1ea7f6-bc6e-4bdb-8052-3f7baf425d06"
   },
   "outputs": [
    {
     "name": "stdout",
     "output_type": "stream",
     "text": [
      "[5 7 9]\n"
     ]
    }
   ],
   "source": [
    "# Calculate sum along columns (axis=0) and rows (axis=1)\n",
    "print(np.sum(matrix, axis=0))"
   ]
  },
  {
   "cell_type": "code",
   "execution_count": null,
   "metadata": {
    "colab": {
     "base_uri": "https://localhost:8080/"
    },
    "id": "D3in16y5-XvN",
    "outputId": "9cd9e997-cdb0-4124-e33d-1f4c57f1035a"
   },
   "outputs": [
    {
     "name": "stdout",
     "output_type": "stream",
     "text": [
      "[2. 5.]\n"
     ]
    }
   ],
   "source": [
    "print(np.mean(matrix, axis=1))"
   ]
  },
  {
   "cell_type": "markdown",
   "metadata": {
    "id": "bprwyO3sKIGO"
   },
   "source": [
    "#### Matrix Multiplication (matmul)"
   ]
  },
  {
   "cell_type": "code",
   "execution_count": null,
   "metadata": {
    "id": "0sG9jhbo-XsL"
   },
   "outputs": [],
   "source": [
    "matrix_a = np.array([[1, 2], [3, 4]])\n",
    "matrix_b = np.array([[5, 6], [7, 8]])\n",
    "\n"
   ]
  },
  {
   "cell_type": "code",
   "execution_count": null,
   "metadata": {
    "colab": {
     "base_uri": "https://localhost:8080/"
    },
    "id": "8fbNTr2F-Xpk",
    "outputId": "4dcd7fdc-b0f0-4490-d777-76cd0b4d43eb"
   },
   "outputs": [
    {
     "data": {
      "text/plain": [
       "array([[1, 2],\n",
       "       [3, 4]])"
      ]
     },
     "execution_count": 37,
     "metadata": {},
     "output_type": "execute_result"
    }
   ],
   "source": [
    "matrix_a"
   ]
  },
  {
   "cell_type": "code",
   "execution_count": null,
   "metadata": {
    "colab": {
     "base_uri": "https://localhost:8080/"
    },
    "id": "CXn4gtnW-Xm-",
    "outputId": "a50bbc11-0780-48a7-faf0-dede77a6fad5"
   },
   "outputs": [
    {
     "data": {
      "text/plain": [
       "array([[5, 6],\n",
       "       [7, 8]])"
      ]
     },
     "execution_count": 38,
     "metadata": {},
     "output_type": "execute_result"
    }
   ],
   "source": [
    "matrix_b"
   ]
  },
  {
   "cell_type": "code",
   "execution_count": null,
   "metadata": {
    "colab": {
     "base_uri": "https://localhost:8080/"
    },
    "id": "uOClXeqgKhrz",
    "outputId": "2f6d9a8e-0d1f-4281-e5f0-9deab929b5df"
   },
   "outputs": [
    {
     "name": "stdout",
     "output_type": "stream",
     "text": [
      "[[19 22]\n",
      " [43 50]]\n"
     ]
    }
   ],
   "source": [
    "result = np.matmul(matrix_a, matrix_b)\n",
    "print(result)"
   ]
  },
  {
   "cell_type": "markdown",
   "metadata": {
    "id": "VQHyc3ZlKyuk"
   },
   "source": [
    "#### Outer and Inner Products"
   ]
  },
  {
   "cell_type": "code",
   "execution_count": null,
   "metadata": {
    "colab": {
     "base_uri": "https://localhost:8080/"
    },
    "id": "hBrfSJ4QKhpb",
    "outputId": "3e836607-ce97-45af-adae-4a09c0fa4eb9"
   },
   "outputs": [
    {
     "name": "stdout",
     "output_type": "stream",
     "text": [
      "[[ 4  5  6]\n",
      " [ 8 10 12]\n",
      " [12 15 18]]\n"
     ]
    }
   ],
   "source": [
    "vector_a = np.array([1, 2, 3])\n",
    "vector_b = np.array([4, 5, 6])\n",
    "\n",
    "outer_product = np.outer(vector_a, vector_b)\n",
    "inner_product = np.inner(vector_a, vector_b)\n",
    "\n",
    "print(outer_product) # bT.a -> 3X1 1X3"
   ]
  },
  {
   "cell_type": "code",
   "execution_count": null,
   "metadata": {
    "colab": {
     "base_uri": "https://localhost:8080/"
    },
    "id": "YUxR46RJKhmj",
    "outputId": "f434e1b5-97f4-413b-cbda-94e3dc632dd4"
   },
   "outputs": [
    {
     "name": "stdout",
     "output_type": "stream",
     "text": [
      "32\n"
     ]
    }
   ],
   "source": [
    "print(inner_product) ## aT.b\n"
   ]
  },
  {
   "cell_type": "markdown",
   "metadata": {
    "id": "sWAfP4iRMbQH"
   },
   "source": [
    "### Converting Pandas DataFrame to NumPy Array"
   ]
  },
  {
   "cell_type": "markdown",
   "metadata": {
    "id": "j2woPNxDMlNf"
   },
   "source": [
    "Why Convert? <br>\n",
    "NumPy arrays are more suitable for numerical operations, while DataFrames are versatile data structures for data manipulation."
   ]
  },
  {
   "cell_type": "code",
   "execution_count": null,
   "metadata": {
    "colab": {
     "base_uri": "https://localhost:8080/",
     "height": 143
    },
    "id": "twMKLRS6Mkvf",
    "outputId": "01b3b70c-ce19-4905-9468-e08f59fff868"
   },
   "outputs": [
    {
     "data": {
      "text/html": [
       "<div>\n",
       "<style scoped>\n",
       "    .dataframe tbody tr th:only-of-type {\n",
       "        vertical-align: middle;\n",
       "    }\n",
       "\n",
       "    .dataframe tbody tr th {\n",
       "        vertical-align: top;\n",
       "    }\n",
       "\n",
       "    .dataframe thead th {\n",
       "        text-align: right;\n",
       "    }\n",
       "</style>\n",
       "<table border=\"1\" class=\"dataframe\">\n",
       "  <thead>\n",
       "    <tr style=\"text-align: right;\">\n",
       "      <th></th>\n",
       "      <th>A</th>\n",
       "      <th>B</th>\n",
       "    </tr>\n",
       "  </thead>\n",
       "  <tbody>\n",
       "    <tr>\n",
       "      <th>0</th>\n",
       "      <td>1</td>\n",
       "      <td>4</td>\n",
       "    </tr>\n",
       "    <tr>\n",
       "      <th>1</th>\n",
       "      <td>2</td>\n",
       "      <td>5</td>\n",
       "    </tr>\n",
       "    <tr>\n",
       "      <th>2</th>\n",
       "      <td>3</td>\n",
       "      <td>6</td>\n",
       "    </tr>\n",
       "  </tbody>\n",
       "</table>\n",
       "</div>"
      ],
      "text/plain": [
       "   A  B\n",
       "0  1  4\n",
       "1  2  5\n",
       "2  3  6"
      ]
     },
     "execution_count": 42,
     "metadata": {},
     "output_type": "execute_result"
    }
   ],
   "source": [
    "import pandas as pd\n",
    "## one way of creating df from dictionary\n",
    "## very useful in long run\n",
    "data = {'A': [1, 2, 3], 'B': [4, 5, 6]}\n",
    "df = pd.DataFrame(data)\n",
    "df.head()"
   ]
  },
  {
   "cell_type": "code",
   "execution_count": null,
   "metadata": {
    "colab": {
     "base_uri": "https://localhost:8080/"
    },
    "id": "9onLt-QZKhj2",
    "outputId": "d9b685f6-a3e3-49e7-f929-acb7ff1a3ed1"
   },
   "outputs": [
    {
     "name": "stdout",
     "output_type": "stream",
     "text": [
      "[[1 4]\n",
      " [2 5]\n",
      " [3 6]]\n"
     ]
    }
   ],
   "source": [
    "# Convert DataFrame to NumPy array\n",
    "numpy_array = df.to_numpy()\n",
    "print(numpy_array)"
   ]
  },
  {
   "cell_type": "markdown",
   "metadata": {
    "id": "h3TgGPnaM-O3"
   },
   "source": [
    "#### Some other methods"
   ]
  },
  {
   "cell_type": "code",
   "execution_count": null,
   "metadata": {
    "colab": {
     "base_uri": "https://localhost:8080/"
    },
    "executionInfo": {
     "elapsed": 6,
     "status": "ok",
     "timestamp": 1693028709800,
     "user": {
      "displayName": "Soma Chakraborty",
      "userId": "04724583845638184703"
     },
     "user_tz": -330
    },
    "id": "0zXDHPE0KhhD",
    "outputId": "df82eb93-cfd9-4786-f781-e0eeffdb89bd"
   },
   "outputs": [
    {
     "name": "stdout",
     "output_type": "stream",
     "text": [
      "[3 4 5]\n"
     ]
    }
   ],
   "source": [
    "# Broadcasting\n",
    "# NumPy allows operations between arrays of different shapes, known as broadcasting:\n",
    "\n",
    "a = np.array([1, 2, 3])\n",
    "b = 2\n",
    "\n",
    "result = a + b\n",
    "print(result)"
   ]
  },
  {
   "cell_type": "markdown",
   "metadata": {
    "id": "4BhZdjy8NN6D"
   },
   "source": [
    "##### **A universal function (or ufunc for short)** is a function that operates on ndarrays in an element-by-element fashion, supporting array broadcasting, type casting, and several other standard features."
   ]
  },
  {
   "cell_type": "markdown",
   "metadata": {
    "id": "TETwbfktRn60"
   },
   "source": []
  },
  {
   "cell_type": "code",
   "execution_count": null,
   "metadata": {
    "colab": {
     "base_uri": "https://localhost:8080/"
    },
    "id": "eRbQsW4nKheb",
    "outputId": "e43d1225-ab1f-4e93-f3f4-efebc7949ebb"
   },
   "outputs": [
    {
     "data": {
      "text/plain": [
       "array([ -2,   4,  -6,   8, -10])"
      ]
     },
     "execution_count": 45,
     "metadata": {},
     "output_type": "execute_result"
    }
   ],
   "source": [
    "def complex_array_function(input_array):\n",
    "    return np.sqrt(np.mean(np.square(np.abs(input_array))))\n",
    "\n",
    "# Example input array\n",
    "input_array = np.array([-2, 4, -6, 8, -10])\n",
    "input_array\n"
   ]
  },
  {
   "cell_type": "code",
   "execution_count": null,
   "metadata": {
    "colab": {
     "base_uri": "https://localhost:8080/"
    },
    "id": "bxrWYr0_Khbz",
    "outputId": "bd256ac2-5d40-445b-f87c-219de5942064"
   },
   "outputs": [
    {
     "name": "stdout",
     "output_type": "stream",
     "text": [
      "Result: 6.6332495807108\n"
     ]
    }
   ],
   "source": [
    "# Calling the complex function\n",
    "result = complex_array_function(input_array)\n",
    "print(\"Result:\", result)"
   ]
  },
  {
   "cell_type": "markdown",
   "metadata": {
    "id": "ZdJHIys8PrtN"
   },
   "source": [
    "##### Random"
   ]
  },
  {
   "cell_type": "code",
   "execution_count": null,
   "metadata": {
    "colab": {
     "base_uri": "https://localhost:8080/"
    },
    "id": "uXoWP3ODKhWT",
    "outputId": "4e90f522-2ef7-4bfd-fa0f-a702077c5daf"
   },
   "outputs": [
    {
     "data": {
      "text/plain": [
       "array([[0.92484703, 0.92141491, 0.08038375],\n",
       "       [0.00580648, 0.64140213, 0.0334821 ],\n",
       "       [0.28029782, 0.11955496, 0.06441267]])"
      ]
     },
     "execution_count": 47,
     "metadata": {},
     "output_type": "execute_result"
    }
   ],
   "source": [
    "# Random\n",
    "# 3 x 3 ndarray with random floats in the half-open interval [0.0, 1.0).\n",
    "# np.random.random(shape)\n",
    "X = np.random.random((3,3))\n",
    "X"
   ]
  },
  {
   "cell_type": "code",
   "execution_count": null,
   "metadata": {
    "colab": {
     "base_uri": "https://localhost:8080/"
    },
    "id": "9cgiOsNfKhTk",
    "outputId": "27e767dd-c423-4b48-8f13-824d09285998"
   },
   "outputs": [
    {
     "data": {
      "text/plain": [
       "array([[14,  9],\n",
       "       [14, 10],\n",
       "       [ 5,  9]])"
      ]
     },
     "execution_count": 48,
     "metadata": {},
     "output_type": "execute_result"
    }
   ],
   "source": [
    "# np.random.randint(start, stop, size = shape)\n",
    "# [start, stop)\n",
    "X = np.random.randint(4,15,size=(3,2))\n",
    "X"
   ]
  },
  {
   "cell_type": "code",
   "execution_count": null,
   "metadata": {
    "id": "q-wwGqeFKg9U"
   },
   "outputs": [],
   "source": [
    "# create ndarrays with random numbers that satisfy certain statistical properties\n",
    "# 1000 x 1000 ndarray of random floats drawn from normal (Gaussian)\n",
    "# distribution with a mean of zero and a standard deviation of 0.1.\n",
    "# np.random.normal(mean, standard deviation, size=shape)\n",
    "X = np.random.normal(0, 0.1, size=(1000,1000))"
   ]
  },
  {
   "cell_type": "markdown",
   "metadata": {
    "id": "V94ofJwdP8KC"
   },
   "source": [
    "And many more such fuction to genrate random values, also you might have used such function in DS 2 Lab like numpy.random.choice, Have You?"
   ]
  },
  {
   "cell_type": "code",
   "execution_count": null,
   "metadata": {
    "colab": {
     "base_uri": "https://localhost:8080/"
    },
    "id": "yNoU-1scQJg0",
    "outputId": "2c6c213d-0e6f-4689-df1d-830934d21c85"
   },
   "outputs": [
    {
     "data": {
      "text/plain": [
       "2"
      ]
     },
     "execution_count": 50,
     "metadata": {},
     "output_type": "execute_result"
    }
   ],
   "source": [
    "## using same seed will force pseudo random generator to gernetrate same number\n",
    "# np.random.seed(32)\n",
    "x = np.random.randint(0,5)\n",
    "x"
   ]
  },
  {
   "cell_type": "markdown",
   "metadata": {
    "id": "EK9aWCi59lXG"
   },
   "source": [
    "![](https://i.pinimg.com/736x/3e/9e/86/3e9e86d7727f436596e5216a82c74b29.jpg)"
   ]
  }
 ],
 "metadata": {
  "colab": {
   "provenance": []
  },
  "kernelspec": {
   "display_name": "Python 3 (ipykernel)",
   "language": "python",
   "name": "python3"
  },
  "language_info": {
   "codemirror_mode": {
    "name": "ipython",
    "version": 3
   },
   "file_extension": ".py",
   "mimetype": "text/x-python",
   "name": "python",
   "nbconvert_exporter": "python",
   "pygments_lexer": "ipython3",
   "version": "3.11.4"
  }
 },
 "nbformat": 4,
 "nbformat_minor": 4
}
