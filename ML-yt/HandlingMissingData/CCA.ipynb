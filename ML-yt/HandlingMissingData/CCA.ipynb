{
 "cells": [
  {
   "cell_type": "markdown",
   "metadata": {},
   "source": [
    "## Complete Case Analysis (CCA)\n",
    "1. Deletion of rows if values missing in col"
   ]
  },
  {
   "cell_type": "markdown",
   "metadata": {},
   "source": [
    "### Assumption\n",
    "1. Data is missing completely at Random\n",
    "2. Not Like All values bunch Together "
   ]
  },
  {
   "cell_type": "markdown",
   "metadata": {},
   "source": [
    "### Disadvantage\n",
    "1. You might discard large fraction of usefull data\n",
    "2. Excluded values might be informative if data not missing random"
   ]
  },
  {
   "cell_type": "markdown",
   "metadata": {},
   "source": [
    "## When to Use\n",
    "1. Data missing randomly :: if >5% missing in col don't use CCA\n",
    "2. If too much Data missing in col remove col > 80%"
   ]
  },
  {
   "cell_type": "code",
   "execution_count": 8,
   "metadata": {},
   "outputs": [
    {
     "data": {
      "text/plain": [
       "enrollee_id                0.000000\n",
       "city                       0.000000\n",
       "city_development_index     2.500261\n",
       "gender                    23.530640\n",
       "relevent_experience        0.000000\n",
       "enrolled_university        2.014824\n",
       "education_level            2.401086\n",
       "major_discipline          14.683161\n",
       "experience                 0.339284\n",
       "company_size              30.994885\n",
       "company_type              32.049274\n",
       "training_hours             3.998330\n",
       "target                     0.000000\n",
       "dtype: float64"
      ]
     },
     "execution_count": 8,
     "metadata": {},
     "output_type": "execute_result"
    }
   ],
   "source": [
    "import pandas as pd\n",
    "df = pd.read_csv('data_science_job.csv')\n",
    "df.isnull().mean()*100 ## Missing Percentage\n",
    "# Cant be applied on gender"
   ]
  },
  {
   "cell_type": "code",
   "execution_count": 9,
   "metadata": {},
   "outputs": [
    {
     "data": {
      "text/html": [
       "<div>\n",
       "<style scoped>\n",
       "    .dataframe tbody tr th:only-of-type {\n",
       "        vertical-align: middle;\n",
       "    }\n",
       "\n",
       "    .dataframe tbody tr th {\n",
       "        vertical-align: top;\n",
       "    }\n",
       "\n",
       "    .dataframe thead th {\n",
       "        text-align: right;\n",
       "    }\n",
       "</style>\n",
       "<table border=\"1\" class=\"dataframe\">\n",
       "  <thead>\n",
       "    <tr style=\"text-align: right;\">\n",
       "      <th></th>\n",
       "      <th>city_development_index</th>\n",
       "      <th>enrolled_university</th>\n",
       "      <th>education_level</th>\n",
       "      <th>experience</th>\n",
       "      <th>training_hours</th>\n",
       "    </tr>\n",
       "  </thead>\n",
       "  <tbody>\n",
       "    <tr>\n",
       "      <th>0</th>\n",
       "      <td>0.920</td>\n",
       "      <td>no_enrollment</td>\n",
       "      <td>Graduate</td>\n",
       "      <td>20.0</td>\n",
       "      <td>36.0</td>\n",
       "    </tr>\n",
       "    <tr>\n",
       "      <th>1</th>\n",
       "      <td>0.776</td>\n",
       "      <td>no_enrollment</td>\n",
       "      <td>Graduate</td>\n",
       "      <td>15.0</td>\n",
       "      <td>47.0</td>\n",
       "    </tr>\n",
       "    <tr>\n",
       "      <th>2</th>\n",
       "      <td>0.624</td>\n",
       "      <td>Full time course</td>\n",
       "      <td>Graduate</td>\n",
       "      <td>5.0</td>\n",
       "      <td>83.0</td>\n",
       "    </tr>\n",
       "    <tr>\n",
       "      <th>3</th>\n",
       "      <td>0.789</td>\n",
       "      <td>NaN</td>\n",
       "      <td>Graduate</td>\n",
       "      <td>0.0</td>\n",
       "      <td>52.0</td>\n",
       "    </tr>\n",
       "    <tr>\n",
       "      <th>4</th>\n",
       "      <td>0.767</td>\n",
       "      <td>no_enrollment</td>\n",
       "      <td>Masters</td>\n",
       "      <td>20.0</td>\n",
       "      <td>8.0</td>\n",
       "    </tr>\n",
       "  </tbody>\n",
       "</table>\n",
       "</div>"
      ],
      "text/plain": [
       "   city_development_index enrolled_university education_level  experience  \\\n",
       "0                   0.920       no_enrollment        Graduate        20.0   \n",
       "1                   0.776       no_enrollment        Graduate        15.0   \n",
       "2                   0.624    Full time course        Graduate         5.0   \n",
       "3                   0.789                 NaN        Graduate         0.0   \n",
       "4                   0.767       no_enrollment         Masters        20.0   \n",
       "\n",
       "   training_hours  \n",
       "0            36.0  \n",
       "1            47.0  \n",
       "2            83.0  \n",
       "3            52.0  \n",
       "4             8.0  "
      ]
     },
     "execution_count": 9,
     "metadata": {},
     "output_type": "execute_result"
    }
   ],
   "source": [
    "cols = [i for  i in df.columns if 0< df[i].isnull().mean()*100 < 5 ]\n",
    "df[cols].head()"
   ]
  },
  {
   "cell_type": "markdown",
   "metadata": {},
   "source": [
    "#### Percentage data remain"
   ]
  },
  {
   "cell_type": "code",
   "execution_count": 11,
   "metadata": {},
   "outputs": [
    {
     "data": {
      "text/plain": [
       "89.68577095730244"
      ]
     },
     "execution_count": 11,
     "metadata": {},
     "output_type": "execute_result"
    }
   ],
   "source": [
    "len(df[cols].dropna())/len(df) * 100 "
   ]
  },
  {
   "cell_type": "code",
   "execution_count": 30,
   "metadata": {},
   "outputs": [
    {
     "data": {
      "text/plain": [
       "0           no_enrollment\n",
       "1           no_enrollment\n",
       "2        Full time course\n",
       "3                     NaN\n",
       "4           no_enrollment\n",
       "               ...       \n",
       "19153       no_enrollment\n",
       "19154       no_enrollment\n",
       "19155       no_enrollment\n",
       "19156       no_enrollment\n",
       "19157       no_enrollment\n",
       "Name: enrolled_university, Length: 19158, dtype: object"
      ]
     },
     "execution_count": 30,
     "metadata": {},
     "output_type": "execute_result"
    }
   ],
   "source": [
    "df_new = df[cols].dropna()"
   ]
  },
  {
   "cell_type": "markdown",
   "metadata": {},
   "source": [
    "## Verify\n",
    "1. For numerical CCA check hist before and after if comparable then good to go"
   ]
  },
  {
   "cell_type": "code",
   "execution_count": 38,
   "metadata": {},
   "outputs": [
    {
     "data": {
      "text/plain": [
       "(array([9.29348380e-02, 0.00000000e+00, 0.00000000e+00, 1.10360120e-01,\n",
       "        7.55095559e-02, 0.00000000e+00, 1.27785402e-01, 4.82099472e-01,\n",
       "        0.00000000e+00, 0.00000000e+00, 2.03875801e+00, 5.22758464e-02,\n",
       "        0.00000000e+00, 6.56352294e-01, 0.00000000e+00, 0.00000000e+00,\n",
       "        0.00000000e+00, 1.37601645e+01, 0.00000000e+00, 2.49762377e-01,\n",
       "        1.74252821e-02, 5.86651165e-01, 0.00000000e+00, 6.67969148e-01,\n",
       "        4.03685703e+00, 4.64674190e-02, 0.00000000e+00, 5.16950037e-01,\n",
       "        4.82099472e-01, 1.25462031e+00, 1.47534055e+00, 1.82965462e+00,\n",
       "        6.15693302e-01, 8.13179833e-02, 1.02228322e+00, 2.48019849e+00,\n",
       "        0.00000000e+00, 7.26053422e-01, 8.13179833e-01, 1.09198435e+00,\n",
       "        2.42792264e+00, 6.85394431e-01, 7.72520841e-01, 2.88678841e+00,\n",
       "        5.68064198e+00, 1.41144785e+00, 9.64779787e+00, 3.78941802e+01,\n",
       "        0.00000000e+00, 3.00295695e+00]),\n",
       " array([0.448  , 0.45802, 0.46804, 0.47806, 0.48808, 0.4981 , 0.50812,\n",
       "        0.51814, 0.52816, 0.53818, 0.5482 , 0.55822, 0.56824, 0.57826,\n",
       "        0.58828, 0.5983 , 0.60832, 0.61834, 0.62836, 0.63838, 0.6484 ,\n",
       "        0.65842, 0.66844, 0.67846, 0.68848, 0.6985 , 0.70852, 0.71854,\n",
       "        0.72856, 0.73858, 0.7486 , 0.75862, 0.76864, 0.77866, 0.78868,\n",
       "        0.7987 , 0.80872, 0.81874, 0.82876, 0.83878, 0.8488 , 0.85882,\n",
       "        0.86884, 0.87886, 0.88888, 0.8989 , 0.90892, 0.91894, 0.92896,\n",
       "        0.93898, 0.949  ]),\n",
       " <BarContainer object of 50 artists>)"
      ]
     },
     "execution_count": 38,
     "metadata": {},
     "output_type": "execute_result"
    },
    {
     "data": {
      "image/png": "[encoded data removed]",
      "text/plain": [
       "<Figure size 640x480 with 1 Axes>"
      ]
     },
     "metadata": {},
     "output_type": "display_data"
    }
   ],
   "source": [
    "import matplotlib.pyplot as plt\n",
    "\n",
    "plt.hist(df[cols[0]] ,color = 'red',density = True,bins=50)\n",
    "plt.hist(df_new[cols[0]], color = 'green',alpha = 0.5,density = True,bins=50)"
   ]
  },
  {
   "cell_type": "code",
   "execution_count": null,
   "metadata": {},
   "outputs": [],
   "source": []
  }
 ],
 "metadata": {
  "kernelspec": {
   "display_name": "Python 3",
   "language": "python",
   "name": "python3"
  },
  "language_info": {
   "codemirror_mode": {
    "name": "ipython",
    "version": 3
   },
   "file_extension": ".py",
   "mimetype": "text/x-python",
   "name": "python",
   "nbconvert_exporter": "python",
   "pygments_lexer": "ipython3",
   "version": "3.11.4"
  },
  "orig_nbformat": 4
 },
 "nbformat": 4,
 "nbformat_minor": 2
}
