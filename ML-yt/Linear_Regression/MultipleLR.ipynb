{
 "cells": [
  {
   "cell_type": "markdown",
   "metadata": {},
   "source": [
    "## Multi-Dim\n",
    "1. For X = [x1,x2] => we get 3d in x1,x2,y ==> we get a plane\n",
    "2. For Upper dim => hyper-planes\n",
    "3. y = w0 + w1x1 + w2x2 ..."
   ]
  },
  {
   "cell_type": "code",
   "execution_count": 16,
   "metadata": {},
   "outputs": [
    {
     "data": {
      "text/html": [
       "<div>\n",
       "<style scoped>\n",
       "    .dataframe tbody tr th:only-of-type {\n",
       "        vertical-align: middle;\n",
       "    }\n",
       "\n",
       "    .dataframe tbody tr th {\n",
       "        vertical-align: top;\n",
       "    }\n",
       "\n",
       "    .dataframe thead th {\n",
       "        text-align: right;\n",
       "    }\n",
       "</style>\n",
       "<table border=\"1\" class=\"dataframe\">\n",
       "  <thead>\n",
       "    <tr style=\"text-align: right;\">\n",
       "      <th></th>\n",
       "      <th>feature1</th>\n",
       "      <th>feature2</th>\n",
       "      <th>target</th>\n",
       "    </tr>\n",
       "  </thead>\n",
       "  <tbody>\n",
       "    <tr>\n",
       "      <th>0</th>\n",
       "      <td>0.279469</td>\n",
       "      <td>-0.227003</td>\n",
       "      <td>14.257066</td>\n",
       "    </tr>\n",
       "    <tr>\n",
       "      <th>1</th>\n",
       "      <td>-0.511509</td>\n",
       "      <td>0.272591</td>\n",
       "      <td>36.026896</td>\n",
       "    </tr>\n",
       "    <tr>\n",
       "      <th>2</th>\n",
       "      <td>2.860912</td>\n",
       "      <td>-2.126520</td>\n",
       "      <td>-25.303923</td>\n",
       "    </tr>\n",
       "    <tr>\n",
       "      <th>3</th>\n",
       "      <td>-0.236099</td>\n",
       "      <td>1.100392</td>\n",
       "      <td>58.708100</td>\n",
       "    </tr>\n",
       "    <tr>\n",
       "      <th>4</th>\n",
       "      <td>3.887998</td>\n",
       "      <td>0.544863</td>\n",
       "      <td>135.335553</td>\n",
       "    </tr>\n",
       "  </tbody>\n",
       "</table>\n",
       "</div>"
      ],
      "text/plain": [
       "   feature1  feature2      target\n",
       "0  0.279469 -0.227003   14.257066\n",
       "1 -0.511509  0.272591   36.026896\n",
       "2  2.860912 -2.126520  -25.303923\n",
       "3 -0.236099  1.100392   58.708100\n",
       "4  3.887998  0.544863  135.335553"
      ]
     },
     "execution_count": 16,
     "metadata": {},
     "output_type": "execute_result"
    }
   ],
   "source": [
    "from sklearn.datasets import make_regression\n",
    "import pandas as pd\n",
    "import numpy as np\n",
    "\n",
    "import plotly.express as px\n",
    "import plotly.graph_objects as go\n",
    "\n",
    "from sklearn.metrics import mean_absolute_error,mean_squared_error,r2_score\n",
    "     \n",
    "\n",
    "X,y = make_regression(n_samples=100, n_features=2, n_informative=2, n_targets=1, noise=50)\n",
    "     \n",
    "\n",
    "df = pd.DataFrame({'feature1':X[:,0],'feature2':X[:,1],'target':y})\n",
    "df.head()"
   ]
  },
  {
   "cell_type": "code",
   "execution_count": 17,
   "metadata": {},
   "outputs": [
    {
     "data": {
      "application/vnd.plotly.v1+json": {
       "config": {
        "plotlyServerURL": "https://plot.ly"
       },
       "data": [
        {
         "hovertemplate": "feature1=%{x}<br>feature2=%{y}<br>target=%{z}<extra></extra>",
         "legendgroup": "",
         "marker": {
          "color": "#636efa",
          "symbol": "circle"
         },
         "mode": "markers",
         "name": "",
         "scene": "scene",
         "showlegend": false,
         "type": "scatter3d",
         "x": [
          0.27946937185155424,
          -0.5115092175087872,
          2.860911723744543,
          -0.23609861964918333,
          3.887997799541601,
          0.5431896033496976,
          -0.6824751477055342,
          -0.5898502228443513,
          2.067220608788989,
          1.1295526709083035,
          -0.7325712836971476,
          -0.15344108292078013,
          -0.32948023897592627,
          0.9194552888697812,
          1.534715436480778,
          2.2007631188192525,
          -0.4919882125425209,
          -0.2903536292528705,
          0.8635628869582513,
          1.652358068917318,
          0.9052217501673637,
          2.011431544135403,
          -0.36540491527546737,
          1.8076881084435392,
          1.0683423881215621,
          -0.7606882087949515,
          -0.16481686707131982,
          -0.6377024950728613,
          -0.5244553661838973,
          -0.04316436922992703,
          1.9523934138814236,
          -0.10230028032187773,
          -2.5562832672287636,
          -0.9053175380922027,
          0.7776688347355485,
          1.5306251800439696,
          0.4243947476216441,
          -0.34618011829967127,
          1.772647075015258,
          1.0427934862505912,
          -0.5580838813945425,
          -0.6371602656415163,
          -0.22099573796790775,
          -0.2553650350821256,
          0.8982913270122417,
          -0.019158675282587124,
          -0.5002839023695265,
          -0.7789626388193376,
          0.9426792068179938,
          0.8595129292226523,
          1.0907427745851879,
          0.015218390893792217,
          1.3625603895850449,
          0.7101786320547381,
          -0.36750382348472377,
          0.9035898448713677,
          -0.838067802573807,
          -0.09916198411044681,
          0.8925385409222294,
          1.991882489901223,
          0.16717586890949138,
          -0.4279522360118342,
          -0.13552382270465826,
          -0.7177886152731503,
          0.19448521689472492,
          0.2020261360174146,
          -0.6497106918206239,
          -0.8574914963140422,
          0.9391178436911585,
          0.37209016541639445,
          -0.11084337318363226,
          0.14006451985675994,
          0.2767415032376738,
          1.3960768876900485,
          1.6745978656104374,
          -0.23640373660798605,
          0.8642530736373406,
          -0.0034114116078874206,
          -0.9853521988855345,
          0.7508729565189995,
          -0.8387790921336905,
          -1.0184714254252214,
          -1.5141011877692279,
          -0.22021583727356125,
          1.6012579281979877,
          0.911521846350207,
          -1.3541275735818779,
          0.21193019125544876,
          -1.6158729465020887,
          -0.7300114213590173,
          0.6495212225133988,
          -0.5040734220314856,
          0.30647926963122857,
          0.9237636154630264,
          1.6846053437082087,
          0.004220468963636288,
          -0.029646791967376143,
          0.48550131016384473,
          0.13077642029181186,
          -0.9028864071488909
         ],
         "y": [
          -0.22700257786972447,
          0.27259121428770994,
          -2.126520373838189,
          1.1003921764247386,
          0.5448626087415637,
          0.28637156920093587,
          -0.8835088491612034,
          0.5705265544786904,
          2.05707767196373,
          0.8545521227827382,
          -0.3733289406548892,
          -0.35932788060231013,
          0.863274244144669,
          0.8858468529878003,
          -1.446646246755695,
          -0.06970589174989607,
          -0.2638562353413622,
          0.0322707958177049,
          -0.6811127067588624,
          -0.610064610242567,
          1.2287449986435346,
          1.6879319883540154,
          -1.428822841513289,
          -0.6702074537887333,
          0.354541049661635,
          -1.482344444454745,
          0.3454881164804657,
          -0.687953172884208,
          0.7913155366935024,
          -1.4866355412447878,
          0.2283338041480222,
          -0.18574427345454758,
          0.5597204196025407,
          0.7141764139320308,
          -0.8309850239836404,
          0.3120153677995064,
          -0.1113480302946841,
          1.016669558221407,
          0.8269582099683978,
          0.24737816705622415,
          0.5159544466125024,
          -0.21816862464812597,
          1.554720852581015,
          0.5132185572892459,
          1.1495429873313843,
          -0.15570332405249962,
          0.061166435130371115,
          -0.6986907193606884,
          0.3285242287505439,
          1.5559584502597155,
          0.35780521550990985,
          -1.936377347947788,
          -1.7701104676094406,
          0.055918323082543624,
          1.070547299050867,
          -0.7082371883476948,
          0.24209057726442243,
          -0.09547473785866842,
          -0.7894469580978548,
          1.2223461613360755,
          0.9166926114058574,
          -0.6375745591788645,
          -1.2460530980706075,
          -0.7654729563848343,
          0.993805539225464,
          2.6947707221726627,
          -1.0799799042658944,
          0.49741650261814446,
          0.6042664820082025,
          1.93956125637326,
          -0.3944373085476541,
          2.0931262209126364,
          0.6595329316022212,
          -1.1285068636277322,
          1.0053854887998857,
          -0.5182279245080929,
          1.0212379286489375,
          0.864939454438653,
          -0.43501663325534673,
          0.13153390256347514,
          0.0017501296578838399,
          -0.23469270750334745,
          1.5892835439288249,
          -0.1484946455004833,
          -0.16520873220738985,
          -0.4963228939848576,
          -0.17757863676849836,
          0.534964818039567,
          -0.24082594418352127,
          1.285280639051425,
          -1.8115186070513394,
          -0.19464361197671504,
          -0.4677141943361504,
          1.9747297128788874,
          1.5486162329090989,
          0.38114437273667817,
          0.669834297309158,
          0.23473990195024894,
          0.23395364810939245,
          -0.4432054951982307
         ],
         "z": [
          14.257065595716266,
          36.026896390023154,
          -25.303922749274747,
          58.708100223351515,
          135.335552537959,
          75.58407528484801,
          -12.064490394898314,
          73.08124399862501,
          305.6781852775577,
          186.80004987934387,
          -92.46393538009127,
          -34.3764073879714,
          186.63904816243985,
          224.7326167364729,
          -134.71049767224574,
          48.70711366728938,
          -45.0139154983196,
          85.21480131993131,
          -32.446684442690476,
          79.44173567062678,
          90.19005490947967,
          284.40478418177406,
          -130.5981064657838,
          -13.897420980887436,
          86.60593177862694,
          -201.756982265545,
          15.982198629587117,
          -132.89167803810037,
          136.41290810974562,
          -105.65316545234053,
          108.2683833256796,
          -67.13883720736311,
          -65.87071705986983,
          27.76944671070242,
          -87.58088232822604,
          116.15401650638654,
          159.27620103385806,
          25.396386018465883,
          77.12446563316898,
          73.95851999937193,
          48.6507182320711,
          55.76630645558803,
          175.43760650487852,
          70.17087276811414,
          109.1439545544219,
          -52.90126323753255,
          27.5106868220317,
          -110.13238568231193,
          105.84100440360092,
          193.73454199374757,
          93.77184788926448,
          -252.27797088248093,
          -54.008095443259904,
          -36.81368705708123,
          79.45175105974707,
          -22.132474269152524,
          -18.554455403190666,
          46.549694604284184,
          -42.911241178622625,
          199.44030478333016,
          159.39048267061077,
          -182.93402614256985,
          -201.51512413073516,
          -50.77959309798506,
          99.29240542740551,
          284.3082742756922,
          -179.29911330344046,
          90.06565647998816,
          230.07225940147305,
          134.03922871007603,
          -64.40383335396768,
          159.33869111736004,
          50.38987004053206,
          -94.5780312192317,
          214.24825937380797,
          -75.15379807715797,
          71.15076635117185,
          57.342406227356406,
          -193.07066108362926,
          -4.392070264815651,
          -31.99864138324004,
          -27.664356976271023,
          157.31115425701807,
          -20.188024960159268,
          140.75821278877908,
          -64.71397527622494,
          19.313130596127166,
          83.45078500874835,
          -132.25829482597823,
          54.02382272687448,
          -198.16813476042358,
          -37.78397754768719,
          -87.92461364749164,
          277.53852892372714,
          230.60725814306284,
          -7.982078108355758,
          81.30799769240747,
          34.96073040659107,
          72.3467661953558,
          -60.39179493577964
         ]
        }
       ],
       "layout": {
        "legend": {
         "tracegroupgap": 0
        },
        "margin": {
         "t": 60
        },
        "scene": {
         "domain": {
          "x": [
           0,
           1
          ],
          "y": [
           0,
           1
          ]
         },
         "xaxis": {
          "title": {
           "text": "feature1"
          }
         },
         "yaxis": {
          "title": {
           "text": "feature2"
          }
         },
         "zaxis": {
          "title": {
           "text": "target"
          }
         }
        },
        "template": {
         "data": {
          "bar": [
           {
            "error_x": {
             "color": "#2a3f5f"
            },
            "error_y": {
             "color": "#2a3f5f"
            },
            "marker": {
             "line": {
              "color": "#E5ECF6",
              "width": 0.5
             },
             "pattern": {
              "fillmode": "overlay",
              "size": 10,
              "solidity": 0.2
             }
            },
            "type": "bar"
           }
          ],
          "barpolar": [
           {
            "marker": {
             "line": {
              "color": "#E5ECF6",
              "width": 0.5
             },
             "pattern": {
              "fillmode": "overlay",
              "size": 10,
              "solidity": 0.2
             }
            },
            "type": "barpolar"
           }
          ],
          "carpet": [
           {
            "aaxis": {
             "endlinecolor": "#2a3f5f",
             "gridcolor": "white",
             "linecolor": "white",
             "minorgridcolor": "white",
             "startlinecolor": "#2a3f5f"
            },
            "baxis": {
             "endlinecolor": "#2a3f5f",
             "gridcolor": "white",
             "linecolor": "white",
             "minorgridcolor": "white",
             "startlinecolor": "#2a3f5f"
            },
            "type": "carpet"
           }
          ],
          "choropleth": [
           {
            "colorbar": {
             "outlinewidth": 0,
             "ticks": ""
            },
            "type": "choropleth"
           }
          ],
          "contour": [
           {
            "colorbar": {
             "outlinewidth": 0,
             "ticks": ""
            },
            "colorscale": [
             [
              0,
              "#0d0887"
             ],
             [
              0.1111111111111111,
              "#46039f"
             ],
             [
              0.2222222222222222,
              "#7201a8"
             ],
             [
              0.3333333333333333,
              "#9c179e"
             ],
             [
              0.4444444444444444,
              "#bd3786"
             ],
             [
              0.5555555555555556,
              "#d8576b"
             ],
             [
              0.6666666666666666,
              "#ed7953"
             ],
             [
              0.7777777777777778,
              "#fb9f3a"
             ],
             [
              0.8888888888888888,
              "#fdca26"
             ],
             [
              1,
              "#f0f921"
             ]
            ],
            "type": "contour"
           }
          ],
          "contourcarpet": [
           {
            "colorbar": {
             "outlinewidth": 0,
             "ticks": ""
            },
            "type": "contourcarpet"
           }
          ],
          "heatmap": [
           {
            "colorbar": {
             "outlinewidth": 0,
             "ticks": ""
            },
            "colorscale": [
             [
              0,
              "#0d0887"
             ],
             [
              0.1111111111111111,
              "#46039f"
             ],
             [
              0.2222222222222222,
              "#7201a8"
             ],
             [
              0.3333333333333333,
              "#9c179e"
             ],
             [
              0.4444444444444444,
              "#bd3786"
             ],
             [
              0.5555555555555556,
              "#d8576b"
             ],
             [
              0.6666666666666666,
              "#ed7953"
             ],
             [
              0.7777777777777778,
              "#fb9f3a"
             ],
             [
              0.8888888888888888,
              "#fdca26"
             ],
             [
              1,
              "#f0f921"
             ]
            ],
            "type": "heatmap"
           }
          ],
          "heatmapgl": [
           {
            "colorbar": {
             "outlinewidth": 0,
             "ticks": ""
            },
            "colorscale": [
             [
              0,
              "#0d0887"
             ],
             [
              0.1111111111111111,
              "#46039f"
             ],
             [
              0.2222222222222222,
              "#7201a8"
             ],
             [
              0.3333333333333333,
              "#9c179e"
             ],
             [
              0.4444444444444444,
              "#bd3786"
             ],
             [
              0.5555555555555556,
              "#d8576b"
             ],
             [
              0.6666666666666666,
              "#ed7953"
             ],
             [
              0.7777777777777778,
              "#fb9f3a"
             ],
             [
              0.8888888888888888,
              "#fdca26"
             ],
             [
              1,
              "#f0f921"
             ]
            ],
            "type": "heatmapgl"
           }
          ],
          "histogram": [
           {
            "marker": {
             "pattern": {
              "fillmode": "overlay",
              "size": 10,
              "solidity": 0.2
             }
            },
            "type": "histogram"
           }
          ],
          "histogram2d": [
           {
            "colorbar": {
             "outlinewidth": 0,
             "ticks": ""
            },
            "colorscale": [
             [
              0,
              "#0d0887"
             ],
             [
              0.1111111111111111,
              "#46039f"
             ],
             [
              0.2222222222222222,
              "#7201a8"
             ],
             [
              0.3333333333333333,
              "#9c179e"
             ],
             [
              0.4444444444444444,
              "#bd3786"
             ],
             [
              0.5555555555555556,
              "#d8576b"
             ],
             [
              0.6666666666666666,
              "#ed7953"
             ],
             [
              0.7777777777777778,
              "#fb9f3a"
             ],
             [
              0.8888888888888888,
              "#fdca26"
             ],
             [
              1,
              "#f0f921"
             ]
            ],
            "type": "histogram2d"
           }
          ],
          "histogram2dcontour": [
           {
            "colorbar": {
             "outlinewidth": 0,
             "ticks": ""
            },
            "colorscale": [
             [
              0,
              "#0d0887"
             ],
             [
              0.1111111111111111,
              "#46039f"
             ],
             [
              0.2222222222222222,
              "#7201a8"
             ],
             [
              0.3333333333333333,
              "#9c179e"
             ],
             [
              0.4444444444444444,
              "#bd3786"
             ],
             [
              0.5555555555555556,
              "#d8576b"
             ],
             [
              0.6666666666666666,
              "#ed7953"
             ],
             [
              0.7777777777777778,
              "#fb9f3a"
             ],
             [
              0.8888888888888888,
              "#fdca26"
             ],
             [
              1,
              "#f0f921"
             ]
            ],
            "type": "histogram2dcontour"
           }
          ],
          "mesh3d": [
           {
            "colorbar": {
             "outlinewidth": 0,
             "ticks": ""
            },
            "type": "mesh3d"
           }
          ],
          "parcoords": [
           {
            "line": {
             "colorbar": {
              "outlinewidth": 0,
              "ticks": ""
             }
            },
            "type": "parcoords"
           }
          ],
          "pie": [
           {
            "automargin": true,
            "type": "pie"
           }
          ],
          "scatter": [
           {
            "fillpattern": {
             "fillmode": "overlay",
             "size": 10,
             "solidity": 0.2
            },
            "type": "scatter"
           }
          ],
          "scatter3d": [
           {
            "line": {
             "colorbar": {
              "outlinewidth": 0,
              "ticks": ""
             }
            },
            "marker": {
             "colorbar": {
              "outlinewidth": 0,
              "ticks": ""
             }
            },
            "type": "scatter3d"
           }
          ],
          "scattercarpet": [
           {
            "marker": {
             "colorbar": {
              "outlinewidth": 0,
              "ticks": ""
             }
            },
            "type": "scattercarpet"
           }
          ],
          "scattergeo": [
           {
            "marker": {
             "colorbar": {
              "outlinewidth": 0,
              "ticks": ""
             }
            },
            "type": "scattergeo"
           }
          ],
          "scattergl": [
           {
            "marker": {
             "colorbar": {
              "outlinewidth": 0,
              "ticks": ""
             }
            },
            "type": "scattergl"
           }
          ],
          "scattermapbox": [
           {
            "marker": {
             "colorbar": {
              "outlinewidth": 0,
              "ticks": ""
             }
            },
            "type": "scattermapbox"
           }
          ],
          "scatterpolar": [
           {
            "marker": {
             "colorbar": {
              "outlinewidth": 0,
              "ticks": ""
             }
            },
            "type": "scatterpolar"
           }
          ],
          "scatterpolargl": [
           {
            "marker": {
             "colorbar": {
              "outlinewidth": 0,
              "ticks": ""
             }
            },
            "type": "scatterpolargl"
           }
          ],
          "scatterternary": [
           {
            "marker": {
             "colorbar": {
              "outlinewidth": 0,
              "ticks": ""
             }
            },
            "type": "scatterternary"
           }
          ],
          "surface": [
           {
            "colorbar": {
             "outlinewidth": 0,
             "ticks": ""
            },
            "colorscale": [
             [
              0,
              "#0d0887"
             ],
             [
              0.1111111111111111,
              "#46039f"
             ],
             [
              0.2222222222222222,
              "#7201a8"
             ],
             [
              0.3333333333333333,
              "#9c179e"
             ],
             [
              0.4444444444444444,
              "#bd3786"
             ],
             [
              0.5555555555555556,
              "#d8576b"
             ],
             [
              0.6666666666666666,
              "#ed7953"
             ],
             [
              0.7777777777777778,
              "#fb9f3a"
             ],
             [
              0.8888888888888888,
              "#fdca26"
             ],
             [
              1,
              "#f0f921"
             ]
            ],
            "type": "surface"
           }
          ],
          "table": [
           {
            "cells": {
             "fill": {
              "color": "#EBF0F8"
             },
             "line": {
              "color": "white"
             }
            },
            "header": {
             "fill": {
              "color": "#C8D4E3"
             },
             "line": {
              "color": "white"
             }
            },
            "type": "table"
           }
          ]
         },
         "layout": {
          "annotationdefaults": {
           "arrowcolor": "#2a3f5f",
           "arrowhead": 0,
           "arrowwidth": 1
          },
          "autotypenumbers": "strict",
          "coloraxis": {
           "colorbar": {
            "outlinewidth": 0,
            "ticks": ""
           }
          },
          "colorscale": {
           "diverging": [
            [
             0,
             "#8e0152"
            ],
            [
             0.1,
             "#c51b7d"
            ],
            [
             0.2,
             "#de77ae"
            ],
            [
             0.3,
             "#f1b6da"
            ],
            [
             0.4,
             "#fde0ef"
            ],
            [
             0.5,
             "#f7f7f7"
            ],
            [
             0.6,
             "#e6f5d0"
            ],
            [
             0.7,
             "#b8e186"
            ],
            [
             0.8,
             "#7fbc41"
            ],
            [
             0.9,
             "#4d9221"
            ],
            [
             1,
             "#276419"
            ]
           ],
           "sequential": [
            [
             0,
             "#0d0887"
            ],
            [
             0.1111111111111111,
             "#46039f"
            ],
            [
             0.2222222222222222,
             "#7201a8"
            ],
            [
             0.3333333333333333,
             "#9c179e"
            ],
            [
             0.4444444444444444,
             "#bd3786"
            ],
            [
             0.5555555555555556,
             "#d8576b"
            ],
            [
             0.6666666666666666,
             "#ed7953"
            ],
            [
             0.7777777777777778,
             "#fb9f3a"
            ],
            [
             0.8888888888888888,
             "#fdca26"
            ],
            [
             1,
             "#f0f921"
            ]
           ],
           "sequentialminus": [
            [
             0,
             "#0d0887"
            ],
            [
             0.1111111111111111,
             "#46039f"
            ],
            [
             0.2222222222222222,
             "#7201a8"
            ],
            [
             0.3333333333333333,
             "#9c179e"
            ],
            [
             0.4444444444444444,
             "#bd3786"
            ],
            [
             0.5555555555555556,
             "#d8576b"
            ],
            [
             0.6666666666666666,
             "#ed7953"
            ],
            [
             0.7777777777777778,
             "#fb9f3a"
            ],
            [
             0.8888888888888888,
             "#fdca26"
            ],
            [
             1,
             "#f0f921"
            ]
           ]
          },
          "colorway": [
           "#636efa",
           "#EF553B",
           "#00cc96",
           "#ab63fa",
           "#FFA15A",
           "#19d3f3",
           "#FF6692",
           "#B6E880",
           "#FF97FF",
           "#FECB52"
          ],
          "font": {
           "color": "#2a3f5f"
          },
          "geo": {
           "bgcolor": "white",
           "lakecolor": "white",
           "landcolor": "#E5ECF6",
           "showlakes": true,
           "showland": true,
           "subunitcolor": "white"
          },
          "hoverlabel": {
           "align": "left"
          },
          "hovermode": "closest",
          "mapbox": {
           "style": "light"
          },
          "paper_bgcolor": "white",
          "plot_bgcolor": "#E5ECF6",
          "polar": {
           "angularaxis": {
            "gridcolor": "white",
            "linecolor": "white",
            "ticks": ""
           },
           "bgcolor": "#E5ECF6",
           "radialaxis": {
            "gridcolor": "white",
            "linecolor": "white",
            "ticks": ""
           }
          },
          "scene": {
           "xaxis": {
            "backgroundcolor": "#E5ECF6",
            "gridcolor": "white",
            "gridwidth": 2,
            "linecolor": "white",
            "showbackground": true,
            "ticks": "",
            "zerolinecolor": "white"
           },
           "yaxis": {
            "backgroundcolor": "#E5ECF6",
            "gridcolor": "white",
            "gridwidth": 2,
            "linecolor": "white",
            "showbackground": true,
            "ticks": "",
            "zerolinecolor": "white"
           },
           "zaxis": {
            "backgroundcolor": "#E5ECF6",
            "gridcolor": "white",
            "gridwidth": 2,
            "linecolor": "white",
            "showbackground": true,
            "ticks": "",
            "zerolinecolor": "white"
           }
          },
          "shapedefaults": {
           "line": {
            "color": "#2a3f5f"
           }
          },
          "ternary": {
           "aaxis": {
            "gridcolor": "white",
            "linecolor": "white",
            "ticks": ""
           },
           "baxis": {
            "gridcolor": "white",
            "linecolor": "white",
            "ticks": ""
           },
           "bgcolor": "#E5ECF6",
           "caxis": {
            "gridcolor": "white",
            "linecolor": "white",
            "ticks": ""
           }
          },
          "title": {
           "x": 0.05
          },
          "xaxis": {
           "automargin": true,
           "gridcolor": "white",
           "linecolor": "white",
           "ticks": "",
           "title": {
            "standoff": 15
           },
           "zerolinecolor": "white",
           "zerolinewidth": 2
          },
          "yaxis": {
           "automargin": true,
           "gridcolor": "white",
           "linecolor": "white",
           "ticks": "",
           "title": {
            "standoff": 15
           },
           "zerolinecolor": "white",
           "zerolinewidth": 2
          }
         }
        }
       }
      }
     },
     "metadata": {},
     "output_type": "display_data"
    }
   ],
   "source": [
    "px.scatter_3d(df , x = 'feature1',y = 'feature2',z = 'target')"
   ]
  },
  {
   "cell_type": "code",
   "execution_count": 18,
   "metadata": {},
   "outputs": [],
   "source": [
    "from sklearn.model_selection import train_test_split\n",
    "xtrain,xtest,ytrain,ytest = train_test_split(X,y,test_size=0.3)"
   ]
  },
  {
   "cell_type": "code",
   "execution_count": 19,
   "metadata": {},
   "outputs": [
    {
     "data": {
      "text/html": [
       "<style>#sk-container-id-3 {color: black;}#sk-container-id-3 pre{padding: 0;}#sk-container-id-3 div.sk-toggleable {background-color: white;}#sk-container-id-3 label.sk-toggleable__label {cursor: pointer;display: block;width: 100%;margin-bottom: 0;padding: 0.3em;box-sizing: border-box;text-align: center;}#sk-container-id-3 label.sk-toggleable__label-arrow:before {content: \"▸\";float: left;margin-right: 0.25em;color: #696969;}#sk-container-id-3 label.sk-toggleable__label-arrow:hover:before {color: black;}#sk-container-id-3 div.sk-estimator:hover label.sk-toggleable__label-arrow:before {color: black;}#sk-container-id-3 div.sk-toggleable__content {max-height: 0;max-width: 0;overflow: hidden;text-align: left;background-color: #f0f8ff;}#sk-container-id-3 div.sk-toggleable__content pre {margin: 0.2em;color: black;border-radius: 0.25em;background-color: #f0f8ff;}#sk-container-id-3 input.sk-toggleable__control:checked~div.sk-toggleable__content {max-height: 200px;max-width: 100%;overflow: auto;}#sk-container-id-3 input.sk-toggleable__control:checked~label.sk-toggleable__label-arrow:before {content: \"▾\";}#sk-container-id-3 div.sk-estimator input.sk-toggleable__control:checked~label.sk-toggleable__label {background-color: #d4ebff;}#sk-container-id-3 div.sk-label input.sk-toggleable__control:checked~label.sk-toggleable__label {background-color: #d4ebff;}#sk-container-id-3 input.sk-hidden--visually {border: 0;clip: rect(1px 1px 1px 1px);clip: rect(1px, 1px, 1px, 1px);height: 1px;margin: -1px;overflow: hidden;padding: 0;position: absolute;width: 1px;}#sk-container-id-3 div.sk-estimator {font-family: monospace;background-color: #f0f8ff;border: 1px dotted black;border-radius: 0.25em;box-sizing: border-box;margin-bottom: 0.5em;}#sk-container-id-3 div.sk-estimator:hover {background-color: #d4ebff;}#sk-container-id-3 div.sk-parallel-item::after {content: \"\";width: 100%;border-bottom: 1px solid gray;flex-grow: 1;}#sk-container-id-3 div.sk-label:hover label.sk-toggleable__label {background-color: #d4ebff;}#sk-container-id-3 div.sk-serial::before {content: \"\";position: absolute;border-left: 1px solid gray;box-sizing: border-box;top: 0;bottom: 0;left: 50%;z-index: 0;}#sk-container-id-3 div.sk-serial {display: flex;flex-direction: column;align-items: center;background-color: white;padding-right: 0.2em;padding-left: 0.2em;position: relative;}#sk-container-id-3 div.sk-item {position: relative;z-index: 1;}#sk-container-id-3 div.sk-parallel {display: flex;align-items: stretch;justify-content: center;background-color: white;position: relative;}#sk-container-id-3 div.sk-item::before, #sk-container-id-3 div.sk-parallel-item::before {content: \"\";position: absolute;border-left: 1px solid gray;box-sizing: border-box;top: 0;bottom: 0;left: 50%;z-index: -1;}#sk-container-id-3 div.sk-parallel-item {display: flex;flex-direction: column;z-index: 1;position: relative;background-color: white;}#sk-container-id-3 div.sk-parallel-item:first-child::after {align-self: flex-end;width: 50%;}#sk-container-id-3 div.sk-parallel-item:last-child::after {align-self: flex-start;width: 50%;}#sk-container-id-3 div.sk-parallel-item:only-child::after {width: 0;}#sk-container-id-3 div.sk-dashed-wrapped {border: 1px dashed gray;margin: 0 0.4em 0.5em 0.4em;box-sizing: border-box;padding-bottom: 0.4em;background-color: white;}#sk-container-id-3 div.sk-label label {font-family: monospace;font-weight: bold;display: inline-block;line-height: 1.2em;}#sk-container-id-3 div.sk-label-container {text-align: center;}#sk-container-id-3 div.sk-container {/* jupyter's `normalize.less` sets `[hidden] { display: none; }` but bootstrap.min.css set `[hidden] { display: none !important; }` so we also need the `!important` here to be able to override the default hidden behavior on the sphinx rendered scikit-learn.org. See: https://github.com/scikit-learn/scikit-learn/issues/21755 */display: inline-block !important;position: relative;}#sk-container-id-3 div.sk-text-repr-fallback {display: none;}</style><div id=\"sk-container-id-3\" class=\"sk-top-container\"><div class=\"sk-text-repr-fallback\"><pre>LinearRegression()</pre><b>In a Jupyter environment, please rerun this cell to show the HTML representation or trust the notebook. <br />On GitHub, the HTML representation is unable to render, please try loading this page with nbviewer.org.</b></div><div class=\"sk-container\" hidden><div class=\"sk-item\"><div class=\"sk-estimator sk-toggleable\"><input class=\"sk-toggleable__control sk-hidden--visually\" id=\"sk-estimator-id-3\" type=\"checkbox\" checked><label for=\"sk-estimator-id-3\" class=\"sk-toggleable__label sk-toggleable__label-arrow\">LinearRegression</label><div class=\"sk-toggleable__content\"><pre>LinearRegression()</pre></div></div></div></div></div>"
      ],
      "text/plain": [
       "LinearRegression()"
      ]
     },
     "execution_count": 19,
     "metadata": {},
     "output_type": "execute_result"
    }
   ],
   "source": [
    "from sklearn.linear_model import LinearRegression\n",
    "lr = LinearRegression()\n",
    "lr.fit(xtrain,ytrain)"
   ]
  },
  {
   "cell_type": "code",
   "execution_count": 20,
   "metadata": {},
   "outputs": [
    {
     "data": {
      "text/plain": [
       "0.7724248668004636"
      ]
     },
     "execution_count": 20,
     "metadata": {},
     "output_type": "execute_result"
    }
   ],
   "source": [
    "ypred = lr.predict(xtest)\n",
    "from sklearn.metrics import r2_score\n",
    "r2_score(ytest,ypred)"
   ]
  },
  {
   "cell_type": "code",
   "execution_count": 21,
   "metadata": {},
   "outputs": [
    {
     "data": {
      "application/vnd.plotly.v1+json": {
       "config": {
        "plotlyServerURL": "https://plot.ly"
       },
       "data": [
        {
         "hovertemplate": "feature1=%{x}<br>feature2=%{y}<br>target=%{z}<extra></extra>",
         "legendgroup": "",
         "marker": {
          "color": "#636efa",
          "symbol": "circle"
         },
         "mode": "markers",
         "name": "",
         "scene": "scene",
         "showlegend": false,
         "type": "scatter3d",
         "x": [
          0.27946937185155424,
          -0.5115092175087872,
          2.860911723744543,
          -0.23609861964918333,
          3.887997799541601,
          0.5431896033496976,
          -0.6824751477055342,
          -0.5898502228443513,
          2.067220608788989,
          1.1295526709083035,
          -0.7325712836971476,
          -0.15344108292078013,
          -0.32948023897592627,
          0.9194552888697812,
          1.534715436480778,
          2.2007631188192525,
          -0.4919882125425209,
          -0.2903536292528705,
          0.8635628869582513,
          1.652358068917318,
          0.9052217501673637,
          2.011431544135403,
          -0.36540491527546737,
          1.8076881084435392,
          1.0683423881215621,
          -0.7606882087949515,
          -0.16481686707131982,
          -0.6377024950728613,
          -0.5244553661838973,
          -0.04316436922992703,
          1.9523934138814236,
          -0.10230028032187773,
          -2.5562832672287636,
          -0.9053175380922027,
          0.7776688347355485,
          1.5306251800439696,
          0.4243947476216441,
          -0.34618011829967127,
          1.772647075015258,
          1.0427934862505912,
          -0.5580838813945425,
          -0.6371602656415163,
          -0.22099573796790775,
          -0.2553650350821256,
          0.8982913270122417,
          -0.019158675282587124,
          -0.5002839023695265,
          -0.7789626388193376,
          0.9426792068179938,
          0.8595129292226523,
          1.0907427745851879,
          0.015218390893792217,
          1.3625603895850449,
          0.7101786320547381,
          -0.36750382348472377,
          0.9035898448713677,
          -0.838067802573807,
          -0.09916198411044681,
          0.8925385409222294,
          1.991882489901223,
          0.16717586890949138,
          -0.4279522360118342,
          -0.13552382270465826,
          -0.7177886152731503,
          0.19448521689472492,
          0.2020261360174146,
          -0.6497106918206239,
          -0.8574914963140422,
          0.9391178436911585,
          0.37209016541639445,
          -0.11084337318363226,
          0.14006451985675994,
          0.2767415032376738,
          1.3960768876900485,
          1.6745978656104374,
          -0.23640373660798605,
          0.8642530736373406,
          -0.0034114116078874206,
          -0.9853521988855345,
          0.7508729565189995,
          -0.8387790921336905,
          -1.0184714254252214,
          -1.5141011877692279,
          -0.22021583727356125,
          1.6012579281979877,
          0.911521846350207,
          -1.3541275735818779,
          0.21193019125544876,
          -1.6158729465020887,
          -0.7300114213590173,
          0.6495212225133988,
          -0.5040734220314856,
          0.30647926963122857,
          0.9237636154630264,
          1.6846053437082087,
          0.004220468963636288,
          -0.029646791967376143,
          0.48550131016384473,
          0.13077642029181186,
          -0.9028864071488909
         ],
         "y": [
          -0.22700257786972447,
          0.27259121428770994,
          -2.126520373838189,
          1.1003921764247386,
          0.5448626087415637,
          0.28637156920093587,
          -0.8835088491612034,
          0.5705265544786904,
          2.05707767196373,
          0.8545521227827382,
          -0.3733289406548892,
          -0.35932788060231013,
          0.863274244144669,
          0.8858468529878003,
          -1.446646246755695,
          -0.06970589174989607,
          -0.2638562353413622,
          0.0322707958177049,
          -0.6811127067588624,
          -0.610064610242567,
          1.2287449986435346,
          1.6879319883540154,
          -1.428822841513289,
          -0.6702074537887333,
          0.354541049661635,
          -1.482344444454745,
          0.3454881164804657,
          -0.687953172884208,
          0.7913155366935024,
          -1.4866355412447878,
          0.2283338041480222,
          -0.18574427345454758,
          0.5597204196025407,
          0.7141764139320308,
          -0.8309850239836404,
          0.3120153677995064,
          -0.1113480302946841,
          1.016669558221407,
          0.8269582099683978,
          0.24737816705622415,
          0.5159544466125024,
          -0.21816862464812597,
          1.554720852581015,
          0.5132185572892459,
          1.1495429873313843,
          -0.15570332405249962,
          0.061166435130371115,
          -0.6986907193606884,
          0.3285242287505439,
          1.5559584502597155,
          0.35780521550990985,
          -1.936377347947788,
          -1.7701104676094406,
          0.055918323082543624,
          1.070547299050867,
          -0.7082371883476948,
          0.24209057726442243,
          -0.09547473785866842,
          -0.7894469580978548,
          1.2223461613360755,
          0.9166926114058574,
          -0.6375745591788645,
          -1.2460530980706075,
          -0.7654729563848343,
          0.993805539225464,
          2.6947707221726627,
          -1.0799799042658944,
          0.49741650261814446,
          0.6042664820082025,
          1.93956125637326,
          -0.3944373085476541,
          2.0931262209126364,
          0.6595329316022212,
          -1.1285068636277322,
          1.0053854887998857,
          -0.5182279245080929,
          1.0212379286489375,
          0.864939454438653,
          -0.43501663325534673,
          0.13153390256347514,
          0.0017501296578838399,
          -0.23469270750334745,
          1.5892835439288249,
          -0.1484946455004833,
          -0.16520873220738985,
          -0.4963228939848576,
          -0.17757863676849836,
          0.534964818039567,
          -0.24082594418352127,
          1.285280639051425,
          -1.8115186070513394,
          -0.19464361197671504,
          -0.4677141943361504,
          1.9747297128788874,
          1.5486162329090989,
          0.38114437273667817,
          0.669834297309158,
          0.23473990195024894,
          0.23395364810939245,
          -0.4432054951982307
         ],
         "z": [
          14.257065595716266,
          36.026896390023154,
          -25.303922749274747,
          58.708100223351515,
          135.335552537959,
          75.58407528484801,
          -12.064490394898314,
          73.08124399862501,
          305.6781852775577,
          186.80004987934387,
          -92.46393538009127,
          -34.3764073879714,
          186.63904816243985,
          224.7326167364729,
          -134.71049767224574,
          48.70711366728938,
          -45.0139154983196,
          85.21480131993131,
          -32.446684442690476,
          79.44173567062678,
          90.19005490947967,
          284.40478418177406,
          -130.5981064657838,
          -13.897420980887436,
          86.60593177862694,
          -201.756982265545,
          15.982198629587117,
          -132.89167803810037,
          136.41290810974562,
          -105.65316545234053,
          108.2683833256796,
          -67.13883720736311,
          -65.87071705986983,
          27.76944671070242,
          -87.58088232822604,
          116.15401650638654,
          159.27620103385806,
          25.396386018465883,
          77.12446563316898,
          73.95851999937193,
          48.6507182320711,
          55.76630645558803,
          175.43760650487852,
          70.17087276811414,
          109.1439545544219,
          -52.90126323753255,
          27.5106868220317,
          -110.13238568231193,
          105.84100440360092,
          193.73454199374757,
          93.77184788926448,
          -252.27797088248093,
          -54.008095443259904,
          -36.81368705708123,
          79.45175105974707,
          -22.132474269152524,
          -18.554455403190666,
          46.549694604284184,
          -42.911241178622625,
          199.44030478333016,
          159.39048267061077,
          -182.93402614256985,
          -201.51512413073516,
          -50.77959309798506,
          99.29240542740551,
          284.3082742756922,
          -179.29911330344046,
          90.06565647998816,
          230.07225940147305,
          134.03922871007603,
          -64.40383335396768,
          159.33869111736004,
          50.38987004053206,
          -94.5780312192317,
          214.24825937380797,
          -75.15379807715797,
          71.15076635117185,
          57.342406227356406,
          -193.07066108362926,
          -4.392070264815651,
          -31.99864138324004,
          -27.664356976271023,
          157.31115425701807,
          -20.188024960159268,
          140.75821278877908,
          -64.71397527622494,
          19.313130596127166,
          83.45078500874835,
          -132.25829482597823,
          54.02382272687448,
          -198.16813476042358,
          -37.78397754768719,
          -87.92461364749164,
          277.53852892372714,
          230.60725814306284,
          -7.982078108355758,
          81.30799769240747,
          34.96073040659107,
          72.3467661953558,
          -60.39179493577964
         ]
        },
        {
         "type": "surface",
         "x": [
          -5,
          -3.888888888888889,
          -2.7777777777777777,
          -1.6666666666666665,
          -0.5555555555555554,
          0.5555555555555554,
          1.666666666666667,
          2.7777777777777786,
          3.8888888888888893,
          5
         ],
         "y": [
          -5,
          -3.888888888888889,
          -2.7777777777777777,
          -1.6666666666666665,
          -0.5555555555555554,
          0.5555555555555554,
          1.666666666666667,
          2.7777777777777786,
          3.8888888888888893,
          5
         ],
         "z": [
          [
           -663.6514028310844,
           -624.8160846081139,
           -585.9807663851434,
           -547.1454481621729,
           -508.31012993920245,
           -469.47481171623195,
           -430.63949349326145,
           -391.80417527029095,
           -352.96885704732045,
           -314.13353882434996
          ],
          [
           -552.5958260221192,
           -513.7605077991487,
           -474.9251895761783,
           -436.0898713532078,
           -397.2545531302373,
           -358.4192349072668,
           -319.5839166842963,
           -280.7485984613258,
           -241.9132802383553,
           -203.0779620153848
          ],
          [
           -441.54024921315414,
           -402.70493099018364,
           -363.86961276721314,
           -325.03429454424264,
           -286.19897632127214,
           -247.36365809830164,
           -208.52833987533114,
           -169.69302165236058,
           -130.85770342939014,
           -92.02238520641963
          ],
          [
           -330.484672404189,
           -291.6493541812185,
           -252.81403595824798,
           -213.97871773527748,
           -175.14339951230698,
           -136.30808128933649,
           -97.472763066366,
           -58.63744484339547,
           -19.802126620425,
           19.0331916025455
          ],
          [
           -219.42909559522383,
           -180.59377737225333,
           -141.75845914928283,
           -102.92314092631234,
           -64.08782270334184,
           -25.252504480371357,
           13.582813742599157,
           52.41813196556968,
           91.25345018854016,
           130.08876841151067
          ],
          [
           -108.37351878625874,
           -69.53820056328824,
           -30.70288234031772,
           8.132435882652771,
           46.96775410562327,
           85.80307232859376,
           124.63839055156427,
           163.47370877453477,
           202.30902699750527,
           241.14434522047577
          ],
          [
           2.682058022706471,
           41.51737624567697,
           80.35269446864748,
           119.18801269161797,
           158.02333091458848,
           196.85864913755898,
           235.69396736052948,
           274.5292855835,
           313.3646038064705,
           352.199922029441
          ],
          [
           113.73763483167166,
           152.57295305464214,
           191.40827127761264,
           230.24358950058314,
           269.07890772355364,
           307.91422594652414,
           346.74954416949464,
           385.58486239246514,
           424.42018061543564,
           463.25549883840614
          ],
          [
           224.79321164063674,
           263.62852986360724,
           302.46384808657774,
           341.29916630954824,
           380.13448453251874,
           418.96980275548924,
           457.80512097845974,
           496.6404392014303,
           535.4757574244009,
           574.3110756473714
          ],
          [
           335.84878844960184,
           374.68410667257234,
           413.51942489554284,
           452.35474311851334,
           491.19006134148384,
           530.0253795644544,
           568.8606977874249,
           607.6960160103954,
           646.5313342333659,
           685.3666524563364
          ]
         ]
        }
       ],
       "layout": {
        "legend": {
         "tracegroupgap": 0
        },
        "margin": {
         "t": 60
        },
        "scene": {
         "domain": {
          "x": [
           0,
           1
          ],
          "y": [
           0,
           1
          ]
         },
         "xaxis": {
          "title": {
           "text": "feature1"
          }
         },
         "yaxis": {
          "title": {
           "text": "feature2"
          }
         },
         "zaxis": {
          "title": {
           "text": "target"
          }
         }
        },
        "template": {
         "data": {
          "bar": [
           {
            "error_x": {
             "color": "#2a3f5f"
            },
            "error_y": {
             "color": "#2a3f5f"
            },
            "marker": {
             "line": {
              "color": "#E5ECF6",
              "width": 0.5
             },
             "pattern": {
              "fillmode": "overlay",
              "size": 10,
              "solidity": 0.2
             }
            },
            "type": "bar"
           }
          ],
          "barpolar": [
           {
            "marker": {
             "line": {
              "color": "#E5ECF6",
              "width": 0.5
             },
             "pattern": {
              "fillmode": "overlay",
              "size": 10,
              "solidity": 0.2
             }
            },
            "type": "barpolar"
           }
          ],
          "carpet": [
           {
            "aaxis": {
             "endlinecolor": "#2a3f5f",
             "gridcolor": "white",
             "linecolor": "white",
             "minorgridcolor": "white",
             "startlinecolor": "#2a3f5f"
            },
            "baxis": {
             "endlinecolor": "#2a3f5f",
             "gridcolor": "white",
             "linecolor": "white",
             "minorgridcolor": "white",
             "startlinecolor": "#2a3f5f"
            },
            "type": "carpet"
           }
          ],
          "choropleth": [
           {
            "colorbar": {
             "outlinewidth": 0,
             "ticks": ""
            },
            "type": "choropleth"
           }
          ],
          "contour": [
           {
            "colorbar": {
             "outlinewidth": 0,
             "ticks": ""
            },
            "colorscale": [
             [
              0,
              "#0d0887"
             ],
             [
              0.1111111111111111,
              "#46039f"
             ],
             [
              0.2222222222222222,
              "#7201a8"
             ],
             [
              0.3333333333333333,
              "#9c179e"
             ],
             [
              0.4444444444444444,
              "#bd3786"
             ],
             [
              0.5555555555555556,
              "#d8576b"
             ],
             [
              0.6666666666666666,
              "#ed7953"
             ],
             [
              0.7777777777777778,
              "#fb9f3a"
             ],
             [
              0.8888888888888888,
              "#fdca26"
             ],
             [
              1,
              "#f0f921"
             ]
            ],
            "type": "contour"
           }
          ],
          "contourcarpet": [
           {
            "colorbar": {
             "outlinewidth": 0,
             "ticks": ""
            },
            "type": "contourcarpet"
           }
          ],
          "heatmap": [
           {
            "colorbar": {
             "outlinewidth": 0,
             "ticks": ""
            },
            "colorscale": [
             [
              0,
              "#0d0887"
             ],
             [
              0.1111111111111111,
              "#46039f"
             ],
             [
              0.2222222222222222,
              "#7201a8"
             ],
             [
              0.3333333333333333,
              "#9c179e"
             ],
             [
              0.4444444444444444,
              "#bd3786"
             ],
             [
              0.5555555555555556,
              "#d8576b"
             ],
             [
              0.6666666666666666,
              "#ed7953"
             ],
             [
              0.7777777777777778,
              "#fb9f3a"
             ],
             [
              0.8888888888888888,
              "#fdca26"
             ],
             [
              1,
              "#f0f921"
             ]
            ],
            "type": "heatmap"
           }
          ],
          "heatmapgl": [
           {
            "colorbar": {
             "outlinewidth": 0,
             "ticks": ""
            },
            "colorscale": [
             [
              0,
              "#0d0887"
             ],
             [
              0.1111111111111111,
              "#46039f"
             ],
             [
              0.2222222222222222,
              "#7201a8"
             ],
             [
              0.3333333333333333,
              "#9c179e"
             ],
             [
              0.4444444444444444,
              "#bd3786"
             ],
             [
              0.5555555555555556,
              "#d8576b"
             ],
             [
              0.6666666666666666,
              "#ed7953"
             ],
             [
              0.7777777777777778,
              "#fb9f3a"
             ],
             [
              0.8888888888888888,
              "#fdca26"
             ],
             [
              1,
              "#f0f921"
             ]
            ],
            "type": "heatmapgl"
           }
          ],
          "histogram": [
           {
            "marker": {
             "pattern": {
              "fillmode": "overlay",
              "size": 10,
              "solidity": 0.2
             }
            },
            "type": "histogram"
           }
          ],
          "histogram2d": [
           {
            "colorbar": {
             "outlinewidth": 0,
             "ticks": ""
            },
            "colorscale": [
             [
              0,
              "#0d0887"
             ],
             [
              0.1111111111111111,
              "#46039f"
             ],
             [
              0.2222222222222222,
              "#7201a8"
             ],
             [
              0.3333333333333333,
              "#9c179e"
             ],
             [
              0.4444444444444444,
              "#bd3786"
             ],
             [
              0.5555555555555556,
              "#d8576b"
             ],
             [
              0.6666666666666666,
              "#ed7953"
             ],
             [
              0.7777777777777778,
              "#fb9f3a"
             ],
             [
              0.8888888888888888,
              "#fdca26"
             ],
             [
              1,
              "#f0f921"
             ]
            ],
            "type": "histogram2d"
           }
          ],
          "histogram2dcontour": [
           {
            "colorbar": {
             "outlinewidth": 0,
             "ticks": ""
            },
            "colorscale": [
             [
              0,
              "#0d0887"
             ],
             [
              0.1111111111111111,
              "#46039f"
             ],
             [
              0.2222222222222222,
              "#7201a8"
             ],
             [
              0.3333333333333333,
              "#9c179e"
             ],
             [
              0.4444444444444444,
              "#bd3786"
             ],
             [
              0.5555555555555556,
              "#d8576b"
             ],
             [
              0.6666666666666666,
              "#ed7953"
             ],
             [
              0.7777777777777778,
              "#fb9f3a"
             ],
             [
              0.8888888888888888,
              "#fdca26"
             ],
             [
              1,
              "#f0f921"
             ]
            ],
            "type": "histogram2dcontour"
           }
          ],
          "mesh3d": [
           {
            "colorbar": {
             "outlinewidth": 0,
             "ticks": ""
            },
            "type": "mesh3d"
           }
          ],
          "parcoords": [
           {
            "line": {
             "colorbar": {
              "outlinewidth": 0,
              "ticks": ""
             }
            },
            "type": "parcoords"
           }
          ],
          "pie": [
           {
            "automargin": true,
            "type": "pie"
           }
          ],
          "scatter": [
           {
            "fillpattern": {
             "fillmode": "overlay",
             "size": 10,
             "solidity": 0.2
            },
            "type": "scatter"
           }
          ],
          "scatter3d": [
           {
            "line": {
             "colorbar": {
              "outlinewidth": 0,
              "ticks": ""
             }
            },
            "marker": {
             "colorbar": {
              "outlinewidth": 0,
              "ticks": ""
             }
            },
            "type": "scatter3d"
           }
          ],
          "scattercarpet": [
           {
            "marker": {
             "colorbar": {
              "outlinewidth": 0,
              "ticks": ""
             }
            },
            "type": "scattercarpet"
           }
          ],
          "scattergeo": [
           {
            "marker": {
             "colorbar": {
              "outlinewidth": 0,
              "ticks": ""
             }
            },
            "type": "scattergeo"
           }
          ],
          "scattergl": [
           {
            "marker": {
             "colorbar": {
              "outlinewidth": 0,
              "ticks": ""
             }
            },
            "type": "scattergl"
           }
          ],
          "scattermapbox": [
           {
            "marker": {
             "colorbar": {
              "outlinewidth": 0,
              "ticks": ""
             }
            },
            "type": "scattermapbox"
           }
          ],
          "scatterpolar": [
           {
            "marker": {
             "colorbar": {
              "outlinewidth": 0,
              "ticks": ""
             }
            },
            "type": "scatterpolar"
           }
          ],
          "scatterpolargl": [
           {
            "marker": {
             "colorbar": {
              "outlinewidth": 0,
              "ticks": ""
             }
            },
            "type": "scatterpolargl"
           }
          ],
          "scatterternary": [
           {
            "marker": {
             "colorbar": {
              "outlinewidth": 0,
              "ticks": ""
             }
            },
            "type": "scatterternary"
           }
          ],
          "surface": [
           {
            "colorbar": {
             "outlinewidth": 0,
             "ticks": ""
            },
            "colorscale": [
             [
              0,
              "#0d0887"
             ],
             [
              0.1111111111111111,
              "#46039f"
             ],
             [
              0.2222222222222222,
              "#7201a8"
             ],
             [
              0.3333333333333333,
              "#9c179e"
             ],
             [
              0.4444444444444444,
              "#bd3786"
             ],
             [
              0.5555555555555556,
              "#d8576b"
             ],
             [
              0.6666666666666666,
              "#ed7953"
             ],
             [
              0.7777777777777778,
              "#fb9f3a"
             ],
             [
              0.8888888888888888,
              "#fdca26"
             ],
             [
              1,
              "#f0f921"
             ]
            ],
            "type": "surface"
           }
          ],
          "table": [
           {
            "cells": {
             "fill": {
              "color": "#EBF0F8"
             },
             "line": {
              "color": "white"
             }
            },
            "header": {
             "fill": {
              "color": "#C8D4E3"
             },
             "line": {
              "color": "white"
             }
            },
            "type": "table"
           }
          ]
         },
         "layout": {
          "annotationdefaults": {
           "arrowcolor": "#2a3f5f",
           "arrowhead": 0,
           "arrowwidth": 1
          },
          "autotypenumbers": "strict",
          "coloraxis": {
           "colorbar": {
            "outlinewidth": 0,
            "ticks": ""
           }
          },
          "colorscale": {
           "diverging": [
            [
             0,
             "#8e0152"
            ],
            [
             0.1,
             "#c51b7d"
            ],
            [
             0.2,
             "#de77ae"
            ],
            [
             0.3,
             "#f1b6da"
            ],
            [
             0.4,
             "#fde0ef"
            ],
            [
             0.5,
             "#f7f7f7"
            ],
            [
             0.6,
             "#e6f5d0"
            ],
            [
             0.7,
             "#b8e186"
            ],
            [
             0.8,
             "#7fbc41"
            ],
            [
             0.9,
             "#4d9221"
            ],
            [
             1,
             "#276419"
            ]
           ],
           "sequential": [
            [
             0,
             "#0d0887"
            ],
            [
             0.1111111111111111,
             "#46039f"
            ],
            [
             0.2222222222222222,
             "#7201a8"
            ],
            [
             0.3333333333333333,
             "#9c179e"
            ],
            [
             0.4444444444444444,
             "#bd3786"
            ],
            [
             0.5555555555555556,
             "#d8576b"
            ],
            [
             0.6666666666666666,
             "#ed7953"
            ],
            [
             0.7777777777777778,
             "#fb9f3a"
            ],
            [
             0.8888888888888888,
             "#fdca26"
            ],
            [
             1,
             "#f0f921"
            ]
           ],
           "sequentialminus": [
            [
             0,
             "#0d0887"
            ],
            [
             0.1111111111111111,
             "#46039f"
            ],
            [
             0.2222222222222222,
             "#7201a8"
            ],
            [
             0.3333333333333333,
             "#9c179e"
            ],
            [
             0.4444444444444444,
             "#bd3786"
            ],
            [
             0.5555555555555556,
             "#d8576b"
            ],
            [
             0.6666666666666666,
             "#ed7953"
            ],
            [
             0.7777777777777778,
             "#fb9f3a"
            ],
            [
             0.8888888888888888,
             "#fdca26"
            ],
            [
             1,
             "#f0f921"
            ]
           ]
          },
          "colorway": [
           "#636efa",
           "#EF553B",
           "#00cc96",
           "#ab63fa",
           "#FFA15A",
           "#19d3f3",
           "#FF6692",
           "#B6E880",
           "#FF97FF",
           "#FECB52"
          ],
          "font": {
           "color": "#2a3f5f"
          },
          "geo": {
           "bgcolor": "white",
           "lakecolor": "white",
           "landcolor": "#E5ECF6",
           "showlakes": true,
           "showland": true,
           "subunitcolor": "white"
          },
          "hoverlabel": {
           "align": "left"
          },
          "hovermode": "closest",
          "mapbox": {
           "style": "light"
          },
          "paper_bgcolor": "white",
          "plot_bgcolor": "#E5ECF6",
          "polar": {
           "angularaxis": {
            "gridcolor": "white",
            "linecolor": "white",
            "ticks": ""
           },
           "bgcolor": "#E5ECF6",
           "radialaxis": {
            "gridcolor": "white",
            "linecolor": "white",
            "ticks": ""
           }
          },
          "scene": {
           "xaxis": {
            "backgroundcolor": "#E5ECF6",
            "gridcolor": "white",
            "gridwidth": 2,
            "linecolor": "white",
            "showbackground": true,
            "ticks": "",
            "zerolinecolor": "white"
           },
           "yaxis": {
            "backgroundcolor": "#E5ECF6",
            "gridcolor": "white",
            "gridwidth": 2,
            "linecolor": "white",
            "showbackground": true,
            "ticks": "",
            "zerolinecolor": "white"
           },
           "zaxis": {
            "backgroundcolor": "#E5ECF6",
            "gridcolor": "white",
            "gridwidth": 2,
            "linecolor": "white",
            "showbackground": true,
            "ticks": "",
            "zerolinecolor": "white"
           }
          },
          "shapedefaults": {
           "line": {
            "color": "#2a3f5f"
           }
          },
          "ternary": {
           "aaxis": {
            "gridcolor": "white",
            "linecolor": "white",
            "ticks": ""
           },
           "baxis": {
            "gridcolor": "white",
            "linecolor": "white",
            "ticks": ""
           },
           "bgcolor": "#E5ECF6",
           "caxis": {
            "gridcolor": "white",
            "linecolor": "white",
            "ticks": ""
           }
          },
          "title": {
           "x": 0.05
          },
          "xaxis": {
           "automargin": true,
           "gridcolor": "white",
           "linecolor": "white",
           "ticks": "",
           "title": {
            "standoff": 15
           },
           "zerolinecolor": "white",
           "zerolinewidth": 2
          },
          "yaxis": {
           "automargin": true,
           "gridcolor": "white",
           "linecolor": "white",
           "ticks": "",
           "title": {
            "standoff": 15
           },
           "zerolinecolor": "white",
           "zerolinewidth": 2
          }
         }
        }
       }
      }
     },
     "metadata": {},
     "output_type": "display_data"
    }
   ],
   "source": [
    "x = np.linspace(-5, 5, 10)\n",
    "y = np.linspace(-5, 5, 10)\n",
    "xGrid, yGrid = np.meshgrid(y, x)\n",
    "\n",
    "final = np.vstack((xGrid.ravel().reshape(1,100),yGrid.ravel().reshape(1,100))).T\n",
    "z_final = lr.predict(final).reshape(10,10)\n",
    "\n",
    "z = z_final\n",
    "\n",
    "fig = px.scatter_3d(df, x='feature1', y='feature2', z='target')\n",
    "\n",
    "fig.add_trace(go.Surface(x = x, y = y, z =z ))\n",
    "\n",
    "fig.show()\n",
    "     "
   ]
  },
  {
   "cell_type": "code",
   "execution_count": 22,
   "metadata": {},
   "outputs": [
    {
     "data": {
      "text/plain": [
       "array([34.9517864 , 99.95001913])"
      ]
     },
     "execution_count": 22,
     "metadata": {},
     "output_type": "execute_result"
    }
   ],
   "source": [
    "lr.coef_"
   ]
  },
  {
   "cell_type": "code",
   "execution_count": 23,
   "metadata": {},
   "outputs": [
    {
     "data": {
      "text/plain": [
       "10.857624812625957"
      ]
     },
     "execution_count": 23,
     "metadata": {},
     "output_type": "execute_result"
    }
   ],
   "source": [
    "lr.intercept_"
   ]
  },
  {
   "cell_type": "code",
   "execution_count": null,
   "metadata": {},
   "outputs": [],
   "source": []
  }
 ],
 "metadata": {
  "kernelspec": {
   "display_name": "Python 3",
   "language": "python",
   "name": "python3"
  },
  "language_info": {
   "codemirror_mode": {
    "name": "ipython",
    "version": 3
   },
   "file_extension": ".py",
   "mimetype": "text/x-python",
   "name": "python",
   "nbconvert_exporter": "python",
   "pygments_lexer": "ipython3",
   "version": "3.11.4"
  }
 },
 "nbformat": 4,
 "nbformat_minor": 2
}
