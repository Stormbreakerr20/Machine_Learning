{
 "cells": [
  {
   "cell_type": "markdown",
   "metadata": {},
   "source": [
    "## MAE :: Mean Absolute Error\n",
    "1. | y_pred - y_actual | / n\n",
    "\n",
    "2. we want MAE to be min :: for MAE error is in terms of y only i.e independent of X\n",
    "3. Units Remain same\n",
    "3. Robust to Outliers :: Handles Outliers\n",
    "4. DISADV :: Not differentiable "
   ]
  },
  {
   "cell_type": "markdown",
   "metadata": {},
   "source": [
    "## MSE :: Mean Squared Error\n",
    "1. [y_pred - y_actual]**2/n\n",
    "\n",
    "2. Differntaible\n",
    "3. DISADV :: Units issue :: if y = lpa ==> error = (lpa)**2\n",
    "4. Can't Handle Outliers :: not robust to outliers"
   ]
  },
  {
   "cell_type": "markdown",
   "metadata": {},
   "source": [
    "## RMSE :: Root Mean Squared Error\n",
    "1. sqrt ( [y_pred - y_actual]**2/n )\n",
    "\n",
    "2. Differntaible\n",
    "3. Units Remain Same\n",
    "4. Can't Handle Outliers :: not robust to outliers"
   ]
  },
  {
   "cell_type": "markdown",
   "metadata": {},
   "source": [
    "## R-2 Score - goodness of fit\n",
    "0. R2 = 0.78 means it is able to explain 78% variance of output \n",
    "\n",
    "1. 1 - ( (Sum of Sq. error in reg line)/(Sum of Sq. error in mean line) )\n",
    "\n",
    "2. difference between Reg Line and Mean line of data wrt Y\n",
    "3. As we move towards 1 the model is good if towards ==> 0 model worse\n",
    "4. If negative ==> very bad model as error to much :: Example applying lin reg on non linear data\n",
    "\n",
    "5. Adjusted R2 is better as if we add some Irrelevant column/ input then too r2 increase. that's a problem"
   ]
  },
  {
   "cell_type": "markdown",
   "metadata": {},
   "source": [
    "## Adjusted R2\n",
    "1. 1 - [[(1-R2)*(n-1)] / (n - 1 - k)]\n",
    "2. n = rows, k = total independent columns"
   ]
  }
 ],
 "metadata": {
  "language_info": {
   "name": "python"
  }
 },
 "nbformat": 4,
 "nbformat_minor": 2
}
