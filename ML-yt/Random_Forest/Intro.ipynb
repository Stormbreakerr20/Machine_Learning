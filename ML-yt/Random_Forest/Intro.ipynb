{
 "cells": [
  {
   "cell_type": "markdown",
   "metadata": {},
   "source": [
    "## Very Imp Algo \n",
    "1. Applied to both Reg/Classification/Any Type of Data-set\n",
    "2. Not Much Tuning Reqd\n",
    "3. Collection Of Trees \n",
    "4. Bagging Technique"
   ]
  },
  {
   "cell_type": "markdown",
   "metadata": {},
   "source": [
    "# Random Forest = Bagging on Collection of DT \n",
    "1. Random = Bagging of DT\n",
    "2. Forest = Collection of Trees/DT"
   ]
  },
  {
   "cell_type": "markdown",
   "metadata": {},
   "source": [
    "## Why Random Forest Perform Well\n",
    "1. LBLV tradeoff as Bagging involved"
   ]
  },
  {
   "cell_type": "markdown",
   "metadata": {},
   "source": [
    "# Interview Question \n",
    "## Random Forest Vs Bagging\n",
    "1. You can use any algo in Bagging ex all KNN or KNN + DT + SVM etc  ::: default is DT in Bagging  v/s In RF only DT used as Bagging base\n",
    "## If we make Bagging as all DT then is it RF???? \n",
    "1. No\n",
    "2. difference occur at Feature or Column Sampling \n",
    "3. In Bagging there is Tree level Sampling in RF node lvl Sampling\n",
    "4. Ex 1,2,3,4,5 are your columns then in Bagging(2 col) let DT1 get 1,3 DT2 get 4,5 so now for all nodes that will be created in respective trees will have same columns as main node\n",
    "5. But in RF at each node sampling of cols happend so for DT1 head node might have 1,3 and next node have 4,5 as cols\n",
    "\n",
    "6. Extra Randomness in RF"
   ]
  },
  {
   "cell_type": "markdown",
   "metadata": {},
   "source": []
  }
 ],
 "metadata": {
  "language_info": {
   "name": "python"
  }
 },
 "nbformat": 4,
 "nbformat_minor": 2
}
