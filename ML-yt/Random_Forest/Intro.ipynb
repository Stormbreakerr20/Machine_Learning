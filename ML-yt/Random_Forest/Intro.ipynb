{
 "cells": [
  {
   "cell_type": "markdown",
   "metadata": {},
   "source": [
    "## Very Imp Algo \n",
    "1. Applied to both Reg/Classification\n",
    "2. Not Much Tuning Reqd\n",
    "3. Collection Of Trees \n",
    "4. Bagging Technique"
   ]
  },
  {
   "cell_type": "code",
   "execution_count": null,
   "metadata": {},
   "outputs": [],
   "source": []
  }
 ],
 "metadata": {
  "language_info": {
   "name": "python"
  }
 },
 "nbformat": 4,
 "nbformat_minor": 2
}
