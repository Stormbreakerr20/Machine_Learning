{
 "cells": [
  {
   "cell_type": "markdown",
   "metadata": {},
   "source": [
    "# Anaconda\n",
    "install anaconda ans\n",
    "set up jupyter notebook"
   ]
  },
  {
   "cell_type": "markdown",
   "metadata": {},
   "source": [
    "# Virtual Env\n",
    "Open anaconda prompt -> Create a new Env"
   ]
  },
  {
   "cell_type": "markdown",
   "metadata": {},
   "source": [
    "1. conda create --name [name you like]  // let name = first\n",
    "2. conda activate first // Now you enterd in your own Env\n",
    "3. conda install -c anaconda jupyter\n",
    "4. jupyter notebook\n",
    "5. Method-1: Now which ever module needed install in conda prompt\n",
    "6. Method-2: !pip install lib in jupyter itself\n",
    "7. To deactivate: deactivate\n"
   ]
  },
  {
   "cell_type": "markdown",
   "metadata": {},
   "source": [
    "# Subplot\n",
    "figure, axis = plt.subplots(2, 2)\n",
    "  \n",
    "axis[0, 0].plot(X, Y1)\n",
    "axis[0, 0].set_title(\"Sine Function\")\n",
    "\n",
    "axis[0, 1].plot(X, Y2)\n",
    "axis[0, 1].set_title(\"Cosine Function\")\n",
    "\n",
    "axis[1, 0].plot(X, Y3)\n",
    "axis[1, 0].set_title(\"Tangent Function\")\n",
    "  \n",
    "axis[1, 1].plot(X, Y4)\n",
    "axis[1, 1].set_title(\"Tanh Function\")\n",
    "  "
   ]
  },
  {
   "cell_type": "markdown",
   "metadata": {},
   "source": []
  }
 ],
 "metadata": {
  "language_info": {
   "name": "python"
  },
  "orig_nbformat": 4
 },
 "nbformat": 4,
 "nbformat_minor": 2
}
