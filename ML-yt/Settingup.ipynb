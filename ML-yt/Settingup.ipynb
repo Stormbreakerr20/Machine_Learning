{
 "cells": [
  {
   "cell_type": "markdown",
   "metadata": {},
   "source": [
    "# Anaconda\n",
    "install anaconda ans\n",
    "set up jupyter notebook"
   ]
  },
  {
   "cell_type": "markdown",
   "metadata": {},
   "source": [
    "# Virtual Env\n",
    "Open anaconda prompt -> Create a new Env"
   ]
  },
  {
   "cell_type": "markdown",
   "metadata": {},
   "source": [
    "1. conda create --name [name you like]  // let name = first\n",
    "2. conda activate first // Now you enterd in your own Env\n",
    "3. conda install -c anaconda jupyter\n",
    "4. jupyter notebook\n",
    "5. Method-1: Now which ever module needed install in conda prompt\n",
    "6. Method-2: !pip install lib in jupyter itself\n",
    "7. To deactivate: deactivate\n"
   ]
  },
  {
   "cell_type": "markdown",
   "metadata": {},
   "source": [
    "# Subplot\n",
    "fig ,(ax1,ax2 ) = plt.subplots(ncols=2,figsize = (12,5))\n",
    "\n",
    "ax1.scatter(X_train['Age'],X_train['EstimatedSalary'])\n",
    "ax1.set_title(\"Before Scaling\")\n",
    "\n",
    "ax2.scatter(X_train_scaled['Age'],X_train_scaled['EstimatedSalary'],c='r')\n",
    "ax2.set_title(\"Before Scaling\")\n",
    "\n",
    "plt.show()"
   ]
  },
  {
   "cell_type": "markdown",
   "metadata": {},
   "source": []
  }
 ],
 "metadata": {
  "language_info": {
   "name": "python"
  },
  "orig_nbformat": 4
 },
 "nbformat": 4,
 "nbformat_minor": 2
}
