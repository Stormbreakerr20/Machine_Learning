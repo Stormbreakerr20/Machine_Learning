{
 "cells": [
  {
   "cell_type": "markdown",
   "metadata": {},
   "source": [
    "# Code To Convert Video to Images \n",
    "### Use: For presentation preparation via youtube Videos"
   ]
  },
  {
   "cell_type": "code",
   "execution_count": 12,
   "metadata": {},
   "outputs": [],
   "source": [
    "# !pip install opencv-python\n",
    "# !pip install pytube"
   ]
  },
  {
   "cell_type": "code",
   "execution_count": 8,
   "metadata": {},
   "outputs": [],
   "source": [
    "import cv2\n",
    "from pytube import YouTube\n",
    "import os "
   ]
  },
  {
   "cell_type": "code",
   "execution_count": 9,
   "metadata": {},
   "outputs": [],
   "source": [
    "current_directory = os.getcwd()\n",
    "videos_directory = os.path.join(current_directory, 'Videos')\n",
    "\n",
    "Video_Number = len(os.listdir(videos_directory)) + 1"
   ]
  },
  {
   "cell_type": "code",
   "execution_count": 10,
   "metadata": {},
   "outputs": [],
   "source": [
    "directory = f\"Videos/Video{Video_Number}\"\n",
    "if not os.path.exists(directory):\n",
    "    os.makedirs(directory)"
   ]
  },
  {
   "cell_type": "markdown",
   "metadata": {},
   "source": [
    "### For youtube videos"
   ]
  },
  {
   "cell_type": "code",
   "execution_count": 14,
   "metadata": {},
   "outputs": [],
   "source": [
    "yt = YouTube(\"Youtube Video URL\")\n",
    "\n",
    "# Can modfiy the file_extension and resolution to download the video in different formats\n",
    "video_stream = yt.streams.filter(file_extension=\"mp4\", resolution='1080p').first()\n",
    "\n",
    "path = f'{directory}'\n",
    "video_stream.download(path)"
   ]
  },
  {
   "cell_type": "markdown",
   "metadata": {},
   "source": [
    "### For local videos"
   ]
  },
  {
   "cell_type": "code",
   "execution_count": null,
   "metadata": {},
   "outputs": [],
   "source": [
    "# '\\' to '/'\n",
    "path = \"LOCAL_PATH\""
   ]
  },
  {
   "cell_type": "code",
   "execution_count": 12,
   "metadata": {},
   "outputs": [],
   "source": [
    "vidcap = cv2.VideoCapture('Your Downloaded Video Path')"
   ]
  },
  {
   "cell_type": "code",
   "execution_count": 13,
   "metadata": {},
   "outputs": [],
   "source": [
    "count = 0\n",
    "\n",
    "# Capture a frame every 5 seconds. Can modify the interval_seconds to capture frames at different intervals\n",
    "interval_seconds = 5\n",
    "\n",
    "while vidcap.isOpened():\n",
    "    success, image = vidcap.read()\n",
    "    if not success:\n",
    "        break \n",
    "    \n",
    "    # Capture a frame every 2 seconds\n",
    "    if count == 0 or count % (int(vidcap.get(cv2.CAP_PROP_FPS)) * interval_seconds) == 0:\n",
    "        cv2.imwrite(f\"{directory}/{count}.png\", image)\n",
    "    \n",
    "    count += 1\n",
    "\n",
    "# Release the video capture object\n",
    "vidcap.release()"
   ]
  }
 ],
 "metadata": {
  "kernelspec": {
   "display_name": "Python 3",
   "language": "python",
   "name": "python3"
  },
  "language_info": {
   "codemirror_mode": {
    "name": "ipython",
    "version": 3
   },
   "file_extension": ".py",
   "mimetype": "text/x-python",
   "name": "python",
   "nbconvert_exporter": "python",
   "pygments_lexer": "ipython3",
   "version": "3.11.4"
  }
 },
 "nbformat": 4,
 "nbformat_minor": 2
}
